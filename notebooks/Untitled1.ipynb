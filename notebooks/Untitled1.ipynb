{
 "cells": [
  {
   "cell_type": "code",
   "execution_count": 2,
   "metadata": {},
   "outputs": [],
   "source": [
    "import plotly.graph_objects as go\n",
    "import geopandas as gpd\n",
    "import plotly.express as px\n",
    "import json\n",
    "import matplotlib.pyplot as plt\n",
    "import seaborn as sns\n",
    "import pandas as pd\n",
    "from pathlib import Path"
   ]
  },
  {
   "cell_type": "code",
   "execution_count": 3,
   "metadata": {},
   "outputs": [],
   "source": [
    "import pandas as pd\n",
    "from pathlib import Path\n",
    "\n",
    "data_dir=Path('/Users/suzinyou/workspace/ineq') / 'data' / '10. 데이터산출물'\n",
    "dfs = pd.read_excel('/Users/suzinyou/Dropbox/가천대 서울연구원 프로젝트/10. 데이터산출물/03_quantiles/income_shares.xlsx', sheet_name=None)"
   ]
  },
  {
   "cell_type": "code",
   "execution_count": 19,
   "metadata": {},
   "outputs": [],
   "source": [
    "df = dfs['kr_adult20_earner']"
   ]
  },
  {
   "cell_type": "code",
   "execution_count": 20,
   "metadata": {},
   "outputs": [
    {
     "data": {
      "text/html": [
       "<div>\n",
       "<style scoped>\n",
       "    .dataframe tbody tr th:only-of-type {\n",
       "        vertical-align: middle;\n",
       "    }\n",
       "\n",
       "    .dataframe tbody tr th {\n",
       "        vertical-align: top;\n",
       "    }\n",
       "\n",
       "    .dataframe thead th {\n",
       "        text-align: right;\n",
       "    }\n",
       "</style>\n",
       "<table border=\"1\" class=\"dataframe\">\n",
       "  <thead>\n",
       "    <tr style=\"text-align: right;\">\n",
       "      <th></th>\n",
       "      <th>var</th>\n",
       "      <th>std_yyyy</th>\n",
       "      <th>income_group</th>\n",
       "      <th>share</th>\n",
       "    </tr>\n",
       "  </thead>\n",
       "  <tbody>\n",
       "    <tr>\n",
       "      <th>0</th>\n",
       "      <td>inc_bus</td>\n",
       "      <td>2003</td>\n",
       "      <td>Bottom 20%</td>\n",
       "      <td>0.009687</td>\n",
       "    </tr>\n",
       "    <tr>\n",
       "      <th>1</th>\n",
       "      <td>inc_bus</td>\n",
       "      <td>2003</td>\n",
       "      <td>Next 30%</td>\n",
       "      <td>0.049785</td>\n",
       "    </tr>\n",
       "    <tr>\n",
       "      <th>2</th>\n",
       "      <td>inc_bus</td>\n",
       "      <td>2003</td>\n",
       "      <td>Bottom 50%</td>\n",
       "      <td>0.073589</td>\n",
       "    </tr>\n",
       "    <tr>\n",
       "      <th>3</th>\n",
       "      <td>inc_bus</td>\n",
       "      <td>2003</td>\n",
       "      <td>Middle 40%</td>\n",
       "      <td>0.330217</td>\n",
       "    </tr>\n",
       "    <tr>\n",
       "      <th>4</th>\n",
       "      <td>inc_bus</td>\n",
       "      <td>2003</td>\n",
       "      <td>Top 10%</td>\n",
       "      <td>0.596193</td>\n",
       "    </tr>\n",
       "  </tbody>\n",
       "</table>\n",
       "</div>"
      ],
      "text/plain": [
       "       var  std_yyyy income_group     share\n",
       "0  inc_bus      2003   Bottom 20%  0.009687\n",
       "1  inc_bus      2003     Next 30%  0.049785\n",
       "2  inc_bus      2003   Bottom 50%  0.073589\n",
       "3  inc_bus      2003   Middle 40%  0.330217\n",
       "4  inc_bus      2003      Top 10%  0.596193"
      ]
     },
     "execution_count": 20,
     "metadata": {},
     "output_type": "execute_result"
    }
   ],
   "source": [
    "df.head()"
   ]
  },
  {
   "cell_type": "code",
   "execution_count": 21,
   "metadata": {},
   "outputs": [],
   "source": [
    "var = 'inc_wage'"
   ]
  },
  {
   "cell_type": "code",
   "execution_count": 99,
   "metadata": {},
   "outputs": [],
   "source": [
    "colors = px.colors.qualitative.Plotly\n",
    "pastels = px.colors.qualitative.Pastel1\n",
    "color_discrete_map = {\n",
    "    'Bottom 50%': colors[0], \n",
    "    'Middle 40%': colors[2], \n",
    "    'Top 10%': colors[1],\n",
    "    'Bottom 20%': pastels[1],\n",
    "    'Top 1%': pastels[0]\n",
    "}\n",
    "\n",
    "fig = px.bar(\n",
    "    df[(df['var'] == var) & (df['income_group'].apply(lambda x: x in ['Bottom 50%', 'Middle 40%', 'Top 10%']))], \n",
    "    x=\"std_yyyy\", y=\"share\", color=\"income_group\", title=\"inc_tot\", color_discrete_map=color_discrete_map, \n",
    "    width=50*12, height=50*8\n",
    "            )\n",
    "\n",
    "bottom20 = df[(df['var'] == var) & (df['income_group']=='Bottom 20%')]\n",
    "fig.add_trace(go.Scatter(x=bottom20.std_yyyy, y=bottom20.share,\n",
    "                        mode='lines+markers',\n",
    "                        name='Bottom 20%',\n",
    "                        line=dict(color=pastels[1]),\n",
    "                        marker=dict(color=pastels[1])))\n",
    "\n",
    "top1 = df[(df['var'] == var) & (df['income_group']=='Top 1%')].copy()\n",
    "top1['share'] = 1-top1['share']\n",
    "fig.add_trace(go.Scatter(x=top1.std_yyyy, y=top1.share,\n",
    "                        mode='lines+markers',\n",
    "                        name='Top 1%',\n",
    "                        line=dict(color=pastels[0]),\n",
    "                        marker=dict(color=pastels[0])))\n",
    "fig.show()"
   ]
  },
  {
   "cell_type": "code",
   "execution_count": 75,
   "metadata": {},
   "outputs": [
    {
     "data": {
      "application/vnd.plotly.v1+json": {
       "config": {
        "plotlyServerURL": "https://plotly.com"
       },
       "data": [
        {
         "hovertemplate": "income_group=Bottom 20%<br>var=inc_wage<br>std_yyyy=%{x}<br>share=%{y}<extra></extra>",
         "legendgroup": "Bottom 20%",
         "line": {
          "color": "#636efa",
          "dash": "solid",
          "width": 2.4
         },
         "mode": "lines+markers",
         "name": "Bottom 20%",
         "orientation": "v",
         "showlegend": true,
         "type": "scatter",
         "x": [
          2003,
          2006,
          2010,
          2014,
          2018
         ],
         "xaxis": "x",
         "y": [
          0.0244363599807011,
          0.0261472205084889,
          0.02715646213940828,
          0.02901389742940933,
          0.03202676709685877
         ],
         "yaxis": "y"
        },
        {
         "hovertemplate": "income_group=Next 30%<br>var=inc_wage<br>std_yyyy=%{x}<br>share=%{y}<extra></extra>",
         "legendgroup": "Next 30%",
         "line": {
          "color": "#EF553B",
          "dash": "dot",
          "width": 2.4
         },
         "mode": "lines+markers",
         "name": "Next 30%",
         "orientation": "v",
         "showlegend": true,
         "type": "scatter",
         "x": [
          2003,
          2006,
          2010,
          2014,
          2018
         ],
         "xaxis": "x",
         "y": [
          0.1111193626921711,
          0.1074016627967724,
          0.1053340994345738,
          0.1097940272431681,
          0.1181252417147692
         ],
         "yaxis": "y"
        },
        {
         "hovertemplate": "income_group=Bottom 50%<br>var=inc_wage<br>std_yyyy=%{x}<br>share=%{y}<extra></extra>",
         "legendgroup": "Bottom 50%",
         "line": {
          "color": "#00cc96",
          "dash": "dash",
          "width": 2.4
         },
         "mode": "lines+markers",
         "name": "Bottom 50%",
         "orientation": "v",
         "showlegend": true,
         "type": "scatter",
         "x": [
          2003,
          2006,
          2010,
          2014,
          2018
         ],
         "xaxis": "x",
         "y": [
          0.1690585727474941,
          0.1674912032290083,
          0.1670032574541068,
          0.1743561887337998,
          0.1908769866101479
         ],
         "yaxis": "y"
        },
        {
         "hovertemplate": "income_group=Middle 40%<br>var=inc_wage<br>std_yyyy=%{x}<br>share=%{y}<extra></extra>",
         "legendgroup": "Middle 40%",
         "line": {
          "color": "#ab63fa",
          "dash": "longdash",
          "width": 2.4
         },
         "mode": "lines+markers",
         "name": "Middle 40%",
         "orientation": "v",
         "showlegend": true,
         "type": "scatter",
         "x": [
          2003,
          2006,
          2010,
          2014,
          2018
         ],
         "xaxis": "x",
         "y": [
          0.5109839922489615,
          0.4953591712742309,
          0.4836182849033723,
          0.4821273007984898,
          0.4731912982655309
         ],
         "yaxis": "y"
        },
        {
         "hovertemplate": "income_group=Top 10%<br>var=inc_wage<br>std_yyyy=%{x}<br>share=%{y}<extra></extra>",
         "legendgroup": "Top 10%",
         "line": {
          "color": "#FFA15A",
          "dash": "dashdot",
          "width": 2.4
         },
         "mode": "lines+markers",
         "name": "Top 10%",
         "orientation": "v",
         "showlegend": true,
         "type": "scatter",
         "x": [
          2003,
          2006,
          2010,
          2014,
          2018
         ],
         "xaxis": "x",
         "y": [
          0.3199574350035444,
          0.3371496254967608,
          0.3493784576425207,
          0.3435165104677106,
          0.3359317151243213
         ],
         "yaxis": "y"
        },
        {
         "hovertemplate": "income_group=Top 1%<br>var=inc_wage<br>std_yyyy=%{x}<br>share=%{y}<extra></extra>",
         "legendgroup": "Top 1%",
         "line": {
          "color": "#19d3f3",
          "dash": "longdashdot",
          "width": 2.4
         },
         "mode": "lines+markers",
         "name": "Top 1%",
         "orientation": "v",
         "showlegend": true,
         "type": "scatter",
         "x": [
          2003,
          2006,
          2010,
          2014,
          2018
         ],
         "xaxis": "x",
         "y": [
          0.05785925035184013,
          0.06978967719557548,
          0.07500985856400581,
          0.07188688740077223,
          0.07142694298701072
         ],
         "yaxis": "y"
        }
       ],
       "layout": {
        "annotations": [
         {
          "font": {},
          "showarrow": false,
          "text": "var=inc_wage",
          "x": 0.5,
          "xanchor": "center",
          "xref": "paper",
          "y": 1,
          "yanchor": "bottom",
          "yref": "paper"
         }
        ],
        "height": 600,
        "legend": {
         "title": {
          "text": "income_group"
         },
         "tracegroupgap": 0
        },
        "margin": {
         "b": 16,
         "l": 16,
         "r": 16,
         "t": 72
        },
        "template": {
         "data": {
          "bar": [
           {
            "error_x": {
             "color": "#2a3f5f"
            },
            "error_y": {
             "color": "#2a3f5f"
            },
            "marker": {
             "line": {
              "color": "#E5ECF6",
              "width": 0.5
             }
            },
            "type": "bar"
           }
          ],
          "barpolar": [
           {
            "marker": {
             "line": {
              "color": "#E5ECF6",
              "width": 0.5
             }
            },
            "type": "barpolar"
           }
          ],
          "carpet": [
           {
            "aaxis": {
             "endlinecolor": "#2a3f5f",
             "gridcolor": "white",
             "linecolor": "white",
             "minorgridcolor": "white",
             "startlinecolor": "#2a3f5f"
            },
            "baxis": {
             "endlinecolor": "#2a3f5f",
             "gridcolor": "white",
             "linecolor": "white",
             "minorgridcolor": "white",
             "startlinecolor": "#2a3f5f"
            },
            "type": "carpet"
           }
          ],
          "choropleth": [
           {
            "colorbar": {
             "outlinewidth": 0,
             "ticks": ""
            },
            "type": "choropleth"
           }
          ],
          "contour": [
           {
            "colorbar": {
             "outlinewidth": 0,
             "ticks": ""
            },
            "colorscale": [
             [
              0,
              "#0d0887"
             ],
             [
              0.1111111111111111,
              "#46039f"
             ],
             [
              0.2222222222222222,
              "#7201a8"
             ],
             [
              0.3333333333333333,
              "#9c179e"
             ],
             [
              0.4444444444444444,
              "#bd3786"
             ],
             [
              0.5555555555555556,
              "#d8576b"
             ],
             [
              0.6666666666666666,
              "#ed7953"
             ],
             [
              0.7777777777777778,
              "#fb9f3a"
             ],
             [
              0.8888888888888888,
              "#fdca26"
             ],
             [
              1,
              "#f0f921"
             ]
            ],
            "type": "contour"
           }
          ],
          "contourcarpet": [
           {
            "colorbar": {
             "outlinewidth": 0,
             "ticks": ""
            },
            "type": "contourcarpet"
           }
          ],
          "heatmap": [
           {
            "colorbar": {
             "outlinewidth": 0,
             "ticks": ""
            },
            "colorscale": [
             [
              0,
              "#0d0887"
             ],
             [
              0.1111111111111111,
              "#46039f"
             ],
             [
              0.2222222222222222,
              "#7201a8"
             ],
             [
              0.3333333333333333,
              "#9c179e"
             ],
             [
              0.4444444444444444,
              "#bd3786"
             ],
             [
              0.5555555555555556,
              "#d8576b"
             ],
             [
              0.6666666666666666,
              "#ed7953"
             ],
             [
              0.7777777777777778,
              "#fb9f3a"
             ],
             [
              0.8888888888888888,
              "#fdca26"
             ],
             [
              1,
              "#f0f921"
             ]
            ],
            "type": "heatmap"
           }
          ],
          "heatmapgl": [
           {
            "colorbar": {
             "outlinewidth": 0,
             "ticks": ""
            },
            "colorscale": [
             [
              0,
              "#0d0887"
             ],
             [
              0.1111111111111111,
              "#46039f"
             ],
             [
              0.2222222222222222,
              "#7201a8"
             ],
             [
              0.3333333333333333,
              "#9c179e"
             ],
             [
              0.4444444444444444,
              "#bd3786"
             ],
             [
              0.5555555555555556,
              "#d8576b"
             ],
             [
              0.6666666666666666,
              "#ed7953"
             ],
             [
              0.7777777777777778,
              "#fb9f3a"
             ],
             [
              0.8888888888888888,
              "#fdca26"
             ],
             [
              1,
              "#f0f921"
             ]
            ],
            "type": "heatmapgl"
           }
          ],
          "histogram": [
           {
            "marker": {
             "colorbar": {
              "outlinewidth": 0,
              "ticks": ""
             }
            },
            "type": "histogram"
           }
          ],
          "histogram2d": [
           {
            "colorbar": {
             "outlinewidth": 0,
             "ticks": ""
            },
            "colorscale": [
             [
              0,
              "#0d0887"
             ],
             [
              0.1111111111111111,
              "#46039f"
             ],
             [
              0.2222222222222222,
              "#7201a8"
             ],
             [
              0.3333333333333333,
              "#9c179e"
             ],
             [
              0.4444444444444444,
              "#bd3786"
             ],
             [
              0.5555555555555556,
              "#d8576b"
             ],
             [
              0.6666666666666666,
              "#ed7953"
             ],
             [
              0.7777777777777778,
              "#fb9f3a"
             ],
             [
              0.8888888888888888,
              "#fdca26"
             ],
             [
              1,
              "#f0f921"
             ]
            ],
            "type": "histogram2d"
           }
          ],
          "histogram2dcontour": [
           {
            "colorbar": {
             "outlinewidth": 0,
             "ticks": ""
            },
            "colorscale": [
             [
              0,
              "#0d0887"
             ],
             [
              0.1111111111111111,
              "#46039f"
             ],
             [
              0.2222222222222222,
              "#7201a8"
             ],
             [
              0.3333333333333333,
              "#9c179e"
             ],
             [
              0.4444444444444444,
              "#bd3786"
             ],
             [
              0.5555555555555556,
              "#d8576b"
             ],
             [
              0.6666666666666666,
              "#ed7953"
             ],
             [
              0.7777777777777778,
              "#fb9f3a"
             ],
             [
              0.8888888888888888,
              "#fdca26"
             ],
             [
              1,
              "#f0f921"
             ]
            ],
            "type": "histogram2dcontour"
           }
          ],
          "mesh3d": [
           {
            "colorbar": {
             "outlinewidth": 0,
             "ticks": ""
            },
            "type": "mesh3d"
           }
          ],
          "parcoords": [
           {
            "line": {
             "colorbar": {
              "outlinewidth": 0,
              "ticks": ""
             }
            },
            "type": "parcoords"
           }
          ],
          "pie": [
           {
            "automargin": true,
            "type": "pie"
           }
          ],
          "scatter": [
           {
            "marker": {
             "colorbar": {
              "outlinewidth": 0,
              "ticks": ""
             }
            },
            "type": "scatter"
           }
          ],
          "scatter3d": [
           {
            "line": {
             "colorbar": {
              "outlinewidth": 0,
              "ticks": ""
             }
            },
            "marker": {
             "colorbar": {
              "outlinewidth": 0,
              "ticks": ""
             }
            },
            "type": "scatter3d"
           }
          ],
          "scattercarpet": [
           {
            "marker": {
             "colorbar": {
              "outlinewidth": 0,
              "ticks": ""
             }
            },
            "type": "scattercarpet"
           }
          ],
          "scattergeo": [
           {
            "marker": {
             "colorbar": {
              "outlinewidth": 0,
              "ticks": ""
             }
            },
            "type": "scattergeo"
           }
          ],
          "scattergl": [
           {
            "marker": {
             "colorbar": {
              "outlinewidth": 0,
              "ticks": ""
             }
            },
            "type": "scattergl"
           }
          ],
          "scattermapbox": [
           {
            "marker": {
             "colorbar": {
              "outlinewidth": 0,
              "ticks": ""
             }
            },
            "type": "scattermapbox"
           }
          ],
          "scatterpolar": [
           {
            "marker": {
             "colorbar": {
              "outlinewidth": 0,
              "ticks": ""
             }
            },
            "type": "scatterpolar"
           }
          ],
          "scatterpolargl": [
           {
            "marker": {
             "colorbar": {
              "outlinewidth": 0,
              "ticks": ""
             }
            },
            "type": "scatterpolargl"
           }
          ],
          "scatterternary": [
           {
            "marker": {
             "colorbar": {
              "outlinewidth": 0,
              "ticks": ""
             }
            },
            "type": "scatterternary"
           }
          ],
          "surface": [
           {
            "colorbar": {
             "outlinewidth": 0,
             "ticks": ""
            },
            "colorscale": [
             [
              0,
              "#0d0887"
             ],
             [
              0.1111111111111111,
              "#46039f"
             ],
             [
              0.2222222222222222,
              "#7201a8"
             ],
             [
              0.3333333333333333,
              "#9c179e"
             ],
             [
              0.4444444444444444,
              "#bd3786"
             ],
             [
              0.5555555555555556,
              "#d8576b"
             ],
             [
              0.6666666666666666,
              "#ed7953"
             ],
             [
              0.7777777777777778,
              "#fb9f3a"
             ],
             [
              0.8888888888888888,
              "#fdca26"
             ],
             [
              1,
              "#f0f921"
             ]
            ],
            "type": "surface"
           }
          ],
          "table": [
           {
            "cells": {
             "fill": {
              "color": "#EBF0F8"
             },
             "line": {
              "color": "white"
             }
            },
            "header": {
             "fill": {
              "color": "#C8D4E3"
             },
             "line": {
              "color": "white"
             }
            },
            "type": "table"
           }
          ]
         },
         "layout": {
          "annotationdefaults": {
           "arrowcolor": "#2a3f5f",
           "arrowhead": 0,
           "arrowwidth": 1
          },
          "coloraxis": {
           "colorbar": {
            "outlinewidth": 0,
            "ticks": ""
           }
          },
          "colorscale": {
           "diverging": [
            [
             0,
             "#8e0152"
            ],
            [
             0.1,
             "#c51b7d"
            ],
            [
             0.2,
             "#de77ae"
            ],
            [
             0.3,
             "#f1b6da"
            ],
            [
             0.4,
             "#fde0ef"
            ],
            [
             0.5,
             "#f7f7f7"
            ],
            [
             0.6,
             "#e6f5d0"
            ],
            [
             0.7,
             "#b8e186"
            ],
            [
             0.8,
             "#7fbc41"
            ],
            [
             0.9,
             "#4d9221"
            ],
            [
             1,
             "#276419"
            ]
           ],
           "sequential": [
            [
             0,
             "#0d0887"
            ],
            [
             0.1111111111111111,
             "#46039f"
            ],
            [
             0.2222222222222222,
             "#7201a8"
            ],
            [
             0.3333333333333333,
             "#9c179e"
            ],
            [
             0.4444444444444444,
             "#bd3786"
            ],
            [
             0.5555555555555556,
             "#d8576b"
            ],
            [
             0.6666666666666666,
             "#ed7953"
            ],
            [
             0.7777777777777778,
             "#fb9f3a"
            ],
            [
             0.8888888888888888,
             "#fdca26"
            ],
            [
             1,
             "#f0f921"
            ]
           ],
           "sequentialminus": [
            [
             0,
             "#0d0887"
            ],
            [
             0.1111111111111111,
             "#46039f"
            ],
            [
             0.2222222222222222,
             "#7201a8"
            ],
            [
             0.3333333333333333,
             "#9c179e"
            ],
            [
             0.4444444444444444,
             "#bd3786"
            ],
            [
             0.5555555555555556,
             "#d8576b"
            ],
            [
             0.6666666666666666,
             "#ed7953"
            ],
            [
             0.7777777777777778,
             "#fb9f3a"
            ],
            [
             0.8888888888888888,
             "#fdca26"
            ],
            [
             1,
             "#f0f921"
            ]
           ]
          },
          "colorway": [
           "#636efa",
           "#EF553B",
           "#00cc96",
           "#ab63fa",
           "#FFA15A",
           "#19d3f3",
           "#FF6692",
           "#B6E880",
           "#FF97FF",
           "#FECB52"
          ],
          "font": {
           "color": "#2a3f5f"
          },
          "geo": {
           "bgcolor": "white",
           "lakecolor": "white",
           "landcolor": "#E5ECF6",
           "showlakes": true,
           "showland": true,
           "subunitcolor": "white"
          },
          "hoverlabel": {
           "align": "left"
          },
          "hovermode": "closest",
          "mapbox": {
           "style": "light"
          },
          "paper_bgcolor": "white",
          "plot_bgcolor": "#E5ECF6",
          "polar": {
           "angularaxis": {
            "gridcolor": "white",
            "linecolor": "white",
            "ticks": ""
           },
           "bgcolor": "#E5ECF6",
           "radialaxis": {
            "gridcolor": "white",
            "linecolor": "white",
            "ticks": ""
           }
          },
          "scene": {
           "xaxis": {
            "backgroundcolor": "#E5ECF6",
            "gridcolor": "white",
            "gridwidth": 2,
            "linecolor": "white",
            "showbackground": true,
            "ticks": "",
            "zerolinecolor": "white"
           },
           "yaxis": {
            "backgroundcolor": "#E5ECF6",
            "gridcolor": "white",
            "gridwidth": 2,
            "linecolor": "white",
            "showbackground": true,
            "ticks": "",
            "zerolinecolor": "white"
           },
           "zaxis": {
            "backgroundcolor": "#E5ECF6",
            "gridcolor": "white",
            "gridwidth": 2,
            "linecolor": "white",
            "showbackground": true,
            "ticks": "",
            "zerolinecolor": "white"
           }
          },
          "shapedefaults": {
           "line": {
            "color": "#2a3f5f"
           }
          },
          "ternary": {
           "aaxis": {
            "gridcolor": "white",
            "linecolor": "white",
            "ticks": ""
           },
           "baxis": {
            "gridcolor": "white",
            "linecolor": "white",
            "ticks": ""
           },
           "bgcolor": "#E5ECF6",
           "caxis": {
            "gridcolor": "white",
            "linecolor": "white",
            "ticks": ""
           }
          },
          "title": {
           "x": 0.05
          },
          "xaxis": {
           "automargin": true,
           "gridcolor": "white",
           "linecolor": "white",
           "ticks": "",
           "title": {
            "standoff": 15
           },
           "zerolinecolor": "white",
           "zerolinewidth": 2
          },
          "yaxis": {
           "automargin": true,
           "gridcolor": "white",
           "linecolor": "white",
           "ticks": "",
           "title": {
            "standoff": 15
           },
           "zerolinecolor": "white",
           "zerolinewidth": 2
          }
         }
        },
        "title": {
         "text": "inc_tot"
        },
        "width": 600,
        "xaxis": {
         "anchor": "y",
         "autorange": true,
         "domain": [
          0,
          1
         ],
         "range": [
          2001.9898132427843,
          2019.0101867572157
         ],
         "title": {
          "text": "std_yyyy"
         },
         "type": "linear"
        },
        "yaxis": {
         "anchor": "x",
         "autorange": true,
         "domain": [
          0,
          1
         ],
         "range": [
          -0.007410604307706063,
          0.5428309565373687
         ],
         "title": {
          "text": "share"
         },
         "type": "linear"
        }
       }
      },
      "image/png": "[encoded data removed]",
      "text/html": [
       "<div>                            <div id=\"576b8cf9-bb8d-4275-a909-74b9ec6c76d3\" class=\"plotly-graph-div\" style=\"height:600px; width:600px;\"></div>            <script type=\"text/javascript\">                require([\"plotly\"], function(Plotly) {                    window.PLOTLYENV=window.PLOTLYENV || {};                                    if (document.getElementById(\"576b8cf9-bb8d-4275-a909-74b9ec6c76d3\")) {                    Plotly.newPlot(                        \"576b8cf9-bb8d-4275-a909-74b9ec6c76d3\",                        [{\"hovertemplate\": \"income_group=Bottom 20%<br>var=inc_wage<br>std_yyyy=%{x}<br>share=%{y}<extra></extra>\", \"legendgroup\": \"Bottom 20%\", \"line\": {\"color\": \"#636efa\", \"dash\": \"solid\", \"width\": 2.4}, \"mode\": \"lines+markers\", \"name\": \"Bottom 20%\", \"orientation\": \"v\", \"showlegend\": true, \"type\": \"scatter\", \"x\": [2003, 2006, 2010, 2014, 2018], \"xaxis\": \"x\", \"y\": [0.0244363599807011, 0.0261472205084889, 0.02715646213940828, 0.02901389742940933, 0.03202676709685877], \"yaxis\": \"y\"}, {\"hovertemplate\": \"income_group=Next 30%<br>var=inc_wage<br>std_yyyy=%{x}<br>share=%{y}<extra></extra>\", \"legendgroup\": \"Next 30%\", \"line\": {\"color\": \"#EF553B\", \"dash\": \"dot\", \"width\": 2.4}, \"mode\": \"lines+markers\", \"name\": \"Next 30%\", \"orientation\": \"v\", \"showlegend\": true, \"type\": \"scatter\", \"x\": [2003, 2006, 2010, 2014, 2018], \"xaxis\": \"x\", \"y\": [0.1111193626921711, 0.1074016627967724, 0.1053340994345738, 0.1097940272431681, 0.1181252417147692], \"yaxis\": \"y\"}, {\"hovertemplate\": \"income_group=Bottom 50%<br>var=inc_wage<br>std_yyyy=%{x}<br>share=%{y}<extra></extra>\", \"legendgroup\": \"Bottom 50%\", \"line\": {\"color\": \"#00cc96\", \"dash\": \"dash\", \"width\": 2.4}, \"mode\": \"lines+markers\", \"name\": \"Bottom 50%\", \"orientation\": \"v\", \"showlegend\": true, \"type\": \"scatter\", \"x\": [2003, 2006, 2010, 2014, 2018], \"xaxis\": \"x\", \"y\": [0.1690585727474941, 0.1674912032290083, 0.1670032574541068, 0.1743561887337998, 0.1908769866101479], \"yaxis\": \"y\"}, {\"hovertemplate\": \"income_group=Middle 40%<br>var=inc_wage<br>std_yyyy=%{x}<br>share=%{y}<extra></extra>\", \"legendgroup\": \"Middle 40%\", \"line\": {\"color\": \"#ab63fa\", \"dash\": \"longdash\", \"width\": 2.4}, \"mode\": \"lines+markers\", \"name\": \"Middle 40%\", \"orientation\": \"v\", \"showlegend\": true, \"type\": \"scatter\", \"x\": [2003, 2006, 2010, 2014, 2018], \"xaxis\": \"x\", \"y\": [0.5109839922489615, 0.4953591712742309, 0.4836182849033723, 0.4821273007984898, 0.4731912982655309], \"yaxis\": \"y\"}, {\"hovertemplate\": \"income_group=Top 10%<br>var=inc_wage<br>std_yyyy=%{x}<br>share=%{y}<extra></extra>\", \"legendgroup\": \"Top 10%\", \"line\": {\"color\": \"#FFA15A\", \"dash\": \"dashdot\", \"width\": 2.4}, \"mode\": \"lines+markers\", \"name\": \"Top 10%\", \"orientation\": \"v\", \"showlegend\": true, \"type\": \"scatter\", \"x\": [2003, 2006, 2010, 2014, 2018], \"xaxis\": \"x\", \"y\": [0.3199574350035444, 0.3371496254967608, 0.3493784576425207, 0.3435165104677106, 0.3359317151243213], \"yaxis\": \"y\"}, {\"hovertemplate\": \"income_group=Top 1%<br>var=inc_wage<br>std_yyyy=%{x}<br>share=%{y}<extra></extra>\", \"legendgroup\": \"Top 1%\", \"line\": {\"color\": \"#19d3f3\", \"dash\": \"longdashdot\", \"width\": 2.4}, \"mode\": \"lines+markers\", \"name\": \"Top 1%\", \"orientation\": \"v\", \"showlegend\": true, \"type\": \"scatter\", \"x\": [2003, 2006, 2010, 2014, 2018], \"xaxis\": \"x\", \"y\": [0.05785925035184013, 0.06978967719557548, 0.07500985856400581, 0.07188688740077223, 0.07142694298701072], \"yaxis\": \"y\"}],                        {\"annotations\": [{\"font\": {}, \"showarrow\": false, \"text\": \"var=inc_wage\", \"x\": 0.5, \"xanchor\": \"center\", \"xref\": \"paper\", \"y\": 1.0, \"yanchor\": \"bottom\", \"yref\": \"paper\"}], \"height\": 600, \"legend\": {\"title\": {\"text\": \"income_group\"}, \"tracegroupgap\": 0}, \"margin\": {\"b\": 16, \"l\": 16, \"r\": 16, \"t\": 72}, \"template\": {\"data\": {\"bar\": [{\"error_x\": {\"color\": \"#2a3f5f\"}, \"error_y\": {\"color\": \"#2a3f5f\"}, \"marker\": {\"line\": {\"color\": \"#E5ECF6\", \"width\": 0.5}}, \"type\": \"bar\"}], \"barpolar\": [{\"marker\": {\"line\": {\"color\": \"#E5ECF6\", \"width\": 0.5}}, \"type\": \"barpolar\"}], \"carpet\": [{\"aaxis\": {\"endlinecolor\": \"#2a3f5f\", \"gridcolor\": \"white\", \"linecolor\": \"white\", \"minorgridcolor\": \"white\", \"startlinecolor\": \"#2a3f5f\"}, \"baxis\": {\"endlinecolor\": \"#2a3f5f\", \"gridcolor\": \"white\", \"linecolor\": \"white\", \"minorgridcolor\": \"white\", \"startlinecolor\": \"#2a3f5f\"}, \"type\": \"carpet\"}], \"choropleth\": [{\"colorbar\": {\"outlinewidth\": 0, \"ticks\": \"\"}, \"type\": \"choropleth\"}], \"contour\": [{\"colorbar\": {\"outlinewidth\": 0, \"ticks\": \"\"}, \"colorscale\": [[0.0, \"#0d0887\"], [0.1111111111111111, \"#46039f\"], [0.2222222222222222, \"#7201a8\"], [0.3333333333333333, \"#9c179e\"], [0.4444444444444444, \"#bd3786\"], [0.5555555555555556, \"#d8576b\"], [0.6666666666666666, \"#ed7953\"], [0.7777777777777778, \"#fb9f3a\"], [0.8888888888888888, \"#fdca26\"], [1.0, \"#f0f921\"]], \"type\": \"contour\"}], \"contourcarpet\": [{\"colorbar\": {\"outlinewidth\": 0, \"ticks\": \"\"}, \"type\": \"contourcarpet\"}], \"heatmap\": [{\"colorbar\": {\"outlinewidth\": 0, \"ticks\": \"\"}, \"colorscale\": [[0.0, \"#0d0887\"], [0.1111111111111111, \"#46039f\"], [0.2222222222222222, \"#7201a8\"], [0.3333333333333333, \"#9c179e\"], [0.4444444444444444, \"#bd3786\"], [0.5555555555555556, \"#d8576b\"], [0.6666666666666666, \"#ed7953\"], [0.7777777777777778, \"#fb9f3a\"], [0.8888888888888888, \"#fdca26\"], [1.0, \"#f0f921\"]], \"type\": \"heatmap\"}], \"heatmapgl\": [{\"colorbar\": {\"outlinewidth\": 0, \"ticks\": \"\"}, \"colorscale\": [[0.0, \"#0d0887\"], [0.1111111111111111, \"#46039f\"], [0.2222222222222222, \"#7201a8\"], [0.3333333333333333, \"#9c179e\"], [0.4444444444444444, \"#bd3786\"], [0.5555555555555556, \"#d8576b\"], [0.6666666666666666, \"#ed7953\"], [0.7777777777777778, \"#fb9f3a\"], [0.8888888888888888, \"#fdca26\"], [1.0, \"#f0f921\"]], \"type\": \"heatmapgl\"}], \"histogram\": [{\"marker\": {\"colorbar\": {\"outlinewidth\": 0, \"ticks\": \"\"}}, \"type\": \"histogram\"}], \"histogram2d\": [{\"colorbar\": {\"outlinewidth\": 0, \"ticks\": \"\"}, \"colorscale\": [[0.0, \"#0d0887\"], [0.1111111111111111, \"#46039f\"], [0.2222222222222222, \"#7201a8\"], [0.3333333333333333, \"#9c179e\"], [0.4444444444444444, \"#bd3786\"], [0.5555555555555556, \"#d8576b\"], [0.6666666666666666, \"#ed7953\"], [0.7777777777777778, \"#fb9f3a\"], [0.8888888888888888, \"#fdca26\"], [1.0, \"#f0f921\"]], \"type\": \"histogram2d\"}], \"histogram2dcontour\": [{\"colorbar\": {\"outlinewidth\": 0, \"ticks\": \"\"}, \"colorscale\": [[0.0, \"#0d0887\"], [0.1111111111111111, \"#46039f\"], [0.2222222222222222, \"#7201a8\"], [0.3333333333333333, \"#9c179e\"], [0.4444444444444444, \"#bd3786\"], [0.5555555555555556, \"#d8576b\"], [0.6666666666666666, \"#ed7953\"], [0.7777777777777778, \"#fb9f3a\"], [0.8888888888888888, \"#fdca26\"], [1.0, \"#f0f921\"]], \"type\": \"histogram2dcontour\"}], \"mesh3d\": [{\"colorbar\": {\"outlinewidth\": 0, \"ticks\": \"\"}, \"type\": \"mesh3d\"}], \"parcoords\": [{\"line\": {\"colorbar\": {\"outlinewidth\": 0, \"ticks\": \"\"}}, \"type\": \"parcoords\"}], \"pie\": [{\"automargin\": true, \"type\": \"pie\"}], \"scatter\": [{\"marker\": {\"colorbar\": {\"outlinewidth\": 0, \"ticks\": \"\"}}, \"type\": \"scatter\"}], \"scatter3d\": [{\"line\": {\"colorbar\": {\"outlinewidth\": 0, \"ticks\": \"\"}}, \"marker\": {\"colorbar\": {\"outlinewidth\": 0, \"ticks\": \"\"}}, \"type\": \"scatter3d\"}], \"scattercarpet\": [{\"marker\": {\"colorbar\": {\"outlinewidth\": 0, \"ticks\": \"\"}}, \"type\": \"scattercarpet\"}], \"scattergeo\": [{\"marker\": {\"colorbar\": {\"outlinewidth\": 0, \"ticks\": \"\"}}, \"type\": \"scattergeo\"}], \"scattergl\": [{\"marker\": {\"colorbar\": {\"outlinewidth\": 0, \"ticks\": \"\"}}, \"type\": \"scattergl\"}], \"scattermapbox\": [{\"marker\": {\"colorbar\": {\"outlinewidth\": 0, \"ticks\": \"\"}}, \"type\": \"scattermapbox\"}], \"scatterpolar\": [{\"marker\": {\"colorbar\": {\"outlinewidth\": 0, \"ticks\": \"\"}}, \"type\": \"scatterpolar\"}], \"scatterpolargl\": [{\"marker\": {\"colorbar\": {\"outlinewidth\": 0, \"ticks\": \"\"}}, \"type\": \"scatterpolargl\"}], \"scatterternary\": [{\"marker\": {\"colorbar\": {\"outlinewidth\": 0, \"ticks\": \"\"}}, \"type\": \"scatterternary\"}], \"surface\": [{\"colorbar\": {\"outlinewidth\": 0, \"ticks\": \"\"}, \"colorscale\": [[0.0, \"#0d0887\"], [0.1111111111111111, \"#46039f\"], [0.2222222222222222, \"#7201a8\"], [0.3333333333333333, \"#9c179e\"], [0.4444444444444444, \"#bd3786\"], [0.5555555555555556, \"#d8576b\"], [0.6666666666666666, \"#ed7953\"], [0.7777777777777778, \"#fb9f3a\"], [0.8888888888888888, \"#fdca26\"], [1.0, \"#f0f921\"]], \"type\": \"surface\"}], \"table\": [{\"cells\": {\"fill\": {\"color\": \"#EBF0F8\"}, \"line\": {\"color\": \"white\"}}, \"header\": {\"fill\": {\"color\": \"#C8D4E3\"}, \"line\": {\"color\": \"white\"}}, \"type\": \"table\"}]}, \"layout\": {\"annotationdefaults\": {\"arrowcolor\": \"#2a3f5f\", \"arrowhead\": 0, \"arrowwidth\": 1}, \"coloraxis\": {\"colorbar\": {\"outlinewidth\": 0, \"ticks\": \"\"}}, \"colorscale\": {\"diverging\": [[0, \"#8e0152\"], [0.1, \"#c51b7d\"], [0.2, \"#de77ae\"], [0.3, \"#f1b6da\"], [0.4, \"#fde0ef\"], [0.5, \"#f7f7f7\"], [0.6, \"#e6f5d0\"], [0.7, \"#b8e186\"], [0.8, \"#7fbc41\"], [0.9, \"#4d9221\"], [1, \"#276419\"]], \"sequential\": [[0.0, \"#0d0887\"], [0.1111111111111111, \"#46039f\"], [0.2222222222222222, \"#7201a8\"], [0.3333333333333333, \"#9c179e\"], [0.4444444444444444, \"#bd3786\"], [0.5555555555555556, \"#d8576b\"], [0.6666666666666666, \"#ed7953\"], [0.7777777777777778, \"#fb9f3a\"], [0.8888888888888888, \"#fdca26\"], [1.0, \"#f0f921\"]], \"sequentialminus\": [[0.0, \"#0d0887\"], [0.1111111111111111, \"#46039f\"], [0.2222222222222222, \"#7201a8\"], [0.3333333333333333, \"#9c179e\"], [0.4444444444444444, \"#bd3786\"], [0.5555555555555556, \"#d8576b\"], [0.6666666666666666, \"#ed7953\"], [0.7777777777777778, \"#fb9f3a\"], [0.8888888888888888, \"#fdca26\"], [1.0, \"#f0f921\"]]}, \"colorway\": [\"#636efa\", \"#EF553B\", \"#00cc96\", \"#ab63fa\", \"#FFA15A\", \"#19d3f3\", \"#FF6692\", \"#B6E880\", \"#FF97FF\", \"#FECB52\"], \"font\": {\"color\": \"#2a3f5f\"}, \"geo\": {\"bgcolor\": \"white\", \"lakecolor\": \"white\", \"landcolor\": \"#E5ECF6\", \"showlakes\": true, \"showland\": true, \"subunitcolor\": \"white\"}, \"hoverlabel\": {\"align\": \"left\"}, \"hovermode\": \"closest\", \"mapbox\": {\"style\": \"light\"}, \"paper_bgcolor\": \"white\", \"plot_bgcolor\": \"#E5ECF6\", \"polar\": {\"angularaxis\": {\"gridcolor\": \"white\", \"linecolor\": \"white\", \"ticks\": \"\"}, \"bgcolor\": \"#E5ECF6\", \"radialaxis\": {\"gridcolor\": \"white\", \"linecolor\": \"white\", \"ticks\": \"\"}}, \"scene\": {\"xaxis\": {\"backgroundcolor\": \"#E5ECF6\", \"gridcolor\": \"white\", \"gridwidth\": 2, \"linecolor\": \"white\", \"showbackground\": true, \"ticks\": \"\", \"zerolinecolor\": \"white\"}, \"yaxis\": {\"backgroundcolor\": \"#E5ECF6\", \"gridcolor\": \"white\", \"gridwidth\": 2, \"linecolor\": \"white\", \"showbackground\": true, \"ticks\": \"\", \"zerolinecolor\": \"white\"}, \"zaxis\": {\"backgroundcolor\": \"#E5ECF6\", \"gridcolor\": \"white\", \"gridwidth\": 2, \"linecolor\": \"white\", \"showbackground\": true, \"ticks\": \"\", \"zerolinecolor\": \"white\"}}, \"shapedefaults\": {\"line\": {\"color\": \"#2a3f5f\"}}, \"ternary\": {\"aaxis\": {\"gridcolor\": \"white\", \"linecolor\": \"white\", \"ticks\": \"\"}, \"baxis\": {\"gridcolor\": \"white\", \"linecolor\": \"white\", \"ticks\": \"\"}, \"bgcolor\": \"#E5ECF6\", \"caxis\": {\"gridcolor\": \"white\", \"linecolor\": \"white\", \"ticks\": \"\"}}, \"title\": {\"x\": 0.05}, \"xaxis\": {\"automargin\": true, \"gridcolor\": \"white\", \"linecolor\": \"white\", \"ticks\": \"\", \"title\": {\"standoff\": 15}, \"zerolinecolor\": \"white\", \"zerolinewidth\": 2}, \"yaxis\": {\"automargin\": true, \"gridcolor\": \"white\", \"linecolor\": \"white\", \"ticks\": \"\", \"title\": {\"standoff\": 15}, \"zerolinecolor\": \"white\", \"zerolinewidth\": 2}}}, \"title\": {\"text\": \"inc_tot\"}, \"width\": 600, \"xaxis\": {\"anchor\": \"y\", \"domain\": [0.0, 1.0], \"title\": {\"text\": \"std_yyyy\"}}, \"yaxis\": {\"anchor\": \"x\", \"domain\": [0.0, 1.0], \"title\": {\"text\": \"share\"}}},                        {\"responsive\": true}                    ).then(function(){\n",
       "                            \n",
       "var gd = document.getElementById('576b8cf9-bb8d-4275-a909-74b9ec6c76d3');\n",
       "var x = new MutationObserver(function (mutations, observer) {{\n",
       "        var display = window.getComputedStyle(gd).display;\n",
       "        if (!display || display === 'none') {{\n",
       "            console.log([gd, 'removed!']);\n",
       "            Plotly.purge(gd);\n",
       "            observer.disconnect();\n",
       "        }}\n",
       "}});\n",
       "\n",
       "// Listen for the removal of the full notebook cells\n",
       "var notebookContainer = gd.closest('#notebook-container');\n",
       "if (notebookContainer) {{\n",
       "    x.observe(notebookContainer, {childList: true});\n",
       "}}\n",
       "\n",
       "// Listen for the clearing of the current output cell\n",
       "var outputEl = gd.closest('.output');\n",
       "if (outputEl) {{\n",
       "    x.observe(outputEl, {childList: true});\n",
       "}}\n",
       "\n",
       "                        })                };                });            </script>        </div>"
      ]
     },
     "metadata": {},
     "output_type": "display_data"
    }
   ],
   "source": [
    "df_filtered = df[df['var'] == var]\n",
    "fig = px.line(df_filtered, x=\"std_yyyy\", y=\"share\", color='income_group', line_dash='income_group', \n",
    "              title=f\"inc_tot\", facet_col='var', \n",
    "              width=50*12, height=50*12)\n",
    "fig.update_traces(line=dict(width=2.4), mode='lines+markers')\n",
    "fig.update_layout(margin={\"r\":16,\"t\":72,\"l\":16,\"b\":16})\n",
    "fig.show()"
   ]
  },
  {
   "cell_type": "code",
   "execution_count": 4,
   "metadata": {},
   "outputs": [],
   "source": [
    "mmi = pd.read_excel('/Users/suzinyou/Dropbox/가천대 서울연구원 프로젝트/10. 데이터산출물/mean_median_and_indices.xlsx', sheet_name=None)"
   ]
  },
  {
   "cell_type": "code",
   "execution_count": 3,
   "metadata": {},
   "outputs": [
    {
     "data": {
      "text/plain": [
       "dict_keys(['kr_adult20', 'kr_adult20_earner', 'kr_capita', 'kr_earner', 'kr_adult15', 'kr_sido_adult20', 'kr_hh', 'seoul_hh', 'kr_eq', 'seoul_eq', 'seoul_sigungu_hh', 'seoul_adult20', 'seoul_adult15', 'seoul_adult20_earner', 'seoul_capita', 'seoul_earner', 'seoul_sigungu_adult20', 'seoul_sigungu_adult20_earner'])"
      ]
     },
     "execution_count": 3,
     "metadata": {},
     "output_type": "execute_result"
    }
   ],
   "source": [
    "mmi.keys()"
   ]
  },
  {
   "cell_type": "code",
   "execution_count": 43,
   "metadata": {},
   "outputs": [],
   "source": [
    "def plot_shares_line(df, key, var):\n",
    "    \"\"\" income_shares.xlsx \"\"\"\n",
    "    df_filtered = df[df['var'] == var]\n",
    "    fig = px.line(df_filtered, x=\"std_yyyy\", y=\"share\", color='income_group', line_dash='income_group',\n",
    "                  title=f\"{translate(key)} {translate(var)} 점유율\",\n",
    "                  facet_col='var',\n",
    "                  width=128 * 12, height=128 * 12)\n",
    "    fig.update_traces(line=dict(width=2.4), mode='lines+markers')\n",
    "    fig.update_layout(margin={\"r\": 16, \"t\": 72, \"l\": 16, \"b\": 16})\n",
    "    path_obj = project_dir / 'reports' / 'figures' / f\"share_line_{key}-{var}.png\"\n",
    "    fig.write_image(str(path_obj))\n",
    "    return fig"
   ]
  },
  {
   "cell_type": "code",
   "execution_count": 5,
   "metadata": {},
   "outputs": [],
   "source": [
    "dic = {}\n",
    "\n",
    "region2ko = {\n",
    "    'seoul': '서울',\n",
    "    'seoulpanel': '서울패널',\n",
    "    'kr': '전국',\n",
    "    'krpanel': '전국패널',\n",
    "    'sigungu': '구별',\n",
    "    'sido': '시도별'\n",
    "}\n",
    "\n",
    "stat2ko = {\n",
    "    'mean': '평균',\n",
    "    'median': '중위',\n",
    "    'max': '최대',\n",
    "    'min': '최소',\n",
    "    'std': '표준편차',\n",
    "    'count': '(소득자만)',\n",
    "    'num_indi': '인구',\n",
    "    'frac_earners': '소득자 비율',\n",
    "    'gini': '지니계수',\n",
    "    'iqsr': '5분위배율',\n",
    "    'rpr': '상대빈곤율'\n",
    "}\n",
    "\n",
    "var2ko = {\n",
    "    'inc_tot': '총소득',\n",
    "    'inc_wage': '근로소득',\n",
    "    'inc_bus': '사업소득',\n",
    "    'inc_int': '이자소득',\n",
    "    'inc_divid': '배당소득',\n",
    "    'inc_pnsn_natl': '국민연금소득',\n",
    "    'inc_pnsn_occup': '직역연금소득',\n",
    "    'inc_fin': '금융소득',\n",
    "    'inc_pnsn': '공적연금소득',\n",
    "    'inc_main': '본원소득(총-연금)',\n",
    "    'prop_txbs_tot': '총재산과세표준',\n",
    "    'prop_txbs_hs': '주택과세표준',\n",
    "    'prop_txbs_lnd': '토지과세표준',\n",
    "    'prop_txbs_bldg': '건물과세표준',\n",
    "    # 'prop_txbs_shp': '선박항공기과세표준',\n",
    "}\n",
    "unit2ko = {\n",
    "    'indi': '개인',\n",
    "    'hh': '가구',\n",
    "    'eq': '균등화',\n",
    "    'adult20': '성인(20세 이상)',\n",
    "    'adult15': '15세 이상',\n",
    "    'capita': 'per capita',\n",
    "    'earner': '소득자'\n",
    "}\n",
    "\n",
    "col2ko = {\n",
    "    'var': '변수',\n",
    "    'std_yyyy': '연도',\n",
    "    'region': '지역'\n",
    "}\n",
    "\n",
    "dic.update(region2ko)\n",
    "dic.update(stat2ko)\n",
    "dic.update(var2ko)\n",
    "dic.update(unit2ko)\n",
    "dic.update(col2ko)\n",
    "dic.update(real='실질')\n",
    "\n",
    "def translate(x):\n",
    "    if x in dic:\n",
    "        return dic[x]\n",
    "\n",
    "    split = x.split('_')\n",
    "    if len(split) == 0:\n",
    "        raise ValueError(f\"Got empty input {x}\")\n",
    "    elif len(split) == 1:\n",
    "        raise ValueError(f\"Can't translate {x}!\")\n",
    "    else:\n",
    "        for i in range(1, len(split) + 1):\n",
    "            cur_key = '_'.join(split[:i])\n",
    "            if cur_key in dic:\n",
    "                return dic[cur_key] + ' ' + translate('_'.join(split[i:]))\n",
    "        raise KeyError(f\"Can't translate {x}!\")"
   ]
  },
  {
   "cell_type": "code",
   "execution_count": 6,
   "metadata": {},
   "outputs": [],
   "source": [
    "colors = px.colors.qualitative.Plotly\n",
    "tab10 = px.colors.qualitative.T10\n",
    "var_color_map = {\n",
    "    'inc_tot': colors[0],\n",
    "    'inc_wage': colors[2],\n",
    "    'inc_bus': colors[3],\n",
    "    'inc_fin': colors[4],\n",
    "    'inc_pnsn': colors[5],\n",
    "    'inc_main': colors[6],\n",
    "    'prop_txbs_tot': colors[1],\n",
    "    'prop_txbs_hs': tab10[0],\n",
    "    'prop_txbs_lnd': tab10[1],\n",
    "    'prop_txbs_bldg': tab10[2],\n",
    "    # 'prop_txbs_shp': '선박항공기과세표준',\n",
    "}\n",
    "var_color_map_tnsl = {}\n",
    "for k, v in var_color_map.items():\n",
    "    var_color_map_tnsl[translate(k)] = v"
   ]
  },
  {
   "cell_type": "code",
   "execution_count": 107,
   "metadata": {},
   "outputs": [],
   "source": [
    "def plot_lines(_df, stat, color_col, key, var=None, var_prefix_filter=None, facet_col=None):\n",
    "    df = _df.copy()\n",
    "    if var_prefix_filter is not None:\n",
    "        df = df[df['var'].apply(lambda x: x.startswith(var_prefix_filter))]\n",
    "    elif var is not None:\n",
    "        df = df[df['var'] == var]\n",
    "    df['var'] = df['var'].apply(translate)\n",
    "\n",
    "    if facet_col is not None:\n",
    "        if facet_col not in _df.columns:\n",
    "            raise ValueError(f\"Facet column {facet_col} doesn't exist\")\n",
    "        facet_col = translate(facet_col)\n",
    "\n",
    "    df = df.rename(columns={k: translate(k) for k in _df.columns})\n",
    "\n",
    "    if 'sigungu' in key or 'sido' in key:\n",
    "        color_col = translate(key.split('_')[1])\n",
    "    else:\n",
    "        color_col = translate(color_col)\n",
    "    if color_col == 'var':\n",
    "        color_map = var_color_map_tnsl\n",
    "    else:\n",
    "        color_map = {v: c for v, c in zip(df[color_col].unique(), px.colors.qualitative.Plotly)}\n",
    "\n",
    "    if len(df[color_col].unique()) >= 5:\n",
    "        height = 60 * 12\n",
    "    else:\n",
    "        height = 60 * 8\n",
    "\n",
    "    width = 60 * 12\n",
    "    if facet_col is not None:\n",
    "        width += 60 * 8 * (len(df[facet_col].unique()) - 1)\n",
    "\n",
    "    title = f\"{translate(key)} {translate(stat)}\"\n",
    "    new_stat = translate(stat)\n",
    "    if var is not None:\n",
    "        title += ' ' + translate(var)\n",
    "        new_stat += f' {translate(var)}'\n",
    "        if var.startswith('inc') or var.startswith('prop'):\n",
    "            new_stat += '(천원)'\n",
    "\n",
    "    df[new_stat] = df[translate(stat)] / 1000\n",
    "    std_yyyy = translate(\"std_yyyy\")\n",
    "\n",
    "    fig = px.line(df, x=std_yyyy, y=new_stat, color=color_col, line_dash=color_col,\n",
    "                  width=width, height=height,\n",
    "                  title=title,\n",
    "                  color_discrete_map=color_map,\n",
    "                  facet_col=facet_col, facet_col_spacing=0.06)\n",
    "    fig.update_traces(line=dict(width=2.4), mode='lines+markers')\n",
    "    fig.update_layout(margin={\"r\": 16, \"t\": 72, \"l\": 16, \"b\": 16}, )\n",
    "    fig.update_xaxes(**dict(tickmode='linear', tick0=2006, dtick=4))\n",
    "    fig.update_yaxes(tickformat=\",g\", matches=None)\n",
    "    # first = df.loc[df[translate(\"std_yyyy\")] == 2006, new_stat]\n",
    "\n",
    "    cols = [std_yyyy, new_stat ,color_col]\n",
    "    if facet_col is not None:\n",
    "        cols.append(facet_col)\n",
    "    df_text = df.loc[\n",
    "        df[std_yyyy].apply(lambda x: x in list(range(2006, 2019, 4))), cols].copy()\n",
    "    df_text.loc[:, 'label'] = df[new_stat].apply(lambda x: f\"{x:,.0f}\")\n",
    "    data = px.scatter(\n",
    "        df_text, x=std_yyyy, y=new_stat, text='label', facet_col=facet_col\n",
    "    ).update_traces(mode=\"text\", textposition='top center')['data']\n",
    "\n",
    "    def update(y):\n",
    "        y.update(matches=None)\n",
    "        y.showticklabels = True\n",
    "\n",
    "    fig.for_each_yaxis(update)\n",
    "    \n",
    "    for trace in data:\n",
    "        fig.add_trace(trace)\n",
    "\n",
    "    return fig"
   ]
  },
  {
   "cell_type": "code",
   "execution_count": 67,
   "metadata": {},
   "outputs": [],
   "source": [
    "df1 = mmi['kr_adult20_earner']\n",
    "df1['region'] = '전국'\n",
    "df2 = mmi['seoul_adult20_earner']\n",
    "df2['region'] = '서울'\n",
    "df = pd.concat([df1, df2]).reset_index(drop=True)"
   ]
  },
  {
   "cell_type": "code",
   "execution_count": 108,
   "metadata": {},
   "outputs": [
    {
     "ename": "ValueError",
     "evalue": "The truth value of a DataFrame is ambiguous. Use a.empty, a.bool(), a.item(), a.any() or a.all().",
     "output_type": "error",
     "traceback": [
      "\u001b[0;31m---------------------------------------------------------------------------\u001b[0m",
      "\u001b[0;31mValueError\u001b[0m                                Traceback (most recent call last)",
      "\u001b[0;32m<ipython-input-108-3b2317fc2a4a>\u001b[0m in \u001b[0;36m<module>\u001b[0;34m\u001b[0m\n\u001b[0;32m----> 1\u001b[0;31m \u001b[0mfig\u001b[0m \u001b[0;34m=\u001b[0m \u001b[0mplot_lines\u001b[0m\u001b[0;34m(\u001b[0m\u001b[0mdf\u001b[0m\u001b[0;34m,\u001b[0m \u001b[0mstat\u001b[0m\u001b[0;34m=\u001b[0m\u001b[0;34m'mean_real'\u001b[0m\u001b[0;34m,\u001b[0m \u001b[0mkey\u001b[0m\u001b[0;34m=\u001b[0m\u001b[0mk\u001b[0m\u001b[0;34m,\u001b[0m \u001b[0mvar_prefix_filter\u001b[0m\u001b[0;34m=\u001b[0m\u001b[0;34m'inc'\u001b[0m\u001b[0;34m,\u001b[0m \u001b[0mcolor_col\u001b[0m\u001b[0;34m=\u001b[0m\u001b[0;34m'var'\u001b[0m\u001b[0;34m,\u001b[0m \u001b[0mfacet_col\u001b[0m\u001b[0;34m=\u001b[0m\u001b[0;34m'var'\u001b[0m\u001b[0;34m)\u001b[0m\u001b[0;34m\u001b[0m\u001b[0;34m\u001b[0m\u001b[0m\n\u001b[0m\u001b[1;32m      2\u001b[0m \u001b[0mfig\u001b[0m\u001b[0;34m.\u001b[0m\u001b[0mshow\u001b[0m\u001b[0;34m(\u001b[0m\u001b[0;34m)\u001b[0m\u001b[0;34m\u001b[0m\u001b[0;34m\u001b[0m\u001b[0m\n",
      "\u001b[0;32m<ipython-input-107-b5a16eae4320>\u001b[0m in \u001b[0;36mplot_lines\u001b[0;34m(_df, stat, color_col, key, var, var_prefix_filter, facet_col)\u001b[0m\n\u001b[1;32m     60\u001b[0m         df[std_yyyy].apply(lambda x: x in list(range(2006, 2019, 4))), cols].copy()\n\u001b[1;32m     61\u001b[0m     \u001b[0mdf_text\u001b[0m\u001b[0;34m.\u001b[0m\u001b[0mloc\u001b[0m\u001b[0;34m[\u001b[0m\u001b[0;34m:\u001b[0m\u001b[0;34m,\u001b[0m \u001b[0;34m'label'\u001b[0m\u001b[0;34m]\u001b[0m \u001b[0;34m=\u001b[0m \u001b[0mdf\u001b[0m\u001b[0;34m[\u001b[0m\u001b[0mnew_stat\u001b[0m\u001b[0;34m]\u001b[0m\u001b[0;34m.\u001b[0m\u001b[0mapply\u001b[0m\u001b[0;34m(\u001b[0m\u001b[0;32mlambda\u001b[0m \u001b[0mx\u001b[0m\u001b[0;34m:\u001b[0m \u001b[0;34mf\"{x:,.0f}\"\u001b[0m\u001b[0;34m)\u001b[0m\u001b[0;34m\u001b[0m\u001b[0;34m\u001b[0m\u001b[0m\n\u001b[0;32m---> 62\u001b[0;31m     data = px.scatter(\n\u001b[0m\u001b[1;32m     63\u001b[0m         \u001b[0mdf_text\u001b[0m\u001b[0;34m,\u001b[0m \u001b[0mx\u001b[0m\u001b[0;34m=\u001b[0m\u001b[0mstd_yyyy\u001b[0m\u001b[0;34m,\u001b[0m \u001b[0my\u001b[0m\u001b[0;34m=\u001b[0m\u001b[0mnew_stat\u001b[0m\u001b[0;34m,\u001b[0m \u001b[0mtext\u001b[0m\u001b[0;34m=\u001b[0m\u001b[0;34m'label'\u001b[0m\u001b[0;34m,\u001b[0m \u001b[0mfacet_col\u001b[0m\u001b[0;34m=\u001b[0m\u001b[0mfacet_col\u001b[0m\u001b[0;34m\u001b[0m\u001b[0;34m\u001b[0m\u001b[0m\n\u001b[1;32m     64\u001b[0m     ).update_traces(mode=\"text\", textposition='top center')['data']\n",
      "\u001b[0;32m~/opt/anaconda3/envs/ineq/lib/python3.8/site-packages/plotly/express/_chart_types.py\u001b[0m in \u001b[0;36mscatter\u001b[0;34m(data_frame, x, y, color, symbol, size, hover_name, hover_data, custom_data, text, facet_row, facet_col, facet_col_wrap, facet_row_spacing, facet_col_spacing, error_x, error_x_minus, error_y, error_y_minus, animation_frame, animation_group, category_orders, labels, orientation, color_discrete_sequence, color_discrete_map, color_continuous_scale, range_color, color_continuous_midpoint, symbol_sequence, symbol_map, opacity, size_max, marginal_x, marginal_y, trendline, trendline_color_override, log_x, log_y, range_x, range_y, render_mode, title, template, width, height)\u001b[0m\n\u001b[1;32m     62\u001b[0m     \u001b[0mmark\u001b[0m \u001b[0;32min\u001b[0m \u001b[0;36m2\u001b[0m\u001b[0mD\u001b[0m \u001b[0mspace\u001b[0m\u001b[0;34m.\u001b[0m\u001b[0;34m\u001b[0m\u001b[0;34m\u001b[0m\u001b[0m\n\u001b[1;32m     63\u001b[0m     \"\"\"\n\u001b[0;32m---> 64\u001b[0;31m     \u001b[0;32mreturn\u001b[0m \u001b[0mmake_figure\u001b[0m\u001b[0;34m(\u001b[0m\u001b[0margs\u001b[0m\u001b[0;34m=\u001b[0m\u001b[0mlocals\u001b[0m\u001b[0;34m(\u001b[0m\u001b[0;34m)\u001b[0m\u001b[0;34m,\u001b[0m \u001b[0mconstructor\u001b[0m\u001b[0;34m=\u001b[0m\u001b[0mgo\u001b[0m\u001b[0;34m.\u001b[0m\u001b[0mScatter\u001b[0m\u001b[0;34m)\u001b[0m\u001b[0;34m\u001b[0m\u001b[0;34m\u001b[0m\u001b[0m\n\u001b[0m\u001b[1;32m     65\u001b[0m \u001b[0;34m\u001b[0m\u001b[0m\n\u001b[1;32m     66\u001b[0m \u001b[0;34m\u001b[0m\u001b[0m\n",
      "\u001b[0;32m~/opt/anaconda3/envs/ineq/lib/python3.8/site-packages/plotly/express/_core.py\u001b[0m in \u001b[0;36mmake_figure\u001b[0;34m(args, constructor, trace_patch, layout_patch)\u001b[0m\n\u001b[1;32m   1824\u001b[0m     \u001b[0mapply_default_cascade\u001b[0m\u001b[0;34m(\u001b[0m\u001b[0margs\u001b[0m\u001b[0;34m)\u001b[0m\u001b[0;34m\u001b[0m\u001b[0;34m\u001b[0m\u001b[0m\n\u001b[1;32m   1825\u001b[0m \u001b[0;34m\u001b[0m\u001b[0m\n\u001b[0;32m-> 1826\u001b[0;31m     \u001b[0margs\u001b[0m \u001b[0;34m=\u001b[0m \u001b[0mbuild_dataframe\u001b[0m\u001b[0;34m(\u001b[0m\u001b[0margs\u001b[0m\u001b[0;34m,\u001b[0m \u001b[0mconstructor\u001b[0m\u001b[0;34m)\u001b[0m\u001b[0;34m\u001b[0m\u001b[0;34m\u001b[0m\u001b[0m\n\u001b[0m\u001b[1;32m   1827\u001b[0m     \u001b[0;32mif\u001b[0m \u001b[0mconstructor\u001b[0m \u001b[0;32min\u001b[0m \u001b[0;34m[\u001b[0m\u001b[0mgo\u001b[0m\u001b[0;34m.\u001b[0m\u001b[0mTreemap\u001b[0m\u001b[0;34m,\u001b[0m \u001b[0mgo\u001b[0m\u001b[0;34m.\u001b[0m\u001b[0mSunburst\u001b[0m\u001b[0;34m]\u001b[0m \u001b[0;32mand\u001b[0m \u001b[0margs\u001b[0m\u001b[0;34m[\u001b[0m\u001b[0;34m\"path\"\u001b[0m\u001b[0;34m]\u001b[0m \u001b[0;32mis\u001b[0m \u001b[0;32mnot\u001b[0m \u001b[0;32mNone\u001b[0m\u001b[0;34m:\u001b[0m\u001b[0;34m\u001b[0m\u001b[0;34m\u001b[0m\u001b[0m\n\u001b[1;32m   1828\u001b[0m         \u001b[0margs\u001b[0m \u001b[0;34m=\u001b[0m \u001b[0mprocess_dataframe_hierarchy\u001b[0m\u001b[0;34m(\u001b[0m\u001b[0margs\u001b[0m\u001b[0;34m)\u001b[0m\u001b[0;34m\u001b[0m\u001b[0;34m\u001b[0m\u001b[0m\n",
      "\u001b[0;32m~/opt/anaconda3/envs/ineq/lib/python3.8/site-packages/plotly/express/_core.py\u001b[0m in \u001b[0;36mbuild_dataframe\u001b[0;34m(args, constructor)\u001b[0m\n\u001b[1;32m   1356\u001b[0m     \u001b[0;31m# now that things have been prepped, we do the systematic rewriting of `args`\u001b[0m\u001b[0;34m\u001b[0m\u001b[0;34m\u001b[0m\u001b[0;34m\u001b[0m\u001b[0m\n\u001b[1;32m   1357\u001b[0m \u001b[0;34m\u001b[0m\u001b[0m\n\u001b[0;32m-> 1358\u001b[0;31m     df_output, wide_id_vars = process_args_into_dataframe(\n\u001b[0m\u001b[1;32m   1359\u001b[0m         \u001b[0margs\u001b[0m\u001b[0;34m,\u001b[0m \u001b[0mwide_mode\u001b[0m\u001b[0;34m,\u001b[0m \u001b[0mvar_name\u001b[0m\u001b[0;34m,\u001b[0m \u001b[0mvalue_name\u001b[0m\u001b[0;34m\u001b[0m\u001b[0;34m\u001b[0m\u001b[0m\n\u001b[1;32m   1360\u001b[0m     )\n",
      "\u001b[0;32m~/opt/anaconda3/envs/ineq/lib/python3.8/site-packages/plotly/express/_core.py\u001b[0m in \u001b[0;36mprocess_args_into_dataframe\u001b[0;34m(args, wide_mode, var_name, value_name)\u001b[0m\n\u001b[1;32m   1177\u001b[0m                 \u001b[0;32melse\u001b[0m\u001b[0;34m:\u001b[0m\u001b[0;34m\u001b[0m\u001b[0;34m\u001b[0m\u001b[0m\n\u001b[1;32m   1178\u001b[0m                     \u001b[0mcol_name\u001b[0m \u001b[0;34m=\u001b[0m \u001b[0mstr\u001b[0m\u001b[0;34m(\u001b[0m\u001b[0margument\u001b[0m\u001b[0;34m)\u001b[0m\u001b[0;34m\u001b[0m\u001b[0;34m\u001b[0m\u001b[0m\n\u001b[0;32m-> 1179\u001b[0;31m                     \u001b[0mdf_output\u001b[0m\u001b[0;34m[\u001b[0m\u001b[0mcol_name\u001b[0m\u001b[0;34m]\u001b[0m \u001b[0;34m=\u001b[0m \u001b[0mto_unindexed_series\u001b[0m\u001b[0;34m(\u001b[0m\u001b[0mdf_input\u001b[0m\u001b[0;34m[\u001b[0m\u001b[0margument\u001b[0m\u001b[0;34m]\u001b[0m\u001b[0;34m)\u001b[0m\u001b[0;34m\u001b[0m\u001b[0;34m\u001b[0m\u001b[0m\n\u001b[0m\u001b[1;32m   1180\u001b[0m             \u001b[0;31m# ----------------- argument is likely a column / array / list.... -------\u001b[0m\u001b[0;34m\u001b[0m\u001b[0;34m\u001b[0m\u001b[0;34m\u001b[0m\u001b[0m\n\u001b[1;32m   1181\u001b[0m             \u001b[0;32melse\u001b[0m\u001b[0;34m:\u001b[0m\u001b[0;34m\u001b[0m\u001b[0;34m\u001b[0m\u001b[0m\n",
      "\u001b[0;32m~/opt/anaconda3/envs/ineq/lib/python3.8/site-packages/plotly/express/_core.py\u001b[0m in \u001b[0;36mto_unindexed_series\u001b[0;34m(x)\u001b[0m\n\u001b[1;32m   1028\u001b[0m     \u001b[0mrequired\u001b[0m \u001b[0mto\u001b[0m \u001b[0mget\u001b[0m \u001b[0mthings\u001b[0m \u001b[0mto\u001b[0m \u001b[0mmatch\u001b[0m \u001b[0mup\u001b[0m \u001b[0mright\u001b[0m \u001b[0;32min\u001b[0m \u001b[0mthe\u001b[0m \u001b[0mnew\u001b[0m \u001b[0mDataFrame\u001b[0m \u001b[0mwe\u001b[0m\u001b[0;31m'\u001b[0m\u001b[0mre\u001b[0m \u001b[0mbuilding\u001b[0m\u001b[0;34m\u001b[0m\u001b[0;34m\u001b[0m\u001b[0m\n\u001b[1;32m   1029\u001b[0m     \"\"\"\n\u001b[0;32m-> 1030\u001b[0;31m     \u001b[0;32mreturn\u001b[0m \u001b[0mpd\u001b[0m\u001b[0;34m.\u001b[0m\u001b[0mSeries\u001b[0m\u001b[0;34m(\u001b[0m\u001b[0mx\u001b[0m\u001b[0;34m)\u001b[0m\u001b[0;34m.\u001b[0m\u001b[0mreset_index\u001b[0m\u001b[0;34m(\u001b[0m\u001b[0mdrop\u001b[0m\u001b[0;34m=\u001b[0m\u001b[0;32mTrue\u001b[0m\u001b[0;34m)\u001b[0m\u001b[0;34m\u001b[0m\u001b[0;34m\u001b[0m\u001b[0m\n\u001b[0m\u001b[1;32m   1031\u001b[0m \u001b[0;34m\u001b[0m\u001b[0m\n\u001b[1;32m   1032\u001b[0m \u001b[0;34m\u001b[0m\u001b[0m\n",
      "\u001b[0;32m~/opt/anaconda3/envs/ineq/lib/python3.8/site-packages/pandas/core/series.py\u001b[0m in \u001b[0;36m__init__\u001b[0;34m(self, data, index, dtype, name, copy, fastpath)\u001b[0m\n\u001b[1;32m    229\u001b[0m             \u001b[0mname\u001b[0m \u001b[0;34m=\u001b[0m \u001b[0mibase\u001b[0m\u001b[0;34m.\u001b[0m\u001b[0mmaybe_extract_name\u001b[0m\u001b[0;34m(\u001b[0m\u001b[0mname\u001b[0m\u001b[0;34m,\u001b[0m \u001b[0mdata\u001b[0m\u001b[0;34m,\u001b[0m \u001b[0mtype\u001b[0m\u001b[0;34m(\u001b[0m\u001b[0mself\u001b[0m\u001b[0;34m)\u001b[0m\u001b[0;34m)\u001b[0m\u001b[0;34m\u001b[0m\u001b[0;34m\u001b[0m\u001b[0m\n\u001b[1;32m    230\u001b[0m \u001b[0;34m\u001b[0m\u001b[0m\n\u001b[0;32m--> 231\u001b[0;31m             \u001b[0;32mif\u001b[0m \u001b[0mis_empty_data\u001b[0m\u001b[0;34m(\u001b[0m\u001b[0mdata\u001b[0m\u001b[0;34m)\u001b[0m \u001b[0;32mand\u001b[0m \u001b[0mdtype\u001b[0m \u001b[0;32mis\u001b[0m \u001b[0;32mNone\u001b[0m\u001b[0;34m:\u001b[0m\u001b[0;34m\u001b[0m\u001b[0;34m\u001b[0m\u001b[0m\n\u001b[0m\u001b[1;32m    232\u001b[0m                 \u001b[0;31m# gh-17261\u001b[0m\u001b[0;34m\u001b[0m\u001b[0;34m\u001b[0m\u001b[0;34m\u001b[0m\u001b[0m\n\u001b[1;32m    233\u001b[0m                 warnings.warn(\n",
      "\u001b[0;32m~/opt/anaconda3/envs/ineq/lib/python3.8/site-packages/pandas/core/construction.py\u001b[0m in \u001b[0;36mis_empty_data\u001b[0;34m(data)\u001b[0m\n\u001b[1;32m    594\u001b[0m     \u001b[0mis_none\u001b[0m \u001b[0;34m=\u001b[0m \u001b[0mdata\u001b[0m \u001b[0;32mis\u001b[0m \u001b[0;32mNone\u001b[0m\u001b[0;34m\u001b[0m\u001b[0;34m\u001b[0m\u001b[0m\n\u001b[1;32m    595\u001b[0m     \u001b[0mis_list_like_without_dtype\u001b[0m \u001b[0;34m=\u001b[0m \u001b[0mis_list_like\u001b[0m\u001b[0;34m(\u001b[0m\u001b[0mdata\u001b[0m\u001b[0;34m)\u001b[0m \u001b[0;32mand\u001b[0m \u001b[0;32mnot\u001b[0m \u001b[0mhasattr\u001b[0m\u001b[0;34m(\u001b[0m\u001b[0mdata\u001b[0m\u001b[0;34m,\u001b[0m \u001b[0;34m\"dtype\"\u001b[0m\u001b[0;34m)\u001b[0m\u001b[0;34m\u001b[0m\u001b[0;34m\u001b[0m\u001b[0m\n\u001b[0;32m--> 596\u001b[0;31m     \u001b[0mis_simple_empty\u001b[0m \u001b[0;34m=\u001b[0m \u001b[0mis_list_like_without_dtype\u001b[0m \u001b[0;32mand\u001b[0m \u001b[0;32mnot\u001b[0m \u001b[0mdata\u001b[0m\u001b[0;34m\u001b[0m\u001b[0;34m\u001b[0m\u001b[0m\n\u001b[0m\u001b[1;32m    597\u001b[0m     \u001b[0;32mreturn\u001b[0m \u001b[0mis_none\u001b[0m \u001b[0;32mor\u001b[0m \u001b[0mis_simple_empty\u001b[0m\u001b[0;34m\u001b[0m\u001b[0;34m\u001b[0m\u001b[0m\n\u001b[1;32m    598\u001b[0m \u001b[0;34m\u001b[0m\u001b[0m\n",
      "\u001b[0;32m~/opt/anaconda3/envs/ineq/lib/python3.8/site-packages/pandas/core/generic.py\u001b[0m in \u001b[0;36m__nonzero__\u001b[0;34m(self)\u001b[0m\n\u001b[1;32m   1324\u001b[0m \u001b[0;34m\u001b[0m\u001b[0m\n\u001b[1;32m   1325\u001b[0m     \u001b[0;32mdef\u001b[0m \u001b[0m__nonzero__\u001b[0m\u001b[0;34m(\u001b[0m\u001b[0mself\u001b[0m\u001b[0;34m)\u001b[0m\u001b[0;34m:\u001b[0m\u001b[0;34m\u001b[0m\u001b[0;34m\u001b[0m\u001b[0m\n\u001b[0;32m-> 1326\u001b[0;31m         raise ValueError(\n\u001b[0m\u001b[1;32m   1327\u001b[0m             \u001b[0;34mf\"The truth value of a {type(self).__name__} is ambiguous. \"\u001b[0m\u001b[0;34m\u001b[0m\u001b[0;34m\u001b[0m\u001b[0m\n\u001b[1;32m   1328\u001b[0m             \u001b[0;34m\"Use a.empty, a.bool(), a.item(), a.any() or a.all().\"\u001b[0m\u001b[0;34m\u001b[0m\u001b[0;34m\u001b[0m\u001b[0m\n",
      "\u001b[0;31mValueError\u001b[0m: The truth value of a DataFrame is ambiguous. Use a.empty, a.bool(), a.item(), a.any() or a.all()."
     ]
    }
   ],
   "source": [
    "fig = plot_lines(df, stat='mean_real', key=k, var_prefix_filter='inc', color_col='var', facet_col='var')\n",
    "fig.show()"
   ]
  },
  {
   "cell_type": "code",
   "execution_count": 92,
   "metadata": {},
   "outputs": [
    {
     "data": {
      "text/plain": [
       "'14,520'"
      ]
     },
     "execution_count": 92,
     "metadata": {},
     "output_type": "execute_result"
    }
   ],
   "source": [
    "f'{14520.152:,.0f}'"
   ]
  },
  {
   "cell_type": "code",
   "execution_count": 97,
   "metadata": {},
   "outputs": [
    {
     "data": {
      "application/vnd.plotly.v1+json": {
       "config": {
        "plotlyServerURL": "https://plotly.com"
       },
       "data": [
        {
         "hovertemplate": "지역=전국<br>변수=사업소득<br>연도=%{x}<br>평균 실질=%{y}<extra></extra>",
         "legendgroup": "전국",
         "line": {
          "color": "#636EFA",
          "dash": "solid",
          "width": 2.4
         },
         "mode": "lines+markers",
         "name": "전국",
         "orientation": "v",
         "showlegend": true,
         "type": "scatter",
         "x": [
          2006,
          2010,
          2014,
          2018
         ],
         "xaxis": "x",
         "y": [
          14527.54652575953,
          13013.090112522541,
          13491.14341392575,
          13507.53700104402
         ],
         "yaxis": "y"
        },
        {
         "hovertemplate": "지역=전국<br>변수=근로소득<br>연도=%{x}<br>평균 실질=%{y}<extra></extra>",
         "legendgroup": "전국",
         "line": {
          "color": "#636EFA",
          "dash": "solid",
          "width": 2.4
         },
         "mode": "lines+markers",
         "name": "전국",
         "orientation": "v",
         "showlegend": false,
         "type": "scatter",
         "x": [
          2006,
          2010,
          2014,
          2018
         ],
         "xaxis": "x2",
         "y": [
          31297.031401702097,
          31093.41006898108,
          32416.7894899804,
          34557.701188919586
         ],
         "yaxis": "y2"
        },
        {
         "hovertemplate": "지역=서울<br>변수=사업소득<br>연도=%{x}<br>평균 실질=%{y}<extra></extra>",
         "legendgroup": "서울",
         "line": {
          "color": "#EF553B",
          "dash": "dot",
          "width": 2.4
         },
         "mode": "lines+markers",
         "name": "서울",
         "orientation": "v",
         "showlegend": true,
         "type": "scatter",
         "x": [
          2006,
          2007,
          2008,
          2009,
          2010,
          2011,
          2012,
          2013,
          2014,
          2015,
          2016,
          2017,
          2018
         ],
         "xaxis": "x",
         "y": [
          17968.27718215111,
          16099.68198460594,
          14512.5979165114,
          14569.28527598966,
          15173.01263556423,
          15657.99135405587,
          15482.37746853143,
          15403.0546130986,
          15719.621810225719,
          15650.824101328591,
          16230.76391231532,
          15755.78502342276,
          15511.175612243549
         ],
         "yaxis": "y"
        },
        {
         "hovertemplate": "지역=서울<br>변수=근로소득<br>연도=%{x}<br>평균 실질=%{y}<extra></extra>",
         "legendgroup": "서울",
         "line": {
          "color": "#EF553B",
          "dash": "dot",
          "width": 2.4
         },
         "mode": "lines+markers",
         "name": "서울",
         "orientation": "v",
         "showlegend": false,
         "type": "scatter",
         "x": [
          2006,
          2007,
          2008,
          2009,
          2010,
          2011,
          2012,
          2013,
          2014,
          2015,
          2016,
          2017,
          2018
         ],
         "xaxis": "x2",
         "y": [
          36469.98976979966,
          37250.32943835276,
          37155.383286719145,
          35754.29375145455,
          36529.587605630266,
          36827.17577975556,
          37003.16884251617,
          37054.64330375526,
          37006.47785650159,
          37292.38937240036,
          37923.03719745667,
          38633.65825817278,
          39631.42256536859
         ],
         "yaxis": "y2"
        },
        {
         "hovertemplate": "변수=사업소득<br>연도=%{x}<br>평균 실질=%{y}<br>label=%{text}<extra></extra>",
         "legendgroup": "",
         "marker": {
          "color": "#636efa",
          "symbol": "circle"
         },
         "mode": "text",
         "name": "",
         "orientation": "v",
         "showlegend": false,
         "text": [
          "14,528",
          "13,013",
          "13,491",
          "13,508",
          "17,968",
          "15,173",
          "15,720",
          "15,511"
         ],
         "textposition": "bottom center",
         "type": "scatter",
         "x": [
          2006,
          2010,
          2014,
          2018,
          2006,
          2010,
          2014,
          2018
         ],
         "xaxis": "x",
         "y": [
          14527.54652575953,
          13013.090112522541,
          13491.14341392575,
          13507.53700104402,
          17968.27718215111,
          15173.01263556423,
          15719.621810225719,
          15511.175612243549
         ],
         "yaxis": "y"
        },
        {
         "hovertemplate": "변수=근로소득<br>연도=%{x}<br>평균 실질=%{y}<br>label=%{text}<extra></extra>",
         "legendgroup": "",
         "marker": {
          "color": "#636efa",
          "symbol": "circle"
         },
         "mode": "text",
         "name": "",
         "orientation": "v",
         "showlegend": false,
         "text": [
          "31,297",
          "31,093",
          "32,417",
          "34,558",
          "36,470",
          "36,530",
          "37,006",
          "39,631"
         ],
         "textposition": "bottom center",
         "type": "scatter",
         "x": [
          2006,
          2010,
          2014,
          2018,
          2006,
          2010,
          2014,
          2018
         ],
         "xaxis": "x2",
         "y": [
          31297.031401702097,
          31093.41006898108,
          32416.7894899804,
          34557.701188919586,
          36469.98976979966,
          36529.587605630266,
          37006.47785650159,
          39631.42256536859
         ],
         "yaxis": "y2"
        }
       ],
       "layout": {
        "annotations": [
         {
          "font": {},
          "showarrow": false,
          "text": "변수=사업소득",
          "x": 0.235,
          "xanchor": "center",
          "xref": "paper",
          "y": 1,
          "yanchor": "bottom",
          "yref": "paper"
         },
         {
          "font": {},
          "showarrow": false,
          "text": "변수=근로소득",
          "x": 0.765,
          "xanchor": "center",
          "xref": "paper",
          "y": 1,
          "yanchor": "bottom",
          "yref": "paper"
         }
        ],
        "height": 480,
        "legend": {
         "title": {
          "text": "지역"
         },
         "tracegroupgap": 0
        },
        "margin": {
         "b": 16,
         "l": 16,
         "r": 16,
         "t": 72
        },
        "template": {
         "data": {
          "bar": [
           {
            "error_x": {
             "color": "#2a3f5f"
            },
            "error_y": {
             "color": "#2a3f5f"
            },
            "marker": {
             "line": {
              "color": "#E5ECF6",
              "width": 0.5
             }
            },
            "type": "bar"
           }
          ],
          "barpolar": [
           {
            "marker": {
             "line": {
              "color": "#E5ECF6",
              "width": 0.5
             }
            },
            "type": "barpolar"
           }
          ],
          "carpet": [
           {
            "aaxis": {
             "endlinecolor": "#2a3f5f",
             "gridcolor": "white",
             "linecolor": "white",
             "minorgridcolor": "white",
             "startlinecolor": "#2a3f5f"
            },
            "baxis": {
             "endlinecolor": "#2a3f5f",
             "gridcolor": "white",
             "linecolor": "white",
             "minorgridcolor": "white",
             "startlinecolor": "#2a3f5f"
            },
            "type": "carpet"
           }
          ],
          "choropleth": [
           {
            "colorbar": {
             "outlinewidth": 0,
             "ticks": ""
            },
            "type": "choropleth"
           }
          ],
          "contour": [
           {
            "colorbar": {
             "outlinewidth": 0,
             "ticks": ""
            },
            "colorscale": [
             [
              0,
              "#0d0887"
             ],
             [
              0.1111111111111111,
              "#46039f"
             ],
             [
              0.2222222222222222,
              "#7201a8"
             ],
             [
              0.3333333333333333,
              "#9c179e"
             ],
             [
              0.4444444444444444,
              "#bd3786"
             ],
             [
              0.5555555555555556,
              "#d8576b"
             ],
             [
              0.6666666666666666,
              "#ed7953"
             ],
             [
              0.7777777777777778,
              "#fb9f3a"
             ],
             [
              0.8888888888888888,
              "#fdca26"
             ],
             [
              1,
              "#f0f921"
             ]
            ],
            "type": "contour"
           }
          ],
          "contourcarpet": [
           {
            "colorbar": {
             "outlinewidth": 0,
             "ticks": ""
            },
            "type": "contourcarpet"
           }
          ],
          "heatmap": [
           {
            "colorbar": {
             "outlinewidth": 0,
             "ticks": ""
            },
            "colorscale": [
             [
              0,
              "#0d0887"
             ],
             [
              0.1111111111111111,
              "#46039f"
             ],
             [
              0.2222222222222222,
              "#7201a8"
             ],
             [
              0.3333333333333333,
              "#9c179e"
             ],
             [
              0.4444444444444444,
              "#bd3786"
             ],
             [
              0.5555555555555556,
              "#d8576b"
             ],
             [
              0.6666666666666666,
              "#ed7953"
             ],
             [
              0.7777777777777778,
              "#fb9f3a"
             ],
             [
              0.8888888888888888,
              "#fdca26"
             ],
             [
              1,
              "#f0f921"
             ]
            ],
            "type": "heatmap"
           }
          ],
          "heatmapgl": [
           {
            "colorbar": {
             "outlinewidth": 0,
             "ticks": ""
            },
            "colorscale": [
             [
              0,
              "#0d0887"
             ],
             [
              0.1111111111111111,
              "#46039f"
             ],
             [
              0.2222222222222222,
              "#7201a8"
             ],
             [
              0.3333333333333333,
              "#9c179e"
             ],
             [
              0.4444444444444444,
              "#bd3786"
             ],
             [
              0.5555555555555556,
              "#d8576b"
             ],
             [
              0.6666666666666666,
              "#ed7953"
             ],
             [
              0.7777777777777778,
              "#fb9f3a"
             ],
             [
              0.8888888888888888,
              "#fdca26"
             ],
             [
              1,
              "#f0f921"
             ]
            ],
            "type": "heatmapgl"
           }
          ],
          "histogram": [
           {
            "marker": {
             "colorbar": {
              "outlinewidth": 0,
              "ticks": ""
             }
            },
            "type": "histogram"
           }
          ],
          "histogram2d": [
           {
            "colorbar": {
             "outlinewidth": 0,
             "ticks": ""
            },
            "colorscale": [
             [
              0,
              "#0d0887"
             ],
             [
              0.1111111111111111,
              "#46039f"
             ],
             [
              0.2222222222222222,
              "#7201a8"
             ],
             [
              0.3333333333333333,
              "#9c179e"
             ],
             [
              0.4444444444444444,
              "#bd3786"
             ],
             [
              0.5555555555555556,
              "#d8576b"
             ],
             [
              0.6666666666666666,
              "#ed7953"
             ],
             [
              0.7777777777777778,
              "#fb9f3a"
             ],
             [
              0.8888888888888888,
              "#fdca26"
             ],
             [
              1,
              "#f0f921"
             ]
            ],
            "type": "histogram2d"
           }
          ],
          "histogram2dcontour": [
           {
            "colorbar": {
             "outlinewidth": 0,
             "ticks": ""
            },
            "colorscale": [
             [
              0,
              "#0d0887"
             ],
             [
              0.1111111111111111,
              "#46039f"
             ],
             [
              0.2222222222222222,
              "#7201a8"
             ],
             [
              0.3333333333333333,
              "#9c179e"
             ],
             [
              0.4444444444444444,
              "#bd3786"
             ],
             [
              0.5555555555555556,
              "#d8576b"
             ],
             [
              0.6666666666666666,
              "#ed7953"
             ],
             [
              0.7777777777777778,
              "#fb9f3a"
             ],
             [
              0.8888888888888888,
              "#fdca26"
             ],
             [
              1,
              "#f0f921"
             ]
            ],
            "type": "histogram2dcontour"
           }
          ],
          "mesh3d": [
           {
            "colorbar": {
             "outlinewidth": 0,
             "ticks": ""
            },
            "type": "mesh3d"
           }
          ],
          "parcoords": [
           {
            "line": {
             "colorbar": {
              "outlinewidth": 0,
              "ticks": ""
             }
            },
            "type": "parcoords"
           }
          ],
          "pie": [
           {
            "automargin": true,
            "type": "pie"
           }
          ],
          "scatter": [
           {
            "marker": {
             "colorbar": {
              "outlinewidth": 0,
              "ticks": ""
             }
            },
            "type": "scatter"
           }
          ],
          "scatter3d": [
           {
            "line": {
             "colorbar": {
              "outlinewidth": 0,
              "ticks": ""
             }
            },
            "marker": {
             "colorbar": {
              "outlinewidth": 0,
              "ticks": ""
             }
            },
            "type": "scatter3d"
           }
          ],
          "scattercarpet": [
           {
            "marker": {
             "colorbar": {
              "outlinewidth": 0,
              "ticks": ""
             }
            },
            "type": "scattercarpet"
           }
          ],
          "scattergeo": [
           {
            "marker": {
             "colorbar": {
              "outlinewidth": 0,
              "ticks": ""
             }
            },
            "type": "scattergeo"
           }
          ],
          "scattergl": [
           {
            "marker": {
             "colorbar": {
              "outlinewidth": 0,
              "ticks": ""
             }
            },
            "type": "scattergl"
           }
          ],
          "scattermapbox": [
           {
            "marker": {
             "colorbar": {
              "outlinewidth": 0,
              "ticks": ""
             }
            },
            "type": "scattermapbox"
           }
          ],
          "scatterpolar": [
           {
            "marker": {
             "colorbar": {
              "outlinewidth": 0,
              "ticks": ""
             }
            },
            "type": "scatterpolar"
           }
          ],
          "scatterpolargl": [
           {
            "marker": {
             "colorbar": {
              "outlinewidth": 0,
              "ticks": ""
             }
            },
            "type": "scatterpolargl"
           }
          ],
          "scatterternary": [
           {
            "marker": {
             "colorbar": {
              "outlinewidth": 0,
              "ticks": ""
             }
            },
            "type": "scatterternary"
           }
          ],
          "surface": [
           {
            "colorbar": {
             "outlinewidth": 0,
             "ticks": ""
            },
            "colorscale": [
             [
              0,
              "#0d0887"
             ],
             [
              0.1111111111111111,
              "#46039f"
             ],
             [
              0.2222222222222222,
              "#7201a8"
             ],
             [
              0.3333333333333333,
              "#9c179e"
             ],
             [
              0.4444444444444444,
              "#bd3786"
             ],
             [
              0.5555555555555556,
              "#d8576b"
             ],
             [
              0.6666666666666666,
              "#ed7953"
             ],
             [
              0.7777777777777778,
              "#fb9f3a"
             ],
             [
              0.8888888888888888,
              "#fdca26"
             ],
             [
              1,
              "#f0f921"
             ]
            ],
            "type": "surface"
           }
          ],
          "table": [
           {
            "cells": {
             "fill": {
              "color": "#EBF0F8"
             },
             "line": {
              "color": "white"
             }
            },
            "header": {
             "fill": {
              "color": "#C8D4E3"
             },
             "line": {
              "color": "white"
             }
            },
            "type": "table"
           }
          ]
         },
         "layout": {
          "annotationdefaults": {
           "arrowcolor": "#2a3f5f",
           "arrowhead": 0,
           "arrowwidth": 1
          },
          "coloraxis": {
           "colorbar": {
            "outlinewidth": 0,
            "ticks": ""
           }
          },
          "colorscale": {
           "diverging": [
            [
             0,
             "#8e0152"
            ],
            [
             0.1,
             "#c51b7d"
            ],
            [
             0.2,
             "#de77ae"
            ],
            [
             0.3,
             "#f1b6da"
            ],
            [
             0.4,
             "#fde0ef"
            ],
            [
             0.5,
             "#f7f7f7"
            ],
            [
             0.6,
             "#e6f5d0"
            ],
            [
             0.7,
             "#b8e186"
            ],
            [
             0.8,
             "#7fbc41"
            ],
            [
             0.9,
             "#4d9221"
            ],
            [
             1,
             "#276419"
            ]
           ],
           "sequential": [
            [
             0,
             "#0d0887"
            ],
            [
             0.1111111111111111,
             "#46039f"
            ],
            [
             0.2222222222222222,
             "#7201a8"
            ],
            [
             0.3333333333333333,
             "#9c179e"
            ],
            [
             0.4444444444444444,
             "#bd3786"
            ],
            [
             0.5555555555555556,
             "#d8576b"
            ],
            [
             0.6666666666666666,
             "#ed7953"
            ],
            [
             0.7777777777777778,
             "#fb9f3a"
            ],
            [
             0.8888888888888888,
             "#fdca26"
            ],
            [
             1,
             "#f0f921"
            ]
           ],
           "sequentialminus": [
            [
             0,
             "#0d0887"
            ],
            [
             0.1111111111111111,
             "#46039f"
            ],
            [
             0.2222222222222222,
             "#7201a8"
            ],
            [
             0.3333333333333333,
             "#9c179e"
            ],
            [
             0.4444444444444444,
             "#bd3786"
            ],
            [
             0.5555555555555556,
             "#d8576b"
            ],
            [
             0.6666666666666666,
             "#ed7953"
            ],
            [
             0.7777777777777778,
             "#fb9f3a"
            ],
            [
             0.8888888888888888,
             "#fdca26"
            ],
            [
             1,
             "#f0f921"
            ]
           ]
          },
          "colorway": [
           "#636efa",
           "#EF553B",
           "#00cc96",
           "#ab63fa",
           "#FFA15A",
           "#19d3f3",
           "#FF6692",
           "#B6E880",
           "#FF97FF",
           "#FECB52"
          ],
          "font": {
           "color": "#2a3f5f"
          },
          "geo": {
           "bgcolor": "white",
           "lakecolor": "white",
           "landcolor": "#E5ECF6",
           "showlakes": true,
           "showland": true,
           "subunitcolor": "white"
          },
          "hoverlabel": {
           "align": "left"
          },
          "hovermode": "closest",
          "mapbox": {
           "style": "light"
          },
          "paper_bgcolor": "white",
          "plot_bgcolor": "#E5ECF6",
          "polar": {
           "angularaxis": {
            "gridcolor": "white",
            "linecolor": "white",
            "ticks": ""
           },
           "bgcolor": "#E5ECF6",
           "radialaxis": {
            "gridcolor": "white",
            "linecolor": "white",
            "ticks": ""
           }
          },
          "scene": {
           "xaxis": {
            "backgroundcolor": "#E5ECF6",
            "gridcolor": "white",
            "gridwidth": 2,
            "linecolor": "white",
            "showbackground": true,
            "ticks": "",
            "zerolinecolor": "white"
           },
           "yaxis": {
            "backgroundcolor": "#E5ECF6",
            "gridcolor": "white",
            "gridwidth": 2,
            "linecolor": "white",
            "showbackground": true,
            "ticks": "",
            "zerolinecolor": "white"
           },
           "zaxis": {
            "backgroundcolor": "#E5ECF6",
            "gridcolor": "white",
            "gridwidth": 2,
            "linecolor": "white",
            "showbackground": true,
            "ticks": "",
            "zerolinecolor": "white"
           }
          },
          "shapedefaults": {
           "line": {
            "color": "#2a3f5f"
           }
          },
          "ternary": {
           "aaxis": {
            "gridcolor": "white",
            "linecolor": "white",
            "ticks": ""
           },
           "baxis": {
            "gridcolor": "white",
            "linecolor": "white",
            "ticks": ""
           },
           "bgcolor": "#E5ECF6",
           "caxis": {
            "gridcolor": "white",
            "linecolor": "white",
            "ticks": ""
           }
          },
          "title": {
           "x": 0.05
          },
          "xaxis": {
           "automargin": true,
           "gridcolor": "white",
           "linecolor": "white",
           "ticks": "",
           "title": {
            "standoff": 15
           },
           "zerolinecolor": "white",
           "zerolinewidth": 2
          },
          "yaxis": {
           "automargin": true,
           "gridcolor": "white",
           "linecolor": "white",
           "ticks": "",
           "title": {
            "standoff": 15
           },
           "zerolinecolor": "white",
           "zerolinewidth": 2
          }
         }
        },
        "title": {
         "text": "건물과세표준 평균 실질"
        },
        "width": 1200,
        "xaxis": {
         "anchor": "y",
         "autorange": true,
         "domain": [
          0,
          0.47
         ],
         "dtick": 4,
         "range": [
          2005.2156325475628,
          2018.7843674524372
         ],
         "tick0": 2006,
         "tickmode": "linear",
         "title": {
          "text": "연도"
         },
         "type": "linear"
        },
        "xaxis2": {
         "anchor": "y2",
         "autorange": true,
         "domain": [
          0.53,
          1
         ],
         "dtick": 4,
         "matches": "x",
         "range": [
          2005.2156325475628,
          2018.7843674524372
         ],
         "tick0": 2006,
         "tickmode": "linear",
         "title": {
          "text": "연도"
         },
         "type": "linear"
        },
        "yaxis": {
         "anchor": "x",
         "autorange": true,
         "domain": [
          0,
          1
         ],
         "range": [
          12671.817241475894,
          18309.550053197756
         ],
         "showticklabels": true,
         "tickformat": ",g",
         "title": {
          "text": "평균 실질"
         },
         "type": "linear"
        },
        "yaxis2": {
         "anchor": "x2",
         "autorange": true,
         "domain": [
          0,
          1
         ],
         "range": [
          30505.381403921474,
          40219.4512304282
         ],
         "showticklabels": true,
         "tickformat": ",g",
         "type": "linear"
        }
       }
      },
      "image/png": "[encoded data removed]",
      "text/html": [
       "<div>                            <div id=\"7ba81d0c-8439-49d5-8b38-90910e45cc3f\" class=\"plotly-graph-div\" style=\"height:480px; width:1200px;\"></div>            <script type=\"text/javascript\">                require([\"plotly\"], function(Plotly) {                    window.PLOTLYENV=window.PLOTLYENV || {};                                    if (document.getElementById(\"7ba81d0c-8439-49d5-8b38-90910e45cc3f\")) {                    Plotly.newPlot(                        \"7ba81d0c-8439-49d5-8b38-90910e45cc3f\",                        [{\"hovertemplate\": \"\\uc9c0\\uc5ed=\\uc804\\uad6d<br>\\ubcc0\\uc218=\\uc0ac\\uc5c5\\uc18c\\ub4dd<br>\\uc5f0\\ub3c4=%{x}<br>\\ud3c9\\uade0 \\uc2e4\\uc9c8=%{y}<extra></extra>\", \"legendgroup\": \"\\uc804\\uad6d\", \"line\": {\"color\": \"#636EFA\", \"dash\": \"solid\", \"width\": 2.4}, \"mode\": \"lines+markers\", \"name\": \"\\uc804\\uad6d\", \"orientation\": \"v\", \"showlegend\": true, \"type\": \"scatter\", \"x\": [2006, 2010, 2014, 2018], \"xaxis\": \"x\", \"y\": [14527.54652575953, 13013.090112522541, 13491.14341392575, 13507.53700104402], \"yaxis\": \"y\"}, {\"hovertemplate\": \"\\uc9c0\\uc5ed=\\uc804\\uad6d<br>\\ubcc0\\uc218=\\uadfc\\ub85c\\uc18c\\ub4dd<br>\\uc5f0\\ub3c4=%{x}<br>\\ud3c9\\uade0 \\uc2e4\\uc9c8=%{y}<extra></extra>\", \"legendgroup\": \"\\uc804\\uad6d\", \"line\": {\"color\": \"#636EFA\", \"dash\": \"solid\", \"width\": 2.4}, \"mode\": \"lines+markers\", \"name\": \"\\uc804\\uad6d\", \"orientation\": \"v\", \"showlegend\": false, \"type\": \"scatter\", \"x\": [2006, 2010, 2014, 2018], \"xaxis\": \"x2\", \"y\": [31297.031401702097, 31093.41006898108, 32416.7894899804, 34557.701188919586], \"yaxis\": \"y2\"}, {\"hovertemplate\": \"\\uc9c0\\uc5ed=\\uc11c\\uc6b8<br>\\ubcc0\\uc218=\\uc0ac\\uc5c5\\uc18c\\ub4dd<br>\\uc5f0\\ub3c4=%{x}<br>\\ud3c9\\uade0 \\uc2e4\\uc9c8=%{y}<extra></extra>\", \"legendgroup\": \"\\uc11c\\uc6b8\", \"line\": {\"color\": \"#EF553B\", \"dash\": \"dot\", \"width\": 2.4}, \"mode\": \"lines+markers\", \"name\": \"\\uc11c\\uc6b8\", \"orientation\": \"v\", \"showlegend\": true, \"type\": \"scatter\", \"x\": [2006, 2007, 2008, 2009, 2010, 2011, 2012, 2013, 2014, 2015, 2016, 2017, 2018], \"xaxis\": \"x\", \"y\": [17968.27718215111, 16099.68198460594, 14512.5979165114, 14569.28527598966, 15173.01263556423, 15657.99135405587, 15482.37746853143, 15403.0546130986, 15719.621810225719, 15650.824101328591, 16230.76391231532, 15755.78502342276, 15511.175612243549], \"yaxis\": \"y\"}, {\"hovertemplate\": \"\\uc9c0\\uc5ed=\\uc11c\\uc6b8<br>\\ubcc0\\uc218=\\uadfc\\ub85c\\uc18c\\ub4dd<br>\\uc5f0\\ub3c4=%{x}<br>\\ud3c9\\uade0 \\uc2e4\\uc9c8=%{y}<extra></extra>\", \"legendgroup\": \"\\uc11c\\uc6b8\", \"line\": {\"color\": \"#EF553B\", \"dash\": \"dot\", \"width\": 2.4}, \"mode\": \"lines+markers\", \"name\": \"\\uc11c\\uc6b8\", \"orientation\": \"v\", \"showlegend\": false, \"type\": \"scatter\", \"x\": [2006, 2007, 2008, 2009, 2010, 2011, 2012, 2013, 2014, 2015, 2016, 2017, 2018], \"xaxis\": \"x2\", \"y\": [36469.98976979966, 37250.32943835276, 37155.383286719145, 35754.29375145455, 36529.587605630266, 36827.17577975556, 37003.16884251617, 37054.64330375526, 37006.47785650159, 37292.38937240036, 37923.03719745667, 38633.65825817278, 39631.42256536859], \"yaxis\": \"y2\"}, {\"hovertemplate\": \"\\ubcc0\\uc218=\\uc0ac\\uc5c5\\uc18c\\ub4dd<br>\\uc5f0\\ub3c4=%{x}<br>\\ud3c9\\uade0 \\uc2e4\\uc9c8=%{y}<br>label=%{text}<extra></extra>\", \"legendgroup\": \"\", \"marker\": {\"color\": \"#636efa\", \"symbol\": \"circle\"}, \"mode\": \"text\", \"name\": \"\", \"orientation\": \"v\", \"showlegend\": false, \"text\": [\"14,528\", \"13,013\", \"13,491\", \"13,508\", \"17,968\", \"15,173\", \"15,720\", \"15,511\"], \"textposition\": \"bottom center\", \"type\": \"scatter\", \"x\": [2006, 2010, 2014, 2018, 2006, 2010, 2014, 2018], \"xaxis\": \"x\", \"y\": [14527.54652575953, 13013.090112522541, 13491.14341392575, 13507.53700104402, 17968.27718215111, 15173.01263556423, 15719.621810225719, 15511.175612243549], \"yaxis\": \"y\"}, {\"hovertemplate\": \"\\ubcc0\\uc218=\\uadfc\\ub85c\\uc18c\\ub4dd<br>\\uc5f0\\ub3c4=%{x}<br>\\ud3c9\\uade0 \\uc2e4\\uc9c8=%{y}<br>label=%{text}<extra></extra>\", \"legendgroup\": \"\", \"marker\": {\"color\": \"#636efa\", \"symbol\": \"circle\"}, \"mode\": \"text\", \"name\": \"\", \"orientation\": \"v\", \"showlegend\": false, \"text\": [\"31,297\", \"31,093\", \"32,417\", \"34,558\", \"36,470\", \"36,530\", \"37,006\", \"39,631\"], \"textposition\": \"bottom center\", \"type\": \"scatter\", \"x\": [2006, 2010, 2014, 2018, 2006, 2010, 2014, 2018], \"xaxis\": \"x2\", \"y\": [31297.031401702097, 31093.41006898108, 32416.7894899804, 34557.701188919586, 36469.98976979966, 36529.587605630266, 37006.47785650159, 39631.42256536859], \"yaxis\": \"y2\"}],                        {\"annotations\": [{\"font\": {}, \"showarrow\": false, \"text\": \"\\ubcc0\\uc218=\\uc0ac\\uc5c5\\uc18c\\ub4dd\", \"x\": 0.235, \"xanchor\": \"center\", \"xref\": \"paper\", \"y\": 1.0, \"yanchor\": \"bottom\", \"yref\": \"paper\"}, {\"font\": {}, \"showarrow\": false, \"text\": \"\\ubcc0\\uc218=\\uadfc\\ub85c\\uc18c\\ub4dd\", \"x\": 0.765, \"xanchor\": \"center\", \"xref\": \"paper\", \"y\": 1.0, \"yanchor\": \"bottom\", \"yref\": \"paper\"}], \"height\": 480, \"legend\": {\"title\": {\"text\": \"\\uc9c0\\uc5ed\"}, \"tracegroupgap\": 0}, \"margin\": {\"b\": 16, \"l\": 16, \"r\": 16, \"t\": 72}, \"template\": {\"data\": {\"bar\": [{\"error_x\": {\"color\": \"#2a3f5f\"}, \"error_y\": {\"color\": \"#2a3f5f\"}, \"marker\": {\"line\": {\"color\": \"#E5ECF6\", \"width\": 0.5}}, \"type\": \"bar\"}], \"barpolar\": [{\"marker\": {\"line\": {\"color\": \"#E5ECF6\", \"width\": 0.5}}, \"type\": \"barpolar\"}], \"carpet\": [{\"aaxis\": {\"endlinecolor\": \"#2a3f5f\", \"gridcolor\": \"white\", \"linecolor\": \"white\", \"minorgridcolor\": \"white\", \"startlinecolor\": \"#2a3f5f\"}, \"baxis\": {\"endlinecolor\": \"#2a3f5f\", \"gridcolor\": \"white\", \"linecolor\": \"white\", \"minorgridcolor\": \"white\", \"startlinecolor\": \"#2a3f5f\"}, \"type\": \"carpet\"}], \"choropleth\": [{\"colorbar\": {\"outlinewidth\": 0, \"ticks\": \"\"}, \"type\": \"choropleth\"}], \"contour\": [{\"colorbar\": {\"outlinewidth\": 0, \"ticks\": \"\"}, \"colorscale\": [[0.0, \"#0d0887\"], [0.1111111111111111, \"#46039f\"], [0.2222222222222222, \"#7201a8\"], [0.3333333333333333, \"#9c179e\"], [0.4444444444444444, \"#bd3786\"], [0.5555555555555556, \"#d8576b\"], [0.6666666666666666, \"#ed7953\"], [0.7777777777777778, \"#fb9f3a\"], [0.8888888888888888, \"#fdca26\"], [1.0, \"#f0f921\"]], \"type\": \"contour\"}], \"contourcarpet\": [{\"colorbar\": {\"outlinewidth\": 0, \"ticks\": \"\"}, \"type\": \"contourcarpet\"}], \"heatmap\": [{\"colorbar\": {\"outlinewidth\": 0, \"ticks\": \"\"}, \"colorscale\": [[0.0, \"#0d0887\"], [0.1111111111111111, \"#46039f\"], [0.2222222222222222, \"#7201a8\"], [0.3333333333333333, \"#9c179e\"], [0.4444444444444444, \"#bd3786\"], [0.5555555555555556, \"#d8576b\"], [0.6666666666666666, \"#ed7953\"], [0.7777777777777778, \"#fb9f3a\"], [0.8888888888888888, \"#fdca26\"], [1.0, \"#f0f921\"]], \"type\": \"heatmap\"}], \"heatmapgl\": [{\"colorbar\": {\"outlinewidth\": 0, \"ticks\": \"\"}, \"colorscale\": [[0.0, \"#0d0887\"], [0.1111111111111111, \"#46039f\"], [0.2222222222222222, \"#7201a8\"], [0.3333333333333333, \"#9c179e\"], [0.4444444444444444, \"#bd3786\"], [0.5555555555555556, \"#d8576b\"], [0.6666666666666666, \"#ed7953\"], [0.7777777777777778, \"#fb9f3a\"], [0.8888888888888888, \"#fdca26\"], [1.0, \"#f0f921\"]], \"type\": \"heatmapgl\"}], \"histogram\": [{\"marker\": {\"colorbar\": {\"outlinewidth\": 0, \"ticks\": \"\"}}, \"type\": \"histogram\"}], \"histogram2d\": [{\"colorbar\": {\"outlinewidth\": 0, \"ticks\": \"\"}, \"colorscale\": [[0.0, \"#0d0887\"], [0.1111111111111111, \"#46039f\"], [0.2222222222222222, \"#7201a8\"], [0.3333333333333333, \"#9c179e\"], [0.4444444444444444, \"#bd3786\"], [0.5555555555555556, \"#d8576b\"], [0.6666666666666666, \"#ed7953\"], [0.7777777777777778, \"#fb9f3a\"], [0.8888888888888888, \"#fdca26\"], [1.0, \"#f0f921\"]], \"type\": \"histogram2d\"}], \"histogram2dcontour\": [{\"colorbar\": {\"outlinewidth\": 0, \"ticks\": \"\"}, \"colorscale\": [[0.0, \"#0d0887\"], [0.1111111111111111, \"#46039f\"], [0.2222222222222222, \"#7201a8\"], [0.3333333333333333, \"#9c179e\"], [0.4444444444444444, \"#bd3786\"], [0.5555555555555556, \"#d8576b\"], [0.6666666666666666, \"#ed7953\"], [0.7777777777777778, \"#fb9f3a\"], [0.8888888888888888, \"#fdca26\"], [1.0, \"#f0f921\"]], \"type\": \"histogram2dcontour\"}], \"mesh3d\": [{\"colorbar\": {\"outlinewidth\": 0, \"ticks\": \"\"}, \"type\": \"mesh3d\"}], \"parcoords\": [{\"line\": {\"colorbar\": {\"outlinewidth\": 0, \"ticks\": \"\"}}, \"type\": \"parcoords\"}], \"pie\": [{\"automargin\": true, \"type\": \"pie\"}], \"scatter\": [{\"marker\": {\"colorbar\": {\"outlinewidth\": 0, \"ticks\": \"\"}}, \"type\": \"scatter\"}], \"scatter3d\": [{\"line\": {\"colorbar\": {\"outlinewidth\": 0, \"ticks\": \"\"}}, \"marker\": {\"colorbar\": {\"outlinewidth\": 0, \"ticks\": \"\"}}, \"type\": \"scatter3d\"}], \"scattercarpet\": [{\"marker\": {\"colorbar\": {\"outlinewidth\": 0, \"ticks\": \"\"}}, \"type\": \"scattercarpet\"}], \"scattergeo\": [{\"marker\": {\"colorbar\": {\"outlinewidth\": 0, \"ticks\": \"\"}}, \"type\": \"scattergeo\"}], \"scattergl\": [{\"marker\": {\"colorbar\": {\"outlinewidth\": 0, \"ticks\": \"\"}}, \"type\": \"scattergl\"}], \"scattermapbox\": [{\"marker\": {\"colorbar\": {\"outlinewidth\": 0, \"ticks\": \"\"}}, \"type\": \"scattermapbox\"}], \"scatterpolar\": [{\"marker\": {\"colorbar\": {\"outlinewidth\": 0, \"ticks\": \"\"}}, \"type\": \"scatterpolar\"}], \"scatterpolargl\": [{\"marker\": {\"colorbar\": {\"outlinewidth\": 0, \"ticks\": \"\"}}, \"type\": \"scatterpolargl\"}], \"scatterternary\": [{\"marker\": {\"colorbar\": {\"outlinewidth\": 0, \"ticks\": \"\"}}, \"type\": \"scatterternary\"}], \"surface\": [{\"colorbar\": {\"outlinewidth\": 0, \"ticks\": \"\"}, \"colorscale\": [[0.0, \"#0d0887\"], [0.1111111111111111, \"#46039f\"], [0.2222222222222222, \"#7201a8\"], [0.3333333333333333, \"#9c179e\"], [0.4444444444444444, \"#bd3786\"], [0.5555555555555556, \"#d8576b\"], [0.6666666666666666, \"#ed7953\"], [0.7777777777777778, \"#fb9f3a\"], [0.8888888888888888, \"#fdca26\"], [1.0, \"#f0f921\"]], \"type\": \"surface\"}], \"table\": [{\"cells\": {\"fill\": {\"color\": \"#EBF0F8\"}, \"line\": {\"color\": \"white\"}}, \"header\": {\"fill\": {\"color\": \"#C8D4E3\"}, \"line\": {\"color\": \"white\"}}, \"type\": \"table\"}]}, \"layout\": {\"annotationdefaults\": {\"arrowcolor\": \"#2a3f5f\", \"arrowhead\": 0, \"arrowwidth\": 1}, \"coloraxis\": {\"colorbar\": {\"outlinewidth\": 0, \"ticks\": \"\"}}, \"colorscale\": {\"diverging\": [[0, \"#8e0152\"], [0.1, \"#c51b7d\"], [0.2, \"#de77ae\"], [0.3, \"#f1b6da\"], [0.4, \"#fde0ef\"], [0.5, \"#f7f7f7\"], [0.6, \"#e6f5d0\"], [0.7, \"#b8e186\"], [0.8, \"#7fbc41\"], [0.9, \"#4d9221\"], [1, \"#276419\"]], \"sequential\": [[0.0, \"#0d0887\"], [0.1111111111111111, \"#46039f\"], [0.2222222222222222, \"#7201a8\"], [0.3333333333333333, \"#9c179e\"], [0.4444444444444444, \"#bd3786\"], [0.5555555555555556, \"#d8576b\"], [0.6666666666666666, \"#ed7953\"], [0.7777777777777778, \"#fb9f3a\"], [0.8888888888888888, \"#fdca26\"], [1.0, \"#f0f921\"]], \"sequentialminus\": [[0.0, \"#0d0887\"], [0.1111111111111111, \"#46039f\"], [0.2222222222222222, \"#7201a8\"], [0.3333333333333333, \"#9c179e\"], [0.4444444444444444, \"#bd3786\"], [0.5555555555555556, \"#d8576b\"], [0.6666666666666666, \"#ed7953\"], [0.7777777777777778, \"#fb9f3a\"], [0.8888888888888888, \"#fdca26\"], [1.0, \"#f0f921\"]]}, \"colorway\": [\"#636efa\", \"#EF553B\", \"#00cc96\", \"#ab63fa\", \"#FFA15A\", \"#19d3f3\", \"#FF6692\", \"#B6E880\", \"#FF97FF\", \"#FECB52\"], \"font\": {\"color\": \"#2a3f5f\"}, \"geo\": {\"bgcolor\": \"white\", \"lakecolor\": \"white\", \"landcolor\": \"#E5ECF6\", \"showlakes\": true, \"showland\": true, \"subunitcolor\": \"white\"}, \"hoverlabel\": {\"align\": \"left\"}, \"hovermode\": \"closest\", \"mapbox\": {\"style\": \"light\"}, \"paper_bgcolor\": \"white\", \"plot_bgcolor\": \"#E5ECF6\", \"polar\": {\"angularaxis\": {\"gridcolor\": \"white\", \"linecolor\": \"white\", \"ticks\": \"\"}, \"bgcolor\": \"#E5ECF6\", \"radialaxis\": {\"gridcolor\": \"white\", \"linecolor\": \"white\", \"ticks\": \"\"}}, \"scene\": {\"xaxis\": {\"backgroundcolor\": \"#E5ECF6\", \"gridcolor\": \"white\", \"gridwidth\": 2, \"linecolor\": \"white\", \"showbackground\": true, \"ticks\": \"\", \"zerolinecolor\": \"white\"}, \"yaxis\": {\"backgroundcolor\": \"#E5ECF6\", \"gridcolor\": \"white\", \"gridwidth\": 2, \"linecolor\": \"white\", \"showbackground\": true, \"ticks\": \"\", \"zerolinecolor\": \"white\"}, \"zaxis\": {\"backgroundcolor\": \"#E5ECF6\", \"gridcolor\": \"white\", \"gridwidth\": 2, \"linecolor\": \"white\", \"showbackground\": true, \"ticks\": \"\", \"zerolinecolor\": \"white\"}}, \"shapedefaults\": {\"line\": {\"color\": \"#2a3f5f\"}}, \"ternary\": {\"aaxis\": {\"gridcolor\": \"white\", \"linecolor\": \"white\", \"ticks\": \"\"}, \"baxis\": {\"gridcolor\": \"white\", \"linecolor\": \"white\", \"ticks\": \"\"}, \"bgcolor\": \"#E5ECF6\", \"caxis\": {\"gridcolor\": \"white\", \"linecolor\": \"white\", \"ticks\": \"\"}}, \"title\": {\"x\": 0.05}, \"xaxis\": {\"automargin\": true, \"gridcolor\": \"white\", \"linecolor\": \"white\", \"ticks\": \"\", \"title\": {\"standoff\": 15}, \"zerolinecolor\": \"white\", \"zerolinewidth\": 2}, \"yaxis\": {\"automargin\": true, \"gridcolor\": \"white\", \"linecolor\": \"white\", \"ticks\": \"\", \"title\": {\"standoff\": 15}, \"zerolinecolor\": \"white\", \"zerolinewidth\": 2}}}, \"title\": {\"text\": \"\\uac74\\ubb3c\\uacfc\\uc138\\ud45c\\uc900 \\ud3c9\\uade0 \\uc2e4\\uc9c8\"}, \"width\": 1200, \"xaxis\": {\"anchor\": \"y\", \"domain\": [0.0, 0.47], \"dtick\": 4, \"tick0\": 2006, \"tickmode\": \"linear\", \"title\": {\"text\": \"\\uc5f0\\ub3c4\"}}, \"xaxis2\": {\"anchor\": \"y2\", \"domain\": [0.53, 1.0], \"dtick\": 4, \"matches\": \"x\", \"tick0\": 2006, \"tickmode\": \"linear\", \"title\": {\"text\": \"\\uc5f0\\ub3c4\"}}, \"yaxis\": {\"anchor\": \"x\", \"domain\": [0.0, 1.0], \"showticklabels\": true, \"tickformat\": \",g\", \"title\": {\"text\": \"\\ud3c9\\uade0 \\uc2e4\\uc9c8\"}}, \"yaxis2\": {\"anchor\": \"x2\", \"domain\": [0.0, 1.0], \"showticklabels\": true, \"tickformat\": \",g\"}},                        {\"responsive\": true}                    ).then(function(){\n",
       "                            \n",
       "var gd = document.getElementById('7ba81d0c-8439-49d5-8b38-90910e45cc3f');\n",
       "var x = new MutationObserver(function (mutations, observer) {{\n",
       "        var display = window.getComputedStyle(gd).display;\n",
       "        if (!display || display === 'none') {{\n",
       "            console.log([gd, 'removed!']);\n",
       "            Plotly.purge(gd);\n",
       "            observer.disconnect();\n",
       "        }}\n",
       "}});\n",
       "\n",
       "// Listen for the removal of the full notebook cells\n",
       "var notebookContainer = gd.closest('#notebook-container');\n",
       "if (notebookContainer) {{\n",
       "    x.observe(notebookContainer, {childList: true});\n",
       "}}\n",
       "\n",
       "// Listen for the clearing of the current output cell\n",
       "var outputEl = gd.closest('.output');\n",
       "if (outputEl) {{\n",
       "    x.observe(outputEl, {childList: true});\n",
       "}}\n",
       "\n",
       "                        })                };                });            </script>        </div>"
      ]
     },
     "metadata": {},
     "output_type": "display_data"
    }
   ],
   "source": [
    "fig = plot_lines(df, stat='mean_real', key=k, var_prefix_filter='inc', color_col='region', facet_col='var')\n",
    "# fig = plot_lines(df, stat='mean_real', key='adult20_earner', var_prefix_filter='prop', color_col='var', facet_col='region')\n",
    "fig.show()"
   ]
  },
  {
   "cell_type": "code",
   "execution_count": 85,
   "metadata": {},
   "outputs": [],
   "source": [
    "fig.write_image('test.png', scale=2)"
   ]
  },
  {
   "cell_type": "code",
   "execution_count": 190,
   "metadata": {},
   "outputs": [
    {
     "data": {
      "text/html": [
       "<div>\n",
       "<style scoped>\n",
       "    .dataframe tbody tr th:only-of-type {\n",
       "        vertical-align: middle;\n",
       "    }\n",
       "\n",
       "    .dataframe tbody tr th {\n",
       "        vertical-align: top;\n",
       "    }\n",
       "\n",
       "    .dataframe thead th {\n",
       "        text-align: right;\n",
       "    }\n",
       "</style>\n",
       "<table border=\"1\" class=\"dataframe\">\n",
       "  <thead>\n",
       "    <tr style=\"text-align: right;\">\n",
       "      <th></th>\n",
       "      <th>var</th>\n",
       "      <th>std_yyyy</th>\n",
       "      <th>sido</th>\n",
       "      <th>시도</th>\n",
       "      <th>count</th>\n",
       "      <th>num_indi</th>\n",
       "      <th>frac_earners</th>\n",
       "      <th>mean</th>\n",
       "      <th>mean_real</th>\n",
       "      <th>median</th>\n",
       "      <th>median_real</th>\n",
       "    </tr>\n",
       "  </thead>\n",
       "  <tbody>\n",
       "    <tr>\n",
       "      <th>0</th>\n",
       "      <td>inc_tot</td>\n",
       "      <td>2003</td>\n",
       "      <td>NaN</td>\n",
       "      <td>NaN</td>\n",
       "      <td>2598</td>\n",
       "      <td>3490</td>\n",
       "      <td>0.744413</td>\n",
       "      <td>1.422423e+06</td>\n",
       "      <td>1.930148e+06</td>\n",
       "      <td>0.0</td>\n",
       "      <td>0.000000e+00</td>\n",
       "    </tr>\n",
       "    <tr>\n",
       "      <th>1</th>\n",
       "      <td>inc_tot</td>\n",
       "      <td>2003</td>\n",
       "      <td>11.0</td>\n",
       "      <td>서울특별시</td>\n",
       "      <td>83180</td>\n",
       "      <td>110169</td>\n",
       "      <td>0.755022</td>\n",
       "      <td>9.912230e+06</td>\n",
       "      <td>1.345034e+07</td>\n",
       "      <td>0.0</td>\n",
       "      <td>0.000000e+00</td>\n",
       "    </tr>\n",
       "    <tr>\n",
       "      <th>2</th>\n",
       "      <td>inc_tot</td>\n",
       "      <td>2003</td>\n",
       "      <td>26.0</td>\n",
       "      <td>부산광역시</td>\n",
       "      <td>28138</td>\n",
       "      <td>36984</td>\n",
       "      <td>0.760815</td>\n",
       "      <td>6.605147e+06</td>\n",
       "      <td>8.962815e+06</td>\n",
       "      <td>0.0</td>\n",
       "      <td>0.000000e+00</td>\n",
       "    </tr>\n",
       "    <tr>\n",
       "      <th>3</th>\n",
       "      <td>inc_tot</td>\n",
       "      <td>2003</td>\n",
       "      <td>27.0</td>\n",
       "      <td>대구광역시</td>\n",
       "      <td>17838</td>\n",
       "      <td>24238</td>\n",
       "      <td>0.735952</td>\n",
       "      <td>6.226810e+06</td>\n",
       "      <td>8.449433e+06</td>\n",
       "      <td>0.0</td>\n",
       "      <td>0.000000e+00</td>\n",
       "    </tr>\n",
       "    <tr>\n",
       "      <th>4</th>\n",
       "      <td>inc_tot</td>\n",
       "      <td>2003</td>\n",
       "      <td>28.0</td>\n",
       "      <td>인천광역시</td>\n",
       "      <td>18321</td>\n",
       "      <td>25411</td>\n",
       "      <td>0.720987</td>\n",
       "      <td>6.779958e+06</td>\n",
       "      <td>9.200024e+06</td>\n",
       "      <td>0.0</td>\n",
       "      <td>0.000000e+00</td>\n",
       "    </tr>\n",
       "    <tr>\n",
       "      <th>...</th>\n",
       "      <td>...</td>\n",
       "      <td>...</td>\n",
       "      <td>...</td>\n",
       "      <td>...</td>\n",
       "      <td>...</td>\n",
       "      <td>...</td>\n",
       "      <td>...</td>\n",
       "      <td>...</td>\n",
       "      <td>...</td>\n",
       "      <td>...</td>\n",
       "      <td>...</td>\n",
       "    </tr>\n",
       "    <tr>\n",
       "      <th>82</th>\n",
       "      <td>inc_tot</td>\n",
       "      <td>2018</td>\n",
       "      <td>45.0</td>\n",
       "      <td>전라북도</td>\n",
       "      <td>15285</td>\n",
       "      <td>18749</td>\n",
       "      <td>0.815243</td>\n",
       "      <td>1.573433e+07</td>\n",
       "      <td>1.506398e+07</td>\n",
       "      <td>2618850.0</td>\n",
       "      <td>2.507276e+06</td>\n",
       "    </tr>\n",
       "    <tr>\n",
       "      <th>83</th>\n",
       "      <td>inc_tot</td>\n",
       "      <td>2018</td>\n",
       "      <td>46.0</td>\n",
       "      <td>전라남도</td>\n",
       "      <td>16016</td>\n",
       "      <td>19339</td>\n",
       "      <td>0.828171</td>\n",
       "      <td>1.481512e+07</td>\n",
       "      <td>1.418393e+07</td>\n",
       "      <td>1799565.0</td>\n",
       "      <td>1.722896e+06</td>\n",
       "    </tr>\n",
       "    <tr>\n",
       "      <th>84</th>\n",
       "      <td>inc_tot</td>\n",
       "      <td>2018</td>\n",
       "      <td>47.0</td>\n",
       "      <td>경상북도</td>\n",
       "      <td>22722</td>\n",
       "      <td>27181</td>\n",
       "      <td>0.835952</td>\n",
       "      <td>1.571870e+07</td>\n",
       "      <td>1.504902e+07</td>\n",
       "      <td>2800000.0</td>\n",
       "      <td>2.680708e+06</td>\n",
       "    </tr>\n",
       "    <tr>\n",
       "      <th>85</th>\n",
       "      <td>inc_tot</td>\n",
       "      <td>2018</td>\n",
       "      <td>48.0</td>\n",
       "      <td>경상남도</td>\n",
       "      <td>27987</td>\n",
       "      <td>34430</td>\n",
       "      <td>0.812867</td>\n",
       "      <td>1.703918e+07</td>\n",
       "      <td>1.631324e+07</td>\n",
       "      <td>4151400.0</td>\n",
       "      <td>3.974533e+06</td>\n",
       "    </tr>\n",
       "    <tr>\n",
       "      <th>86</th>\n",
       "      <td>inc_tot</td>\n",
       "      <td>2018</td>\n",
       "      <td>50.0</td>\n",
       "      <td>제주특별자치도</td>\n",
       "      <td>5421</td>\n",
       "      <td>6829</td>\n",
       "      <td>0.793820</td>\n",
       "      <td>1.752891e+07</td>\n",
       "      <td>1.678211e+07</td>\n",
       "      <td>4800000.0</td>\n",
       "      <td>4.595500e+06</td>\n",
       "    </tr>\n",
       "  </tbody>\n",
       "</table>\n",
       "<p>87 rows × 11 columns</p>\n",
       "</div>"
      ],
      "text/plain": [
       "        var  std_yyyy  sido       시도  count  num_indi  frac_earners  \\\n",
       "0   inc_tot      2003   NaN      NaN   2598      3490      0.744413   \n",
       "1   inc_tot      2003  11.0    서울특별시  83180    110169      0.755022   \n",
       "2   inc_tot      2003  26.0    부산광역시  28138     36984      0.760815   \n",
       "3   inc_tot      2003  27.0    대구광역시  17838     24238      0.735952   \n",
       "4   inc_tot      2003  28.0    인천광역시  18321     25411      0.720987   \n",
       "..      ...       ...   ...      ...    ...       ...           ...   \n",
       "82  inc_tot      2018  45.0     전라북도  15285     18749      0.815243   \n",
       "83  inc_tot      2018  46.0     전라남도  16016     19339      0.828171   \n",
       "84  inc_tot      2018  47.0     경상북도  22722     27181      0.835952   \n",
       "85  inc_tot      2018  48.0     경상남도  27987     34430      0.812867   \n",
       "86  inc_tot      2018  50.0  제주특별자치도   5421      6829      0.793820   \n",
       "\n",
       "            mean     mean_real     median   median_real  \n",
       "0   1.422423e+06  1.930148e+06        0.0  0.000000e+00  \n",
       "1   9.912230e+06  1.345034e+07        0.0  0.000000e+00  \n",
       "2   6.605147e+06  8.962815e+06        0.0  0.000000e+00  \n",
       "3   6.226810e+06  8.449433e+06        0.0  0.000000e+00  \n",
       "4   6.779958e+06  9.200024e+06        0.0  0.000000e+00  \n",
       "..           ...           ...        ...           ...  \n",
       "82  1.573433e+07  1.506398e+07  2618850.0  2.507276e+06  \n",
       "83  1.481512e+07  1.418393e+07  1799565.0  1.722896e+06  \n",
       "84  1.571870e+07  1.504902e+07  2800000.0  2.680708e+06  \n",
       "85  1.703918e+07  1.631324e+07  4151400.0  3.974533e+06  \n",
       "86  1.752891e+07  1.678211e+07  4800000.0  4.595500e+06  \n",
       "\n",
       "[87 rows x 11 columns]"
      ]
     },
     "execution_count": 190,
     "metadata": {},
     "output_type": "execute_result"
    }
   ],
   "source": [
    "mmi['kr_sido_adult20']"
   ]
  },
  {
   "cell_type": "code",
   "execution_count": 195,
   "metadata": {},
   "outputs": [
    {
     "ename": "TypeError",
     "evalue": "list indices must be integers or slices, not numpy.float64",
     "output_type": "error",
     "traceback": [
      "\u001b[0;31m---------------------------------------------------------------------------\u001b[0m",
      "\u001b[0;31mTypeError\u001b[0m                                 Traceback (most recent call last)",
      "\u001b[0;32m<ipython-input-195-6898aed5da54>\u001b[0m in \u001b[0;36m<module>\u001b[0;34m\u001b[0m\n\u001b[0;32m----> 1\u001b[0;31m \u001b[0mplot_lines\u001b[0m\u001b[0;34m(\u001b[0m\u001b[0mmmi\u001b[0m\u001b[0;34m[\u001b[0m\u001b[0;34m'kr_sido_adult20'\u001b[0m\u001b[0;34m]\u001b[0m\u001b[0;34m.\u001b[0m\u001b[0mdropna\u001b[0m\u001b[0;34m(\u001b[0m\u001b[0;34m)\u001b[0m\u001b[0;34m,\u001b[0m \u001b[0;34m'mean'\u001b[0m\u001b[0;34m,\u001b[0m \u001b[0;34m'kr_sido_adult20'\u001b[0m\u001b[0;34m)\u001b[0m\u001b[0;34m\u001b[0m\u001b[0;34m\u001b[0m\u001b[0m\n\u001b[0m",
      "\u001b[0;32m<ipython-input-185-4dd7185a2b69>\u001b[0m in \u001b[0;36mplot_lines\u001b[0;34m(df, y, key)\u001b[0m\n\u001b[1;32m     11\u001b[0m     \u001b[0;32melse\u001b[0m\u001b[0;34m:\u001b[0m\u001b[0;34m\u001b[0m\u001b[0;34m\u001b[0m\u001b[0m\n\u001b[1;32m     12\u001b[0m         \u001b[0mheight\u001b[0m \u001b[0;34m=\u001b[0m \u001b[0;36m50\u001b[0m \u001b[0;34m*\u001b[0m \u001b[0;36m8\u001b[0m\u001b[0;34m\u001b[0m\u001b[0;34m\u001b[0m\u001b[0m\n\u001b[0;32m---> 13\u001b[0;31m     fig = px.line(df, x=\"std_yyyy\", y=y, color=color, line_dash=color,\n\u001b[0m\u001b[1;32m     14\u001b[0m                   \u001b[0mtitle\u001b[0m\u001b[0;34m=\u001b[0m\u001b[0;34mf\"{translate(key)} {translate(y)}\"\u001b[0m\u001b[0;34m,\u001b[0m\u001b[0;34m\u001b[0m\u001b[0;34m\u001b[0m\u001b[0m\n\u001b[1;32m     15\u001b[0m                   width=128 * 12, height=height, color_discrete_map=color_map)\n",
      "\u001b[0;32m~/opt/anaconda3/envs/ineq/lib/python3.8/site-packages/plotly/express/_chart_types.py\u001b[0m in \u001b[0;36mline\u001b[0;34m(data_frame, x, y, line_group, color, line_dash, hover_name, hover_data, custom_data, text, facet_row, facet_col, facet_col_wrap, facet_row_spacing, facet_col_spacing, error_x, error_x_minus, error_y, error_y_minus, animation_frame, animation_group, category_orders, labels, orientation, color_discrete_sequence, color_discrete_map, line_dash_sequence, line_dash_map, log_x, log_y, range_x, range_y, line_shape, render_mode, title, template, width, height)\u001b[0m\n\u001b[1;32m    250\u001b[0m     \u001b[0ma\u001b[0m \u001b[0mpolyline\u001b[0m \u001b[0mmark\u001b[0m \u001b[0;32min\u001b[0m \u001b[0;36m2\u001b[0m\u001b[0mD\u001b[0m \u001b[0mspace\u001b[0m\u001b[0;34m.\u001b[0m\u001b[0;34m\u001b[0m\u001b[0;34m\u001b[0m\u001b[0m\n\u001b[1;32m    251\u001b[0m     \"\"\"\n\u001b[0;32m--> 252\u001b[0;31m     \u001b[0;32mreturn\u001b[0m \u001b[0mmake_figure\u001b[0m\u001b[0;34m(\u001b[0m\u001b[0margs\u001b[0m\u001b[0;34m=\u001b[0m\u001b[0mlocals\u001b[0m\u001b[0;34m(\u001b[0m\u001b[0;34m)\u001b[0m\u001b[0;34m,\u001b[0m \u001b[0mconstructor\u001b[0m\u001b[0;34m=\u001b[0m\u001b[0mgo\u001b[0m\u001b[0;34m.\u001b[0m\u001b[0mScatter\u001b[0m\u001b[0;34m)\u001b[0m\u001b[0;34m\u001b[0m\u001b[0;34m\u001b[0m\u001b[0m\n\u001b[0m\u001b[1;32m    253\u001b[0m \u001b[0;34m\u001b[0m\u001b[0m\n\u001b[1;32m    254\u001b[0m \u001b[0;34m\u001b[0m\u001b[0m\n",
      "\u001b[0;32m~/opt/anaconda3/envs/ineq/lib/python3.8/site-packages/plotly/express/_core.py\u001b[0m in \u001b[0;36mmake_figure\u001b[0;34m(args, constructor, trace_patch, layout_patch)\u001b[0m\n\u001b[1;32m   1854\u001b[0m             \u001b[0;32mfor\u001b[0m \u001b[0mval\u001b[0m \u001b[0;32min\u001b[0m \u001b[0msorted_group_values\u001b[0m\u001b[0;34m[\u001b[0m\u001b[0mm\u001b[0m\u001b[0;34m.\u001b[0m\u001b[0mgrouper\u001b[0m\u001b[0;34m]\u001b[0m\u001b[0;34m:\u001b[0m\u001b[0;34m\u001b[0m\u001b[0;34m\u001b[0m\u001b[0m\n\u001b[1;32m   1855\u001b[0m                 \u001b[0;32mif\u001b[0m \u001b[0mval\u001b[0m \u001b[0;32mnot\u001b[0m \u001b[0;32min\u001b[0m \u001b[0mm\u001b[0m\u001b[0;34m.\u001b[0m\u001b[0mval_map\u001b[0m\u001b[0;34m:\u001b[0m\u001b[0;34m\u001b[0m\u001b[0;34m\u001b[0m\u001b[0m\n\u001b[0;32m-> 1856\u001b[0;31m                     \u001b[0mm\u001b[0m\u001b[0;34m.\u001b[0m\u001b[0mval_map\u001b[0m\u001b[0;34m[\u001b[0m\u001b[0mval\u001b[0m\u001b[0;34m]\u001b[0m \u001b[0;34m=\u001b[0m \u001b[0mm\u001b[0m\u001b[0;34m.\u001b[0m\u001b[0msequence\u001b[0m\u001b[0;34m[\u001b[0m\u001b[0mlen\u001b[0m\u001b[0;34m(\u001b[0m\u001b[0mm\u001b[0m\u001b[0;34m.\u001b[0m\u001b[0mval_map\u001b[0m\u001b[0;34m)\u001b[0m \u001b[0;34m%\u001b[0m \u001b[0mlen\u001b[0m\u001b[0;34m(\u001b[0m\u001b[0mm\u001b[0m\u001b[0;34m.\u001b[0m\u001b[0msequence\u001b[0m\u001b[0;34m)\u001b[0m\u001b[0;34m]\u001b[0m\u001b[0;34m\u001b[0m\u001b[0;34m\u001b[0m\u001b[0m\n\u001b[0m\u001b[1;32m   1857\u001b[0m \u001b[0;34m\u001b[0m\u001b[0m\n\u001b[1;32m   1858\u001b[0m     \u001b[0msubplot_type\u001b[0m \u001b[0;34m=\u001b[0m \u001b[0m_subplot_type_for_trace_type\u001b[0m\u001b[0;34m(\u001b[0m\u001b[0mconstructor\u001b[0m\u001b[0;34m(\u001b[0m\u001b[0;34m)\u001b[0m\u001b[0;34m.\u001b[0m\u001b[0mtype\u001b[0m\u001b[0;34m)\u001b[0m\u001b[0;34m\u001b[0m\u001b[0;34m\u001b[0m\u001b[0m\n",
      "\u001b[0;31mTypeError\u001b[0m: list indices must be integers or slices, not numpy.float64"
     ]
    }
   ],
   "source": [
    "plot_lines(mmi['kr_sido_adult20'].dropna(), 'mean', 'kr_sido_adult20')"
   ]
  },
  {
   "cell_type": "code",
   "execution_count": 175,
   "metadata": {},
   "outputs": [
    {
     "data": {
      "application/vnd.plotly.v1+json": {
       "config": {
        "plotlyServerURL": "https://plotly.com"
       },
       "data": [
        {
         "hovertemplate": "var=inc_tot<br>std_yyyy=%{x}<br>gini=%{y}<extra></extra>",
         "legendgroup": "inc_tot",
         "line": {
          "color": "#636efa",
          "dash": "solid",
          "width": 2.4
         },
         "mode": "lines+markers",
         "name": "inc_tot",
         "orientation": "v",
         "showlegend": true,
         "type": "scatter",
         "x": [
          2006,
          2007,
          2008,
          2009,
          2010,
          2011,
          2012,
          2013,
          2014,
          2015,
          2016,
          2017,
          2018
         ],
         "xaxis": "x",
         "y": [
          0.8072787362177765,
          0.7984616232951118,
          0.7912186479899677,
          0.7842165174777156,
          0.7822033713234331,
          0.7803402239960853,
          0.7722450245329349,
          0.7654226809504321,
          0.758176783828864,
          0.7491074402645419,
          0.7410753344932104,
          0.73384088361601,
          0.7252852318657117
         ],
         "yaxis": "y"
        },
        {
         "hovertemplate": "var=prop_txbs_tot<br>std_yyyy=%{x}<br>gini=%{y}<extra></extra>",
         "legendgroup": "prop_txbs_tot",
         "line": {
          "color": "#EF553B",
          "dash": "dot",
          "width": 2.4
         },
         "mode": "lines+markers",
         "name": "prop_txbs_tot",
         "orientation": "v",
         "showlegend": true,
         "type": "scatter",
         "x": [
          2006,
          2007,
          2008,
          2009,
          2010,
          2011,
          2012,
          2013,
          2014,
          2015,
          2016,
          2017,
          2018
         ],
         "xaxis": "x",
         "y": [
          0.8793239995825675,
          0.8749429118507963,
          0.8727882001496301,
          0.8647065290837399,
          0.8630734936880124,
          0.8626904701665281,
          0.8617403176419354,
          0.8624354127027258,
          0.861458471825556,
          0.8581912999108416,
          0.853371376132602,
          0.849246540865709,
          0.8475780545825831
         ],
         "yaxis": "y"
        }
       ],
       "layout": {
        "height": 400,
        "legend": {
         "title": {
          "text": "var"
         },
         "tracegroupgap": 0
        },
        "margin": {
         "b": 16,
         "l": 16,
         "r": 16,
         "t": 72
        },
        "template": {
         "data": {
          "bar": [
           {
            "error_x": {
             "color": "#2a3f5f"
            },
            "error_y": {
             "color": "#2a3f5f"
            },
            "marker": {
             "line": {
              "color": "#E5ECF6",
              "width": 0.5
             }
            },
            "type": "bar"
           }
          ],
          "barpolar": [
           {
            "marker": {
             "line": {
              "color": "#E5ECF6",
              "width": 0.5
             }
            },
            "type": "barpolar"
           }
          ],
          "carpet": [
           {
            "aaxis": {
             "endlinecolor": "#2a3f5f",
             "gridcolor": "white",
             "linecolor": "white",
             "minorgridcolor": "white",
             "startlinecolor": "#2a3f5f"
            },
            "baxis": {
             "endlinecolor": "#2a3f5f",
             "gridcolor": "white",
             "linecolor": "white",
             "minorgridcolor": "white",
             "startlinecolor": "#2a3f5f"
            },
            "type": "carpet"
           }
          ],
          "choropleth": [
           {
            "colorbar": {
             "outlinewidth": 0,
             "ticks": ""
            },
            "type": "choropleth"
           }
          ],
          "contour": [
           {
            "colorbar": {
             "outlinewidth": 0,
             "ticks": ""
            },
            "colorscale": [
             [
              0,
              "#0d0887"
             ],
             [
              0.1111111111111111,
              "#46039f"
             ],
             [
              0.2222222222222222,
              "#7201a8"
             ],
             [
              0.3333333333333333,
              "#9c179e"
             ],
             [
              0.4444444444444444,
              "#bd3786"
             ],
             [
              0.5555555555555556,
              "#d8576b"
             ],
             [
              0.6666666666666666,
              "#ed7953"
             ],
             [
              0.7777777777777778,
              "#fb9f3a"
             ],
             [
              0.8888888888888888,
              "#fdca26"
             ],
             [
              1,
              "#f0f921"
             ]
            ],
            "type": "contour"
           }
          ],
          "contourcarpet": [
           {
            "colorbar": {
             "outlinewidth": 0,
             "ticks": ""
            },
            "type": "contourcarpet"
           }
          ],
          "heatmap": [
           {
            "colorbar": {
             "outlinewidth": 0,
             "ticks": ""
            },
            "colorscale": [
             [
              0,
              "#0d0887"
             ],
             [
              0.1111111111111111,
              "#46039f"
             ],
             [
              0.2222222222222222,
              "#7201a8"
             ],
             [
              0.3333333333333333,
              "#9c179e"
             ],
             [
              0.4444444444444444,
              "#bd3786"
             ],
             [
              0.5555555555555556,
              "#d8576b"
             ],
             [
              0.6666666666666666,
              "#ed7953"
             ],
             [
              0.7777777777777778,
              "#fb9f3a"
             ],
             [
              0.8888888888888888,
              "#fdca26"
             ],
             [
              1,
              "#f0f921"
             ]
            ],
            "type": "heatmap"
           }
          ],
          "heatmapgl": [
           {
            "colorbar": {
             "outlinewidth": 0,
             "ticks": ""
            },
            "colorscale": [
             [
              0,
              "#0d0887"
             ],
             [
              0.1111111111111111,
              "#46039f"
             ],
             [
              0.2222222222222222,
              "#7201a8"
             ],
             [
              0.3333333333333333,
              "#9c179e"
             ],
             [
              0.4444444444444444,
              "#bd3786"
             ],
             [
              0.5555555555555556,
              "#d8576b"
             ],
             [
              0.6666666666666666,
              "#ed7953"
             ],
             [
              0.7777777777777778,
              "#fb9f3a"
             ],
             [
              0.8888888888888888,
              "#fdca26"
             ],
             [
              1,
              "#f0f921"
             ]
            ],
            "type": "heatmapgl"
           }
          ],
          "histogram": [
           {
            "marker": {
             "colorbar": {
              "outlinewidth": 0,
              "ticks": ""
             }
            },
            "type": "histogram"
           }
          ],
          "histogram2d": [
           {
            "colorbar": {
             "outlinewidth": 0,
             "ticks": ""
            },
            "colorscale": [
             [
              0,
              "#0d0887"
             ],
             [
              0.1111111111111111,
              "#46039f"
             ],
             [
              0.2222222222222222,
              "#7201a8"
             ],
             [
              0.3333333333333333,
              "#9c179e"
             ],
             [
              0.4444444444444444,
              "#bd3786"
             ],
             [
              0.5555555555555556,
              "#d8576b"
             ],
             [
              0.6666666666666666,
              "#ed7953"
             ],
             [
              0.7777777777777778,
              "#fb9f3a"
             ],
             [
              0.8888888888888888,
              "#fdca26"
             ],
             [
              1,
              "#f0f921"
             ]
            ],
            "type": "histogram2d"
           }
          ],
          "histogram2dcontour": [
           {
            "colorbar": {
             "outlinewidth": 0,
             "ticks": ""
            },
            "colorscale": [
             [
              0,
              "#0d0887"
             ],
             [
              0.1111111111111111,
              "#46039f"
             ],
             [
              0.2222222222222222,
              "#7201a8"
             ],
             [
              0.3333333333333333,
              "#9c179e"
             ],
             [
              0.4444444444444444,
              "#bd3786"
             ],
             [
              0.5555555555555556,
              "#d8576b"
             ],
             [
              0.6666666666666666,
              "#ed7953"
             ],
             [
              0.7777777777777778,
              "#fb9f3a"
             ],
             [
              0.8888888888888888,
              "#fdca26"
             ],
             [
              1,
              "#f0f921"
             ]
            ],
            "type": "histogram2dcontour"
           }
          ],
          "mesh3d": [
           {
            "colorbar": {
             "outlinewidth": 0,
             "ticks": ""
            },
            "type": "mesh3d"
           }
          ],
          "parcoords": [
           {
            "line": {
             "colorbar": {
              "outlinewidth": 0,
              "ticks": ""
             }
            },
            "type": "parcoords"
           }
          ],
          "pie": [
           {
            "automargin": true,
            "type": "pie"
           }
          ],
          "scatter": [
           {
            "marker": {
             "colorbar": {
              "outlinewidth": 0,
              "ticks": ""
             }
            },
            "type": "scatter"
           }
          ],
          "scatter3d": [
           {
            "line": {
             "colorbar": {
              "outlinewidth": 0,
              "ticks": ""
             }
            },
            "marker": {
             "colorbar": {
              "outlinewidth": 0,
              "ticks": ""
             }
            },
            "type": "scatter3d"
           }
          ],
          "scattercarpet": [
           {
            "marker": {
             "colorbar": {
              "outlinewidth": 0,
              "ticks": ""
             }
            },
            "type": "scattercarpet"
           }
          ],
          "scattergeo": [
           {
            "marker": {
             "colorbar": {
              "outlinewidth": 0,
              "ticks": ""
             }
            },
            "type": "scattergeo"
           }
          ],
          "scattergl": [
           {
            "marker": {
             "colorbar": {
              "outlinewidth": 0,
              "ticks": ""
             }
            },
            "type": "scattergl"
           }
          ],
          "scattermapbox": [
           {
            "marker": {
             "colorbar": {
              "outlinewidth": 0,
              "ticks": ""
             }
            },
            "type": "scattermapbox"
           }
          ],
          "scatterpolar": [
           {
            "marker": {
             "colorbar": {
              "outlinewidth": 0,
              "ticks": ""
             }
            },
            "type": "scatterpolar"
           }
          ],
          "scatterpolargl": [
           {
            "marker": {
             "colorbar": {
              "outlinewidth": 0,
              "ticks": ""
             }
            },
            "type": "scatterpolargl"
           }
          ],
          "scatterternary": [
           {
            "marker": {
             "colorbar": {
              "outlinewidth": 0,
              "ticks": ""
             }
            },
            "type": "scatterternary"
           }
          ],
          "surface": [
           {
            "colorbar": {
             "outlinewidth": 0,
             "ticks": ""
            },
            "colorscale": [
             [
              0,
              "#0d0887"
             ],
             [
              0.1111111111111111,
              "#46039f"
             ],
             [
              0.2222222222222222,
              "#7201a8"
             ],
             [
              0.3333333333333333,
              "#9c179e"
             ],
             [
              0.4444444444444444,
              "#bd3786"
             ],
             [
              0.5555555555555556,
              "#d8576b"
             ],
             [
              0.6666666666666666,
              "#ed7953"
             ],
             [
              0.7777777777777778,
              "#fb9f3a"
             ],
             [
              0.8888888888888888,
              "#fdca26"
             ],
             [
              1,
              "#f0f921"
             ]
            ],
            "type": "surface"
           }
          ],
          "table": [
           {
            "cells": {
             "fill": {
              "color": "#EBF0F8"
             },
             "line": {
              "color": "white"
             }
            },
            "header": {
             "fill": {
              "color": "#C8D4E3"
             },
             "line": {
              "color": "white"
             }
            },
            "type": "table"
           }
          ]
         },
         "layout": {
          "annotationdefaults": {
           "arrowcolor": "#2a3f5f",
           "arrowhead": 0,
           "arrowwidth": 1
          },
          "coloraxis": {
           "colorbar": {
            "outlinewidth": 0,
            "ticks": ""
           }
          },
          "colorscale": {
           "diverging": [
            [
             0,
             "#8e0152"
            ],
            [
             0.1,
             "#c51b7d"
            ],
            [
             0.2,
             "#de77ae"
            ],
            [
             0.3,
             "#f1b6da"
            ],
            [
             0.4,
             "#fde0ef"
            ],
            [
             0.5,
             "#f7f7f7"
            ],
            [
             0.6,
             "#e6f5d0"
            ],
            [
             0.7,
             "#b8e186"
            ],
            [
             0.8,
             "#7fbc41"
            ],
            [
             0.9,
             "#4d9221"
            ],
            [
             1,
             "#276419"
            ]
           ],
           "sequential": [
            [
             0,
             "#0d0887"
            ],
            [
             0.1111111111111111,
             "#46039f"
            ],
            [
             0.2222222222222222,
             "#7201a8"
            ],
            [
             0.3333333333333333,
             "#9c179e"
            ],
            [
             0.4444444444444444,
             "#bd3786"
            ],
            [
             0.5555555555555556,
             "#d8576b"
            ],
            [
             0.6666666666666666,
             "#ed7953"
            ],
            [
             0.7777777777777778,
             "#fb9f3a"
            ],
            [
             0.8888888888888888,
             "#fdca26"
            ],
            [
             1,
             "#f0f921"
            ]
           ],
           "sequentialminus": [
            [
             0,
             "#0d0887"
            ],
            [
             0.1111111111111111,
             "#46039f"
            ],
            [
             0.2222222222222222,
             "#7201a8"
            ],
            [
             0.3333333333333333,
             "#9c179e"
            ],
            [
             0.4444444444444444,
             "#bd3786"
            ],
            [
             0.5555555555555556,
             "#d8576b"
            ],
            [
             0.6666666666666666,
             "#ed7953"
            ],
            [
             0.7777777777777778,
             "#fb9f3a"
            ],
            [
             0.8888888888888888,
             "#fdca26"
            ],
            [
             1,
             "#f0f921"
            ]
           ]
          },
          "colorway": [
           "#636efa",
           "#EF553B",
           "#00cc96",
           "#ab63fa",
           "#FFA15A",
           "#19d3f3",
           "#FF6692",
           "#B6E880",
           "#FF97FF",
           "#FECB52"
          ],
          "font": {
           "color": "#2a3f5f"
          },
          "geo": {
           "bgcolor": "white",
           "lakecolor": "white",
           "landcolor": "#E5ECF6",
           "showlakes": true,
           "showland": true,
           "subunitcolor": "white"
          },
          "hoverlabel": {
           "align": "left"
          },
          "hovermode": "closest",
          "mapbox": {
           "style": "light"
          },
          "paper_bgcolor": "white",
          "plot_bgcolor": "#E5ECF6",
          "polar": {
           "angularaxis": {
            "gridcolor": "white",
            "linecolor": "white",
            "ticks": ""
           },
           "bgcolor": "#E5ECF6",
           "radialaxis": {
            "gridcolor": "white",
            "linecolor": "white",
            "ticks": ""
           }
          },
          "scene": {
           "xaxis": {
            "backgroundcolor": "#E5ECF6",
            "gridcolor": "white",
            "gridwidth": 2,
            "linecolor": "white",
            "showbackground": true,
            "ticks": "",
            "zerolinecolor": "white"
           },
           "yaxis": {
            "backgroundcolor": "#E5ECF6",
            "gridcolor": "white",
            "gridwidth": 2,
            "linecolor": "white",
            "showbackground": true,
            "ticks": "",
            "zerolinecolor": "white"
           },
           "zaxis": {
            "backgroundcolor": "#E5ECF6",
            "gridcolor": "white",
            "gridwidth": 2,
            "linecolor": "white",
            "showbackground": true,
            "ticks": "",
            "zerolinecolor": "white"
           }
          },
          "shapedefaults": {
           "line": {
            "color": "#2a3f5f"
           }
          },
          "ternary": {
           "aaxis": {
            "gridcolor": "white",
            "linecolor": "white",
            "ticks": ""
           },
           "baxis": {
            "gridcolor": "white",
            "linecolor": "white",
            "ticks": ""
           },
           "bgcolor": "#E5ECF6",
           "caxis": {
            "gridcolor": "white",
            "linecolor": "white",
            "ticks": ""
           }
          },
          "title": {
           "x": 0.05
          },
          "xaxis": {
           "automargin": true,
           "gridcolor": "white",
           "linecolor": "white",
           "ticks": "",
           "title": {
            "standoff": 15
           },
           "zerolinecolor": "white",
           "zerolinewidth": 2
          },
          "yaxis": {
           "automargin": true,
           "gridcolor": "white",
           "linecolor": "white",
           "ticks": "",
           "title": {
            "standoff": 15
           },
           "zerolinecolor": "white",
           "zerolinewidth": 2
          }
         }
        },
        "title": {
         "text": "서울 성인(20세 이상) 지니계수"
        },
        "width": 600,
        "xaxis": {
         "anchor": "y",
         "autorange": true,
         "domain": [
          0,
          1
         ],
         "range": [
          2005.1858407079646,
          2018.8141592920354
         ],
         "title": {
          "text": "std_yyyy"
         },
         "type": "linear"
        },
        "yaxis": {
         "anchor": "x",
         "autorange": true,
         "domain": [
          0,
          1
         ],
         "range": [
          0.714063229485343,
          0.8905460019629362
         ],
         "title": {
          "text": "gini"
         },
         "type": "linear"
        }
       }
      },
      "image/png": "[encoded data removed]",
      "text/html": [
       "<div>                            <div id=\"6ddc1342-adf4-4285-ac9a-7b4cda7de24c\" class=\"plotly-graph-div\" style=\"height:400px; width:600px;\"></div>            <script type=\"text/javascript\">                require([\"plotly\"], function(Plotly) {                    window.PLOTLYENV=window.PLOTLYENV || {};                                    if (document.getElementById(\"6ddc1342-adf4-4285-ac9a-7b4cda7de24c\")) {                    Plotly.newPlot(                        \"6ddc1342-adf4-4285-ac9a-7b4cda7de24c\",                        [{\"hovertemplate\": \"var=inc_tot<br>std_yyyy=%{x}<br>gini=%{y}<extra></extra>\", \"legendgroup\": \"inc_tot\", \"line\": {\"color\": \"#636efa\", \"dash\": \"solid\", \"width\": 2.4}, \"mode\": \"lines+markers\", \"name\": \"inc_tot\", \"orientation\": \"v\", \"showlegend\": true, \"type\": \"scatter\", \"x\": [2006, 2007, 2008, 2009, 2010, 2011, 2012, 2013, 2014, 2015, 2016, 2017, 2018], \"xaxis\": \"x\", \"y\": [0.8072787362177765, 0.7984616232951118, 0.7912186479899677, 0.7842165174777156, 0.7822033713234331, 0.7803402239960853, 0.7722450245329349, 0.7654226809504321, 0.758176783828864, 0.7491074402645419, 0.7410753344932104, 0.73384088361601, 0.7252852318657117], \"yaxis\": \"y\"}, {\"hovertemplate\": \"var=prop_txbs_tot<br>std_yyyy=%{x}<br>gini=%{y}<extra></extra>\", \"legendgroup\": \"prop_txbs_tot\", \"line\": {\"color\": \"#EF553B\", \"dash\": \"dot\", \"width\": 2.4}, \"mode\": \"lines+markers\", \"name\": \"prop_txbs_tot\", \"orientation\": \"v\", \"showlegend\": true, \"type\": \"scatter\", \"x\": [2006, 2007, 2008, 2009, 2010, 2011, 2012, 2013, 2014, 2015, 2016, 2017, 2018], \"xaxis\": \"x\", \"y\": [0.8793239995825675, 0.8749429118507963, 0.8727882001496301, 0.8647065290837399, 0.8630734936880124, 0.8626904701665281, 0.8617403176419354, 0.8624354127027258, 0.861458471825556, 0.8581912999108416, 0.853371376132602, 0.849246540865709, 0.8475780545825831], \"yaxis\": \"y\"}],                        {\"height\": 400, \"legend\": {\"title\": {\"text\": \"var\"}, \"tracegroupgap\": 0}, \"margin\": {\"b\": 16, \"l\": 16, \"r\": 16, \"t\": 72}, \"template\": {\"data\": {\"bar\": [{\"error_x\": {\"color\": \"#2a3f5f\"}, \"error_y\": {\"color\": \"#2a3f5f\"}, \"marker\": {\"line\": {\"color\": \"#E5ECF6\", \"width\": 0.5}}, \"type\": \"bar\"}], \"barpolar\": [{\"marker\": {\"line\": {\"color\": \"#E5ECF6\", \"width\": 0.5}}, \"type\": \"barpolar\"}], \"carpet\": [{\"aaxis\": {\"endlinecolor\": \"#2a3f5f\", \"gridcolor\": \"white\", \"linecolor\": \"white\", \"minorgridcolor\": \"white\", \"startlinecolor\": \"#2a3f5f\"}, \"baxis\": {\"endlinecolor\": \"#2a3f5f\", \"gridcolor\": \"white\", \"linecolor\": \"white\", \"minorgridcolor\": \"white\", \"startlinecolor\": \"#2a3f5f\"}, \"type\": \"carpet\"}], \"choropleth\": [{\"colorbar\": {\"outlinewidth\": 0, \"ticks\": \"\"}, \"type\": \"choropleth\"}], \"contour\": [{\"colorbar\": {\"outlinewidth\": 0, \"ticks\": \"\"}, \"colorscale\": [[0.0, \"#0d0887\"], [0.1111111111111111, \"#46039f\"], [0.2222222222222222, \"#7201a8\"], [0.3333333333333333, \"#9c179e\"], [0.4444444444444444, \"#bd3786\"], [0.5555555555555556, \"#d8576b\"], [0.6666666666666666, \"#ed7953\"], [0.7777777777777778, \"#fb9f3a\"], [0.8888888888888888, \"#fdca26\"], [1.0, \"#f0f921\"]], \"type\": \"contour\"}], \"contourcarpet\": [{\"colorbar\": {\"outlinewidth\": 0, \"ticks\": \"\"}, \"type\": \"contourcarpet\"}], \"heatmap\": [{\"colorbar\": {\"outlinewidth\": 0, \"ticks\": \"\"}, \"colorscale\": [[0.0, \"#0d0887\"], [0.1111111111111111, \"#46039f\"], [0.2222222222222222, \"#7201a8\"], [0.3333333333333333, \"#9c179e\"], [0.4444444444444444, \"#bd3786\"], [0.5555555555555556, \"#d8576b\"], [0.6666666666666666, \"#ed7953\"], [0.7777777777777778, \"#fb9f3a\"], [0.8888888888888888, \"#fdca26\"], [1.0, \"#f0f921\"]], \"type\": \"heatmap\"}], \"heatmapgl\": [{\"colorbar\": {\"outlinewidth\": 0, \"ticks\": \"\"}, \"colorscale\": [[0.0, \"#0d0887\"], [0.1111111111111111, \"#46039f\"], [0.2222222222222222, \"#7201a8\"], [0.3333333333333333, \"#9c179e\"], [0.4444444444444444, \"#bd3786\"], [0.5555555555555556, \"#d8576b\"], [0.6666666666666666, \"#ed7953\"], [0.7777777777777778, \"#fb9f3a\"], [0.8888888888888888, \"#fdca26\"], [1.0, \"#f0f921\"]], \"type\": \"heatmapgl\"}], \"histogram\": [{\"marker\": {\"colorbar\": {\"outlinewidth\": 0, \"ticks\": \"\"}}, \"type\": \"histogram\"}], \"histogram2d\": [{\"colorbar\": {\"outlinewidth\": 0, \"ticks\": \"\"}, \"colorscale\": [[0.0, \"#0d0887\"], [0.1111111111111111, \"#46039f\"], [0.2222222222222222, \"#7201a8\"], [0.3333333333333333, \"#9c179e\"], [0.4444444444444444, \"#bd3786\"], [0.5555555555555556, \"#d8576b\"], [0.6666666666666666, \"#ed7953\"], [0.7777777777777778, \"#fb9f3a\"], [0.8888888888888888, \"#fdca26\"], [1.0, \"#f0f921\"]], \"type\": \"histogram2d\"}], \"histogram2dcontour\": [{\"colorbar\": {\"outlinewidth\": 0, \"ticks\": \"\"}, \"colorscale\": [[0.0, \"#0d0887\"], [0.1111111111111111, \"#46039f\"], [0.2222222222222222, \"#7201a8\"], [0.3333333333333333, \"#9c179e\"], [0.4444444444444444, \"#bd3786\"], [0.5555555555555556, \"#d8576b\"], [0.6666666666666666, \"#ed7953\"], [0.7777777777777778, \"#fb9f3a\"], [0.8888888888888888, \"#fdca26\"], [1.0, \"#f0f921\"]], \"type\": \"histogram2dcontour\"}], \"mesh3d\": [{\"colorbar\": {\"outlinewidth\": 0, \"ticks\": \"\"}, \"type\": \"mesh3d\"}], \"parcoords\": [{\"line\": {\"colorbar\": {\"outlinewidth\": 0, \"ticks\": \"\"}}, \"type\": \"parcoords\"}], \"pie\": [{\"automargin\": true, \"type\": \"pie\"}], \"scatter\": [{\"marker\": {\"colorbar\": {\"outlinewidth\": 0, \"ticks\": \"\"}}, \"type\": \"scatter\"}], \"scatter3d\": [{\"line\": {\"colorbar\": {\"outlinewidth\": 0, \"ticks\": \"\"}}, \"marker\": {\"colorbar\": {\"outlinewidth\": 0, \"ticks\": \"\"}}, \"type\": \"scatter3d\"}], \"scattercarpet\": [{\"marker\": {\"colorbar\": {\"outlinewidth\": 0, \"ticks\": \"\"}}, \"type\": \"scattercarpet\"}], \"scattergeo\": [{\"marker\": {\"colorbar\": {\"outlinewidth\": 0, \"ticks\": \"\"}}, \"type\": \"scattergeo\"}], \"scattergl\": [{\"marker\": {\"colorbar\": {\"outlinewidth\": 0, \"ticks\": \"\"}}, \"type\": \"scattergl\"}], \"scattermapbox\": [{\"marker\": {\"colorbar\": {\"outlinewidth\": 0, \"ticks\": \"\"}}, \"type\": \"scattermapbox\"}], \"scatterpolar\": [{\"marker\": {\"colorbar\": {\"outlinewidth\": 0, \"ticks\": \"\"}}, \"type\": \"scatterpolar\"}], \"scatterpolargl\": [{\"marker\": {\"colorbar\": {\"outlinewidth\": 0, \"ticks\": \"\"}}, \"type\": \"scatterpolargl\"}], \"scatterternary\": [{\"marker\": {\"colorbar\": {\"outlinewidth\": 0, \"ticks\": \"\"}}, \"type\": \"scatterternary\"}], \"surface\": [{\"colorbar\": {\"outlinewidth\": 0, \"ticks\": \"\"}, \"colorscale\": [[0.0, \"#0d0887\"], [0.1111111111111111, \"#46039f\"], [0.2222222222222222, \"#7201a8\"], [0.3333333333333333, \"#9c179e\"], [0.4444444444444444, \"#bd3786\"], [0.5555555555555556, \"#d8576b\"], [0.6666666666666666, \"#ed7953\"], [0.7777777777777778, \"#fb9f3a\"], [0.8888888888888888, \"#fdca26\"], [1.0, \"#f0f921\"]], \"type\": \"surface\"}], \"table\": [{\"cells\": {\"fill\": {\"color\": \"#EBF0F8\"}, \"line\": {\"color\": \"white\"}}, \"header\": {\"fill\": {\"color\": \"#C8D4E3\"}, \"line\": {\"color\": \"white\"}}, \"type\": \"table\"}]}, \"layout\": {\"annotationdefaults\": {\"arrowcolor\": \"#2a3f5f\", \"arrowhead\": 0, \"arrowwidth\": 1}, \"coloraxis\": {\"colorbar\": {\"outlinewidth\": 0, \"ticks\": \"\"}}, \"colorscale\": {\"diverging\": [[0, \"#8e0152\"], [0.1, \"#c51b7d\"], [0.2, \"#de77ae\"], [0.3, \"#f1b6da\"], [0.4, \"#fde0ef\"], [0.5, \"#f7f7f7\"], [0.6, \"#e6f5d0\"], [0.7, \"#b8e186\"], [0.8, \"#7fbc41\"], [0.9, \"#4d9221\"], [1, \"#276419\"]], \"sequential\": [[0.0, \"#0d0887\"], [0.1111111111111111, \"#46039f\"], [0.2222222222222222, \"#7201a8\"], [0.3333333333333333, \"#9c179e\"], [0.4444444444444444, \"#bd3786\"], [0.5555555555555556, \"#d8576b\"], [0.6666666666666666, \"#ed7953\"], [0.7777777777777778, \"#fb9f3a\"], [0.8888888888888888, \"#fdca26\"], [1.0, \"#f0f921\"]], \"sequentialminus\": [[0.0, \"#0d0887\"], [0.1111111111111111, \"#46039f\"], [0.2222222222222222, \"#7201a8\"], [0.3333333333333333, \"#9c179e\"], [0.4444444444444444, \"#bd3786\"], [0.5555555555555556, \"#d8576b\"], [0.6666666666666666, \"#ed7953\"], [0.7777777777777778, \"#fb9f3a\"], [0.8888888888888888, \"#fdca26\"], [1.0, \"#f0f921\"]]}, \"colorway\": [\"#636efa\", \"#EF553B\", \"#00cc96\", \"#ab63fa\", \"#FFA15A\", \"#19d3f3\", \"#FF6692\", \"#B6E880\", \"#FF97FF\", \"#FECB52\"], \"font\": {\"color\": \"#2a3f5f\"}, \"geo\": {\"bgcolor\": \"white\", \"lakecolor\": \"white\", \"landcolor\": \"#E5ECF6\", \"showlakes\": true, \"showland\": true, \"subunitcolor\": \"white\"}, \"hoverlabel\": {\"align\": \"left\"}, \"hovermode\": \"closest\", \"mapbox\": {\"style\": \"light\"}, \"paper_bgcolor\": \"white\", \"plot_bgcolor\": \"#E5ECF6\", \"polar\": {\"angularaxis\": {\"gridcolor\": \"white\", \"linecolor\": \"white\", \"ticks\": \"\"}, \"bgcolor\": \"#E5ECF6\", \"radialaxis\": {\"gridcolor\": \"white\", \"linecolor\": \"white\", \"ticks\": \"\"}}, \"scene\": {\"xaxis\": {\"backgroundcolor\": \"#E5ECF6\", \"gridcolor\": \"white\", \"gridwidth\": 2, \"linecolor\": \"white\", \"showbackground\": true, \"ticks\": \"\", \"zerolinecolor\": \"white\"}, \"yaxis\": {\"backgroundcolor\": \"#E5ECF6\", \"gridcolor\": \"white\", \"gridwidth\": 2, \"linecolor\": \"white\", \"showbackground\": true, \"ticks\": \"\", \"zerolinecolor\": \"white\"}, \"zaxis\": {\"backgroundcolor\": \"#E5ECF6\", \"gridcolor\": \"white\", \"gridwidth\": 2, \"linecolor\": \"white\", \"showbackground\": true, \"ticks\": \"\", \"zerolinecolor\": \"white\"}}, \"shapedefaults\": {\"line\": {\"color\": \"#2a3f5f\"}}, \"ternary\": {\"aaxis\": {\"gridcolor\": \"white\", \"linecolor\": \"white\", \"ticks\": \"\"}, \"baxis\": {\"gridcolor\": \"white\", \"linecolor\": \"white\", \"ticks\": \"\"}, \"bgcolor\": \"#E5ECF6\", \"caxis\": {\"gridcolor\": \"white\", \"linecolor\": \"white\", \"ticks\": \"\"}}, \"title\": {\"x\": 0.05}, \"xaxis\": {\"automargin\": true, \"gridcolor\": \"white\", \"linecolor\": \"white\", \"ticks\": \"\", \"title\": {\"standoff\": 15}, \"zerolinecolor\": \"white\", \"zerolinewidth\": 2}, \"yaxis\": {\"automargin\": true, \"gridcolor\": \"white\", \"linecolor\": \"white\", \"ticks\": \"\", \"title\": {\"standoff\": 15}, \"zerolinecolor\": \"white\", \"zerolinewidth\": 2}}}, \"title\": {\"text\": \"\\uc11c\\uc6b8 \\uc131\\uc778(20\\uc138 \\uc774\\uc0c1) \\uc9c0\\ub2c8\\uacc4\\uc218\"}, \"width\": 600, \"xaxis\": {\"anchor\": \"y\", \"domain\": [0.0, 1.0], \"title\": {\"text\": \"std_yyyy\"}}, \"yaxis\": {\"anchor\": \"x\", \"domain\": [0.0, 1.0], \"title\": {\"text\": \"gini\"}}},                        {\"responsive\": true}                    ).then(function(){\n",
       "                            \n",
       "var gd = document.getElementById('6ddc1342-adf4-4285-ac9a-7b4cda7de24c');\n",
       "var x = new MutationObserver(function (mutations, observer) {{\n",
       "        var display = window.getComputedStyle(gd).display;\n",
       "        if (!display || display === 'none') {{\n",
       "            console.log([gd, 'removed!']);\n",
       "            Plotly.purge(gd);\n",
       "            observer.disconnect();\n",
       "        }}\n",
       "}});\n",
       "\n",
       "// Listen for the removal of the full notebook cells\n",
       "var notebookContainer = gd.closest('#notebook-container');\n",
       "if (notebookContainer) {{\n",
       "    x.observe(notebookContainer, {childList: true});\n",
       "}}\n",
       "\n",
       "// Listen for the clearing of the current output cell\n",
       "var outputEl = gd.closest('.output');\n",
       "if (outputEl) {{\n",
       "    x.observe(outputEl, {childList: true});\n",
       "}}\n",
       "\n",
       "                        })                };                });            </script>        </div>"
      ]
     },
     "metadata": {},
     "output_type": "display_data"
    }
   ],
   "source": [
    "plot_lines(mmi['seoul_adult20'], 'gini', 'seoul_adult20')"
   ]
  },
  {
   "cell_type": "code",
   "execution_count": 184,
   "metadata": {},
   "outputs": [
    {
     "data": {
      "application/vnd.plotly.v1+json": {
       "config": {
        "plotlyServerURL": "https://plotly.com"
       },
       "data": [
        {
         "hovertemplate": "var=inc_wage<br>std_yyyy=%{x}<br>mean_real=%{y}<extra></extra>",
         "legendgroup": "inc_wage",
         "line": {
          "color": "#00CC96",
          "dash": "solid",
          "width": 2.4
         },
         "mode": "lines+markers",
         "name": "inc_wage",
         "orientation": "v",
         "showlegend": true,
         "type": "scatter",
         "x": [
          2006,
          2007,
          2008,
          2009,
          2010,
          2011,
          2012,
          2013,
          2014,
          2015,
          2016,
          2017,
          2018
         ],
         "xaxis": "x",
         "y": [
          36469989.76979966,
          37250329.43835276,
          37155383.28671914,
          35754293.75145455,
          36529587.60563026,
          36827175.77975556,
          37003168.84251617,
          37054643.30375526,
          37006477.85650159,
          37292389.37240036,
          37923037.19745667,
          38633658.25817278,
          39631422.56536859
         ],
         "yaxis": "y"
        },
        {
         "hovertemplate": "var=inc_bus<br>std_yyyy=%{x}<br>mean_real=%{y}<extra></extra>",
         "legendgroup": "inc_bus",
         "line": {
          "color": "#AB63FA",
          "dash": "dot",
          "width": 2.4
         },
         "mode": "lines+markers",
         "name": "inc_bus",
         "orientation": "v",
         "showlegend": true,
         "type": "scatter",
         "x": [
          2006,
          2007,
          2008,
          2009,
          2010,
          2011,
          2012,
          2013,
          2014,
          2015,
          2016,
          2017,
          2018
         ],
         "xaxis": "x",
         "y": [
          17968277.18215111,
          16099681.98460594,
          14512597.9165114,
          14569285.27598966,
          15173012.63556423,
          15657991.35405587,
          15482377.46853143,
          15403054.6130986,
          15719621.81022572,
          15650824.10132859,
          16230763.91231532,
          15755785.02342276,
          15511175.61224355
         ],
         "yaxis": "y"
        },
        {
         "hovertemplate": "var=prop_txbs_hs<br>std_yyyy=%{x}<br>mean_real=%{y}<extra></extra>",
         "legendgroup": "prop_txbs_hs",
         "line": {
          "color": "#4C78A8",
          "dash": "dash",
          "width": 2.4
         },
         "mode": "lines+markers",
         "name": "prop_txbs_hs",
         "orientation": "v",
         "showlegend": true,
         "type": "scatter",
         "x": [
          2006,
          2007,
          2008,
          2009,
          2010,
          2011,
          2012,
          2013,
          2014,
          2015,
          2016,
          2017,
          2018
         ],
         "xaxis": "x",
         "y": [
          137995856.6773494,
          164152332.2660515,
          164039816.9697846,
          184268278.4381666,
          190829503.4852097,
          180346879.0717383,
          178258158.621595,
          172020447.6164617,
          165423663.5971439,
          168777987.9065003,
          177829799.6300636,
          186853827.4152432,
          197848064.2683913
         ],
         "yaxis": "y"
        },
        {
         "hovertemplate": "var=prop_txbs_lnd<br>std_yyyy=%{x}<br>mean_real=%{y}<extra></extra>",
         "legendgroup": "prop_txbs_lnd",
         "line": {
          "color": "#F58518",
          "dash": "longdash",
          "width": 2.4
         },
         "mode": "lines+markers",
         "name": "prop_txbs_lnd",
         "orientation": "v",
         "showlegend": true,
         "type": "scatter",
         "x": [
          2006,
          2007,
          2008,
          2009,
          2010,
          2011,
          2012,
          2013,
          2014,
          2015,
          2016,
          2017,
          2018
         ],
         "xaxis": "x",
         "y": [
          164530996.7272192,
          182635924.8017152,
          199141285.6223472,
          198382942.048122,
          192294409.8052451,
          185215340.944602,
          186071105.7529434,
          186349403.7745711,
          187441200.6104155,
          190063075.0296016,
          193475670.8692533,
          194219374.9083538,
          197112692.7810664
         ],
         "yaxis": "y"
        },
        {
         "hovertemplate": "var=prop_txbs_bldg<br>std_yyyy=%{x}<br>mean_real=%{y}<extra></extra>",
         "legendgroup": "prop_txbs_bldg",
         "line": {
          "color": "#E45756",
          "dash": "dashdot",
          "width": 2.4
         },
         "mode": "lines+markers",
         "name": "prop_txbs_bldg",
         "orientation": "v",
         "showlegend": true,
         "type": "scatter",
         "x": [
          2006,
          2007,
          2008,
          2009,
          2010,
          2011,
          2012,
          2013,
          2014,
          2015,
          2016,
          2017,
          2018
         ],
         "xaxis": "x",
         "y": [
          94499334.66322759,
          91369834.9971138,
          87958928.9022112,
          90468401.98406057,
          91377613.59214526,
          93387365.82841235,
          94285593.207993,
          95066502.59947771,
          93449701.41183129,
          90948489.00498828,
          89034934.0892256,
          86179067.19967978,
          86774616.16455804
         ],
         "yaxis": "y"
        }
       ],
       "layout": {
        "height": 400,
        "legend": {
         "title": {
          "text": "var"
         },
         "tracegroupgap": 0
        },
        "margin": {
         "b": 16,
         "l": 16,
         "r": 16,
         "t": 72
        },
        "template": {
         "data": {
          "bar": [
           {
            "error_x": {
             "color": "#2a3f5f"
            },
            "error_y": {
             "color": "#2a3f5f"
            },
            "marker": {
             "line": {
              "color": "#E5ECF6",
              "width": 0.5
             }
            },
            "type": "bar"
           }
          ],
          "barpolar": [
           {
            "marker": {
             "line": {
              "color": "#E5ECF6",
              "width": 0.5
             }
            },
            "type": "barpolar"
           }
          ],
          "carpet": [
           {
            "aaxis": {
             "endlinecolor": "#2a3f5f",
             "gridcolor": "white",
             "linecolor": "white",
             "minorgridcolor": "white",
             "startlinecolor": "#2a3f5f"
            },
            "baxis": {
             "endlinecolor": "#2a3f5f",
             "gridcolor": "white",
             "linecolor": "white",
             "minorgridcolor": "white",
             "startlinecolor": "#2a3f5f"
            },
            "type": "carpet"
           }
          ],
          "choropleth": [
           {
            "colorbar": {
             "outlinewidth": 0,
             "ticks": ""
            },
            "type": "choropleth"
           }
          ],
          "contour": [
           {
            "colorbar": {
             "outlinewidth": 0,
             "ticks": ""
            },
            "colorscale": [
             [
              0,
              "#0d0887"
             ],
             [
              0.1111111111111111,
              "#46039f"
             ],
             [
              0.2222222222222222,
              "#7201a8"
             ],
             [
              0.3333333333333333,
              "#9c179e"
             ],
             [
              0.4444444444444444,
              "#bd3786"
             ],
             [
              0.5555555555555556,
              "#d8576b"
             ],
             [
              0.6666666666666666,
              "#ed7953"
             ],
             [
              0.7777777777777778,
              "#fb9f3a"
             ],
             [
              0.8888888888888888,
              "#fdca26"
             ],
             [
              1,
              "#f0f921"
             ]
            ],
            "type": "contour"
           }
          ],
          "contourcarpet": [
           {
            "colorbar": {
             "outlinewidth": 0,
             "ticks": ""
            },
            "type": "contourcarpet"
           }
          ],
          "heatmap": [
           {
            "colorbar": {
             "outlinewidth": 0,
             "ticks": ""
            },
            "colorscale": [
             [
              0,
              "#0d0887"
             ],
             [
              0.1111111111111111,
              "#46039f"
             ],
             [
              0.2222222222222222,
              "#7201a8"
             ],
             [
              0.3333333333333333,
              "#9c179e"
             ],
             [
              0.4444444444444444,
              "#bd3786"
             ],
             [
              0.5555555555555556,
              "#d8576b"
             ],
             [
              0.6666666666666666,
              "#ed7953"
             ],
             [
              0.7777777777777778,
              "#fb9f3a"
             ],
             [
              0.8888888888888888,
              "#fdca26"
             ],
             [
              1,
              "#f0f921"
             ]
            ],
            "type": "heatmap"
           }
          ],
          "heatmapgl": [
           {
            "colorbar": {
             "outlinewidth": 0,
             "ticks": ""
            },
            "colorscale": [
             [
              0,
              "#0d0887"
             ],
             [
              0.1111111111111111,
              "#46039f"
             ],
             [
              0.2222222222222222,
              "#7201a8"
             ],
             [
              0.3333333333333333,
              "#9c179e"
             ],
             [
              0.4444444444444444,
              "#bd3786"
             ],
             [
              0.5555555555555556,
              "#d8576b"
             ],
             [
              0.6666666666666666,
              "#ed7953"
             ],
             [
              0.7777777777777778,
              "#fb9f3a"
             ],
             [
              0.8888888888888888,
              "#fdca26"
             ],
             [
              1,
              "#f0f921"
             ]
            ],
            "type": "heatmapgl"
           }
          ],
          "histogram": [
           {
            "marker": {
             "colorbar": {
              "outlinewidth": 0,
              "ticks": ""
             }
            },
            "type": "histogram"
           }
          ],
          "histogram2d": [
           {
            "colorbar": {
             "outlinewidth": 0,
             "ticks": ""
            },
            "colorscale": [
             [
              0,
              "#0d0887"
             ],
             [
              0.1111111111111111,
              "#46039f"
             ],
             [
              0.2222222222222222,
              "#7201a8"
             ],
             [
              0.3333333333333333,
              "#9c179e"
             ],
             [
              0.4444444444444444,
              "#bd3786"
             ],
             [
              0.5555555555555556,
              "#d8576b"
             ],
             [
              0.6666666666666666,
              "#ed7953"
             ],
             [
              0.7777777777777778,
              "#fb9f3a"
             ],
             [
              0.8888888888888888,
              "#fdca26"
             ],
             [
              1,
              "#f0f921"
             ]
            ],
            "type": "histogram2d"
           }
          ],
          "histogram2dcontour": [
           {
            "colorbar": {
             "outlinewidth": 0,
             "ticks": ""
            },
            "colorscale": [
             [
              0,
              "#0d0887"
             ],
             [
              0.1111111111111111,
              "#46039f"
             ],
             [
              0.2222222222222222,
              "#7201a8"
             ],
             [
              0.3333333333333333,
              "#9c179e"
             ],
             [
              0.4444444444444444,
              "#bd3786"
             ],
             [
              0.5555555555555556,
              "#d8576b"
             ],
             [
              0.6666666666666666,
              "#ed7953"
             ],
             [
              0.7777777777777778,
              "#fb9f3a"
             ],
             [
              0.8888888888888888,
              "#fdca26"
             ],
             [
              1,
              "#f0f921"
             ]
            ],
            "type": "histogram2dcontour"
           }
          ],
          "mesh3d": [
           {
            "colorbar": {
             "outlinewidth": 0,
             "ticks": ""
            },
            "type": "mesh3d"
           }
          ],
          "parcoords": [
           {
            "line": {
             "colorbar": {
              "outlinewidth": 0,
              "ticks": ""
             }
            },
            "type": "parcoords"
           }
          ],
          "pie": [
           {
            "automargin": true,
            "type": "pie"
           }
          ],
          "scatter": [
           {
            "marker": {
             "colorbar": {
              "outlinewidth": 0,
              "ticks": ""
             }
            },
            "type": "scatter"
           }
          ],
          "scatter3d": [
           {
            "line": {
             "colorbar": {
              "outlinewidth": 0,
              "ticks": ""
             }
            },
            "marker": {
             "colorbar": {
              "outlinewidth": 0,
              "ticks": ""
             }
            },
            "type": "scatter3d"
           }
          ],
          "scattercarpet": [
           {
            "marker": {
             "colorbar": {
              "outlinewidth": 0,
              "ticks": ""
             }
            },
            "type": "scattercarpet"
           }
          ],
          "scattergeo": [
           {
            "marker": {
             "colorbar": {
              "outlinewidth": 0,
              "ticks": ""
             }
            },
            "type": "scattergeo"
           }
          ],
          "scattergl": [
           {
            "marker": {
             "colorbar": {
              "outlinewidth": 0,
              "ticks": ""
             }
            },
            "type": "scattergl"
           }
          ],
          "scattermapbox": [
           {
            "marker": {
             "colorbar": {
              "outlinewidth": 0,
              "ticks": ""
             }
            },
            "type": "scattermapbox"
           }
          ],
          "scatterpolar": [
           {
            "marker": {
             "colorbar": {
              "outlinewidth": 0,
              "ticks": ""
             }
            },
            "type": "scatterpolar"
           }
          ],
          "scatterpolargl": [
           {
            "marker": {
             "colorbar": {
              "outlinewidth": 0,
              "ticks": ""
             }
            },
            "type": "scatterpolargl"
           }
          ],
          "scatterternary": [
           {
            "marker": {
             "colorbar": {
              "outlinewidth": 0,
              "ticks": ""
             }
            },
            "type": "scatterternary"
           }
          ],
          "surface": [
           {
            "colorbar": {
             "outlinewidth": 0,
             "ticks": ""
            },
            "colorscale": [
             [
              0,
              "#0d0887"
             ],
             [
              0.1111111111111111,
              "#46039f"
             ],
             [
              0.2222222222222222,
              "#7201a8"
             ],
             [
              0.3333333333333333,
              "#9c179e"
             ],
             [
              0.4444444444444444,
              "#bd3786"
             ],
             [
              0.5555555555555556,
              "#d8576b"
             ],
             [
              0.6666666666666666,
              "#ed7953"
             ],
             [
              0.7777777777777778,
              "#fb9f3a"
             ],
             [
              0.8888888888888888,
              "#fdca26"
             ],
             [
              1,
              "#f0f921"
             ]
            ],
            "type": "surface"
           }
          ],
          "table": [
           {
            "cells": {
             "fill": {
              "color": "#EBF0F8"
             },
             "line": {
              "color": "white"
             }
            },
            "header": {
             "fill": {
              "color": "#C8D4E3"
             },
             "line": {
              "color": "white"
             }
            },
            "type": "table"
           }
          ]
         },
         "layout": {
          "annotationdefaults": {
           "arrowcolor": "#2a3f5f",
           "arrowhead": 0,
           "arrowwidth": 1
          },
          "coloraxis": {
           "colorbar": {
            "outlinewidth": 0,
            "ticks": ""
           }
          },
          "colorscale": {
           "diverging": [
            [
             0,
             "#8e0152"
            ],
            [
             0.1,
             "#c51b7d"
            ],
            [
             0.2,
             "#de77ae"
            ],
            [
             0.3,
             "#f1b6da"
            ],
            [
             0.4,
             "#fde0ef"
            ],
            [
             0.5,
             "#f7f7f7"
            ],
            [
             0.6,
             "#e6f5d0"
            ],
            [
             0.7,
             "#b8e186"
            ],
            [
             0.8,
             "#7fbc41"
            ],
            [
             0.9,
             "#4d9221"
            ],
            [
             1,
             "#276419"
            ]
           ],
           "sequential": [
            [
             0,
             "#0d0887"
            ],
            [
             0.1111111111111111,
             "#46039f"
            ],
            [
             0.2222222222222222,
             "#7201a8"
            ],
            [
             0.3333333333333333,
             "#9c179e"
            ],
            [
             0.4444444444444444,
             "#bd3786"
            ],
            [
             0.5555555555555556,
             "#d8576b"
            ],
            [
             0.6666666666666666,
             "#ed7953"
            ],
            [
             0.7777777777777778,
             "#fb9f3a"
            ],
            [
             0.8888888888888888,
             "#fdca26"
            ],
            [
             1,
             "#f0f921"
            ]
           ],
           "sequentialminus": [
            [
             0,
             "#0d0887"
            ],
            [
             0.1111111111111111,
             "#46039f"
            ],
            [
             0.2222222222222222,
             "#7201a8"
            ],
            [
             0.3333333333333333,
             "#9c179e"
            ],
            [
             0.4444444444444444,
             "#bd3786"
            ],
            [
             0.5555555555555556,
             "#d8576b"
            ],
            [
             0.6666666666666666,
             "#ed7953"
            ],
            [
             0.7777777777777778,
             "#fb9f3a"
            ],
            [
             0.8888888888888888,
             "#fdca26"
            ],
            [
             1,
             "#f0f921"
            ]
           ]
          },
          "colorway": [
           "#636efa",
           "#EF553B",
           "#00cc96",
           "#ab63fa",
           "#FFA15A",
           "#19d3f3",
           "#FF6692",
           "#B6E880",
           "#FF97FF",
           "#FECB52"
          ],
          "font": {
           "color": "#2a3f5f"
          },
          "geo": {
           "bgcolor": "white",
           "lakecolor": "white",
           "landcolor": "#E5ECF6",
           "showlakes": true,
           "showland": true,
           "subunitcolor": "white"
          },
          "hoverlabel": {
           "align": "left"
          },
          "hovermode": "closest",
          "mapbox": {
           "style": "light"
          },
          "paper_bgcolor": "white",
          "plot_bgcolor": "#E5ECF6",
          "polar": {
           "angularaxis": {
            "gridcolor": "white",
            "linecolor": "white",
            "ticks": ""
           },
           "bgcolor": "#E5ECF6",
           "radialaxis": {
            "gridcolor": "white",
            "linecolor": "white",
            "ticks": ""
           }
          },
          "scene": {
           "xaxis": {
            "backgroundcolor": "#E5ECF6",
            "gridcolor": "white",
            "gridwidth": 2,
            "linecolor": "white",
            "showbackground": true,
            "ticks": "",
            "zerolinecolor": "white"
           },
           "yaxis": {
            "backgroundcolor": "#E5ECF6",
            "gridcolor": "white",
            "gridwidth": 2,
            "linecolor": "white",
            "showbackground": true,
            "ticks": "",
            "zerolinecolor": "white"
           },
           "zaxis": {
            "backgroundcolor": "#E5ECF6",
            "gridcolor": "white",
            "gridwidth": 2,
            "linecolor": "white",
            "showbackground": true,
            "ticks": "",
            "zerolinecolor": "white"
           }
          },
          "shapedefaults": {
           "line": {
            "color": "#2a3f5f"
           }
          },
          "ternary": {
           "aaxis": {
            "gridcolor": "white",
            "linecolor": "white",
            "ticks": ""
           },
           "baxis": {
            "gridcolor": "white",
            "linecolor": "white",
            "ticks": ""
           },
           "bgcolor": "#E5ECF6",
           "caxis": {
            "gridcolor": "white",
            "linecolor": "white",
            "ticks": ""
           }
          },
          "title": {
           "x": 0.05
          },
          "xaxis": {
           "automargin": true,
           "gridcolor": "white",
           "linecolor": "white",
           "ticks": "",
           "title": {
            "standoff": 15
           },
           "zerolinecolor": "white",
           "zerolinewidth": 2
          },
          "yaxis": {
           "automargin": true,
           "gridcolor": "white",
           "linecolor": "white",
           "ticks": "",
           "title": {
            "standoff": 15
           },
           "zerolinecolor": "white",
           "zerolinewidth": 2
          }
         }
        },
        "title": {
         "text": "서울 성인(20세 이상) 소득자 평균 실질"
        },
        "width": 600,
        "xaxis": {
         "anchor": "y",
         "autorange": true,
         "domain": [
          0,
          1
         ],
         "range": [
          2005.1801470588234,
          2018.8198529411766
         ],
         "title": {
          "text": "std_yyyy"
         },
         "type": "linear"
        },
        "yaxis": {
         "anchor": "x",
         "autorange": true,
         "domain": [
          0,
          1
         ],
         "range": [
          1062064.6278546154,
          212591818.91100398
         ],
         "title": {
          "text": "mean_real"
         },
         "type": "linear"
        }
       }
      },
      "image/png": "[encoded data removed]",
      "text/html": [
       "<div>                            <div id=\"35a3fff1-68d0-47ab-84bd-4a0e75aa93e7\" class=\"plotly-graph-div\" style=\"height:400px; width:600px;\"></div>            <script type=\"text/javascript\">                require([\"plotly\"], function(Plotly) {                    window.PLOTLYENV=window.PLOTLYENV || {};                                    if (document.getElementById(\"35a3fff1-68d0-47ab-84bd-4a0e75aa93e7\")) {                    Plotly.newPlot(                        \"35a3fff1-68d0-47ab-84bd-4a0e75aa93e7\",                        [{\"hovertemplate\": \"var=inc_wage<br>std_yyyy=%{x}<br>mean_real=%{y}<extra></extra>\", \"legendgroup\": \"inc_wage\", \"line\": {\"color\": \"#00CC96\", \"dash\": \"solid\", \"width\": 2.4}, \"mode\": \"lines+markers\", \"name\": \"inc_wage\", \"orientation\": \"v\", \"showlegend\": true, \"type\": \"scatter\", \"x\": [2006, 2007, 2008, 2009, 2010, 2011, 2012, 2013, 2014, 2015, 2016, 2017, 2018], \"xaxis\": \"x\", \"y\": [36469989.76979966, 37250329.43835276, 37155383.28671914, 35754293.75145455, 36529587.60563026, 36827175.77975556, 37003168.84251617, 37054643.30375526, 37006477.85650159, 37292389.37240036, 37923037.19745667, 38633658.25817278, 39631422.56536859], \"yaxis\": \"y\"}, {\"hovertemplate\": \"var=inc_bus<br>std_yyyy=%{x}<br>mean_real=%{y}<extra></extra>\", \"legendgroup\": \"inc_bus\", \"line\": {\"color\": \"#AB63FA\", \"dash\": \"dot\", \"width\": 2.4}, \"mode\": \"lines+markers\", \"name\": \"inc_bus\", \"orientation\": \"v\", \"showlegend\": true, \"type\": \"scatter\", \"x\": [2006, 2007, 2008, 2009, 2010, 2011, 2012, 2013, 2014, 2015, 2016, 2017, 2018], \"xaxis\": \"x\", \"y\": [17968277.18215111, 16099681.98460594, 14512597.9165114, 14569285.27598966, 15173012.63556423, 15657991.35405587, 15482377.46853143, 15403054.6130986, 15719621.81022572, 15650824.10132859, 16230763.91231532, 15755785.02342276, 15511175.61224355], \"yaxis\": \"y\"}, {\"hovertemplate\": \"var=prop_txbs_hs<br>std_yyyy=%{x}<br>mean_real=%{y}<extra></extra>\", \"legendgroup\": \"prop_txbs_hs\", \"line\": {\"color\": \"#4C78A8\", \"dash\": \"dash\", \"width\": 2.4}, \"mode\": \"lines+markers\", \"name\": \"prop_txbs_hs\", \"orientation\": \"v\", \"showlegend\": true, \"type\": \"scatter\", \"x\": [2006, 2007, 2008, 2009, 2010, 2011, 2012, 2013, 2014, 2015, 2016, 2017, 2018], \"xaxis\": \"x\", \"y\": [137995856.6773494, 164152332.2660515, 164039816.9697846, 184268278.4381666, 190829503.4852097, 180346879.0717383, 178258158.621595, 172020447.6164617, 165423663.5971439, 168777987.9065003, 177829799.6300636, 186853827.4152432, 197848064.2683913], \"yaxis\": \"y\"}, {\"hovertemplate\": \"var=prop_txbs_lnd<br>std_yyyy=%{x}<br>mean_real=%{y}<extra></extra>\", \"legendgroup\": \"prop_txbs_lnd\", \"line\": {\"color\": \"#F58518\", \"dash\": \"longdash\", \"width\": 2.4}, \"mode\": \"lines+markers\", \"name\": \"prop_txbs_lnd\", \"orientation\": \"v\", \"showlegend\": true, \"type\": \"scatter\", \"x\": [2006, 2007, 2008, 2009, 2010, 2011, 2012, 2013, 2014, 2015, 2016, 2017, 2018], \"xaxis\": \"x\", \"y\": [164530996.7272192, 182635924.8017152, 199141285.6223472, 198382942.048122, 192294409.8052451, 185215340.944602, 186071105.7529434, 186349403.7745711, 187441200.6104155, 190063075.0296016, 193475670.8692533, 194219374.9083538, 197112692.7810664], \"yaxis\": \"y\"}, {\"hovertemplate\": \"var=prop_txbs_bldg<br>std_yyyy=%{x}<br>mean_real=%{y}<extra></extra>\", \"legendgroup\": \"prop_txbs_bldg\", \"line\": {\"color\": \"#E45756\", \"dash\": \"dashdot\", \"width\": 2.4}, \"mode\": \"lines+markers\", \"name\": \"prop_txbs_bldg\", \"orientation\": \"v\", \"showlegend\": true, \"type\": \"scatter\", \"x\": [2006, 2007, 2008, 2009, 2010, 2011, 2012, 2013, 2014, 2015, 2016, 2017, 2018], \"xaxis\": \"x\", \"y\": [94499334.66322759, 91369834.9971138, 87958928.9022112, 90468401.98406057, 91377613.59214526, 93387365.82841235, 94285593.207993, 95066502.59947771, 93449701.41183129, 90948489.00498828, 89034934.0892256, 86179067.19967978, 86774616.16455804], \"yaxis\": \"y\"}],                        {\"height\": 400, \"legend\": {\"title\": {\"text\": \"var\"}, \"tracegroupgap\": 0}, \"margin\": {\"b\": 16, \"l\": 16, \"r\": 16, \"t\": 72}, \"template\": {\"data\": {\"bar\": [{\"error_x\": {\"color\": \"#2a3f5f\"}, \"error_y\": {\"color\": \"#2a3f5f\"}, \"marker\": {\"line\": {\"color\": \"#E5ECF6\", \"width\": 0.5}}, \"type\": \"bar\"}], \"barpolar\": [{\"marker\": {\"line\": {\"color\": \"#E5ECF6\", \"width\": 0.5}}, \"type\": \"barpolar\"}], \"carpet\": [{\"aaxis\": {\"endlinecolor\": \"#2a3f5f\", \"gridcolor\": \"white\", \"linecolor\": \"white\", \"minorgridcolor\": \"white\", \"startlinecolor\": \"#2a3f5f\"}, \"baxis\": {\"endlinecolor\": \"#2a3f5f\", \"gridcolor\": \"white\", \"linecolor\": \"white\", \"minorgridcolor\": \"white\", \"startlinecolor\": \"#2a3f5f\"}, \"type\": \"carpet\"}], \"choropleth\": [{\"colorbar\": {\"outlinewidth\": 0, \"ticks\": \"\"}, \"type\": \"choropleth\"}], \"contour\": [{\"colorbar\": {\"outlinewidth\": 0, \"ticks\": \"\"}, \"colorscale\": [[0.0, \"#0d0887\"], [0.1111111111111111, \"#46039f\"], [0.2222222222222222, \"#7201a8\"], [0.3333333333333333, \"#9c179e\"], [0.4444444444444444, \"#bd3786\"], [0.5555555555555556, \"#d8576b\"], [0.6666666666666666, \"#ed7953\"], [0.7777777777777778, \"#fb9f3a\"], [0.8888888888888888, \"#fdca26\"], [1.0, \"#f0f921\"]], \"type\": \"contour\"}], \"contourcarpet\": [{\"colorbar\": {\"outlinewidth\": 0, \"ticks\": \"\"}, \"type\": \"contourcarpet\"}], \"heatmap\": [{\"colorbar\": {\"outlinewidth\": 0, \"ticks\": \"\"}, \"colorscale\": [[0.0, \"#0d0887\"], [0.1111111111111111, \"#46039f\"], [0.2222222222222222, \"#7201a8\"], [0.3333333333333333, \"#9c179e\"], [0.4444444444444444, \"#bd3786\"], [0.5555555555555556, \"#d8576b\"], [0.6666666666666666, \"#ed7953\"], [0.7777777777777778, \"#fb9f3a\"], [0.8888888888888888, \"#fdca26\"], [1.0, \"#f0f921\"]], \"type\": \"heatmap\"}], \"heatmapgl\": [{\"colorbar\": {\"outlinewidth\": 0, \"ticks\": \"\"}, \"colorscale\": [[0.0, \"#0d0887\"], [0.1111111111111111, \"#46039f\"], [0.2222222222222222, \"#7201a8\"], [0.3333333333333333, \"#9c179e\"], [0.4444444444444444, \"#bd3786\"], [0.5555555555555556, \"#d8576b\"], [0.6666666666666666, \"#ed7953\"], [0.7777777777777778, \"#fb9f3a\"], [0.8888888888888888, \"#fdca26\"], [1.0, \"#f0f921\"]], \"type\": \"heatmapgl\"}], \"histogram\": [{\"marker\": {\"colorbar\": {\"outlinewidth\": 0, \"ticks\": \"\"}}, \"type\": \"histogram\"}], \"histogram2d\": [{\"colorbar\": {\"outlinewidth\": 0, \"ticks\": \"\"}, \"colorscale\": [[0.0, \"#0d0887\"], [0.1111111111111111, \"#46039f\"], [0.2222222222222222, \"#7201a8\"], [0.3333333333333333, \"#9c179e\"], [0.4444444444444444, \"#bd3786\"], [0.5555555555555556, \"#d8576b\"], [0.6666666666666666, \"#ed7953\"], [0.7777777777777778, \"#fb9f3a\"], [0.8888888888888888, \"#fdca26\"], [1.0, \"#f0f921\"]], \"type\": \"histogram2d\"}], \"histogram2dcontour\": [{\"colorbar\": {\"outlinewidth\": 0, \"ticks\": \"\"}, \"colorscale\": [[0.0, \"#0d0887\"], [0.1111111111111111, \"#46039f\"], [0.2222222222222222, \"#7201a8\"], [0.3333333333333333, \"#9c179e\"], [0.4444444444444444, \"#bd3786\"], [0.5555555555555556, \"#d8576b\"], [0.6666666666666666, \"#ed7953\"], [0.7777777777777778, \"#fb9f3a\"], [0.8888888888888888, \"#fdca26\"], [1.0, \"#f0f921\"]], \"type\": \"histogram2dcontour\"}], \"mesh3d\": [{\"colorbar\": {\"outlinewidth\": 0, \"ticks\": \"\"}, \"type\": \"mesh3d\"}], \"parcoords\": [{\"line\": {\"colorbar\": {\"outlinewidth\": 0, \"ticks\": \"\"}}, \"type\": \"parcoords\"}], \"pie\": [{\"automargin\": true, \"type\": \"pie\"}], \"scatter\": [{\"marker\": {\"colorbar\": {\"outlinewidth\": 0, \"ticks\": \"\"}}, \"type\": \"scatter\"}], \"scatter3d\": [{\"line\": {\"colorbar\": {\"outlinewidth\": 0, \"ticks\": \"\"}}, \"marker\": {\"colorbar\": {\"outlinewidth\": 0, \"ticks\": \"\"}}, \"type\": \"scatter3d\"}], \"scattercarpet\": [{\"marker\": {\"colorbar\": {\"outlinewidth\": 0, \"ticks\": \"\"}}, \"type\": \"scattercarpet\"}], \"scattergeo\": [{\"marker\": {\"colorbar\": {\"outlinewidth\": 0, \"ticks\": \"\"}}, \"type\": \"scattergeo\"}], \"scattergl\": [{\"marker\": {\"colorbar\": {\"outlinewidth\": 0, \"ticks\": \"\"}}, \"type\": \"scattergl\"}], \"scattermapbox\": [{\"marker\": {\"colorbar\": {\"outlinewidth\": 0, \"ticks\": \"\"}}, \"type\": \"scattermapbox\"}], \"scatterpolar\": [{\"marker\": {\"colorbar\": {\"outlinewidth\": 0, \"ticks\": \"\"}}, \"type\": \"scatterpolar\"}], \"scatterpolargl\": [{\"marker\": {\"colorbar\": {\"outlinewidth\": 0, \"ticks\": \"\"}}, \"type\": \"scatterpolargl\"}], \"scatterternary\": [{\"marker\": {\"colorbar\": {\"outlinewidth\": 0, \"ticks\": \"\"}}, \"type\": \"scatterternary\"}], \"surface\": [{\"colorbar\": {\"outlinewidth\": 0, \"ticks\": \"\"}, \"colorscale\": [[0.0, \"#0d0887\"], [0.1111111111111111, \"#46039f\"], [0.2222222222222222, \"#7201a8\"], [0.3333333333333333, \"#9c179e\"], [0.4444444444444444, \"#bd3786\"], [0.5555555555555556, \"#d8576b\"], [0.6666666666666666, \"#ed7953\"], [0.7777777777777778, \"#fb9f3a\"], [0.8888888888888888, \"#fdca26\"], [1.0, \"#f0f921\"]], \"type\": \"surface\"}], \"table\": [{\"cells\": {\"fill\": {\"color\": \"#EBF0F8\"}, \"line\": {\"color\": \"white\"}}, \"header\": {\"fill\": {\"color\": \"#C8D4E3\"}, \"line\": {\"color\": \"white\"}}, \"type\": \"table\"}]}, \"layout\": {\"annotationdefaults\": {\"arrowcolor\": \"#2a3f5f\", \"arrowhead\": 0, \"arrowwidth\": 1}, \"coloraxis\": {\"colorbar\": {\"outlinewidth\": 0, \"ticks\": \"\"}}, \"colorscale\": {\"diverging\": [[0, \"#8e0152\"], [0.1, \"#c51b7d\"], [0.2, \"#de77ae\"], [0.3, \"#f1b6da\"], [0.4, \"#fde0ef\"], [0.5, \"#f7f7f7\"], [0.6, \"#e6f5d0\"], [0.7, \"#b8e186\"], [0.8, \"#7fbc41\"], [0.9, \"#4d9221\"], [1, \"#276419\"]], \"sequential\": [[0.0, \"#0d0887\"], [0.1111111111111111, \"#46039f\"], [0.2222222222222222, \"#7201a8\"], [0.3333333333333333, \"#9c179e\"], [0.4444444444444444, \"#bd3786\"], [0.5555555555555556, \"#d8576b\"], [0.6666666666666666, \"#ed7953\"], [0.7777777777777778, \"#fb9f3a\"], [0.8888888888888888, \"#fdca26\"], [1.0, \"#f0f921\"]], \"sequentialminus\": [[0.0, \"#0d0887\"], [0.1111111111111111, \"#46039f\"], [0.2222222222222222, \"#7201a8\"], [0.3333333333333333, \"#9c179e\"], [0.4444444444444444, \"#bd3786\"], [0.5555555555555556, \"#d8576b\"], [0.6666666666666666, \"#ed7953\"], [0.7777777777777778, \"#fb9f3a\"], [0.8888888888888888, \"#fdca26\"], [1.0, \"#f0f921\"]]}, \"colorway\": [\"#636efa\", \"#EF553B\", \"#00cc96\", \"#ab63fa\", \"#FFA15A\", \"#19d3f3\", \"#FF6692\", \"#B6E880\", \"#FF97FF\", \"#FECB52\"], \"font\": {\"color\": \"#2a3f5f\"}, \"geo\": {\"bgcolor\": \"white\", \"lakecolor\": \"white\", \"landcolor\": \"#E5ECF6\", \"showlakes\": true, \"showland\": true, \"subunitcolor\": \"white\"}, \"hoverlabel\": {\"align\": \"left\"}, \"hovermode\": \"closest\", \"mapbox\": {\"style\": \"light\"}, \"paper_bgcolor\": \"white\", \"plot_bgcolor\": \"#E5ECF6\", \"polar\": {\"angularaxis\": {\"gridcolor\": \"white\", \"linecolor\": \"white\", \"ticks\": \"\"}, \"bgcolor\": \"#E5ECF6\", \"radialaxis\": {\"gridcolor\": \"white\", \"linecolor\": \"white\", \"ticks\": \"\"}}, \"scene\": {\"xaxis\": {\"backgroundcolor\": \"#E5ECF6\", \"gridcolor\": \"white\", \"gridwidth\": 2, \"linecolor\": \"white\", \"showbackground\": true, \"ticks\": \"\", \"zerolinecolor\": \"white\"}, \"yaxis\": {\"backgroundcolor\": \"#E5ECF6\", \"gridcolor\": \"white\", \"gridwidth\": 2, \"linecolor\": \"white\", \"showbackground\": true, \"ticks\": \"\", \"zerolinecolor\": \"white\"}, \"zaxis\": {\"backgroundcolor\": \"#E5ECF6\", \"gridcolor\": \"white\", \"gridwidth\": 2, \"linecolor\": \"white\", \"showbackground\": true, \"ticks\": \"\", \"zerolinecolor\": \"white\"}}, \"shapedefaults\": {\"line\": {\"color\": \"#2a3f5f\"}}, \"ternary\": {\"aaxis\": {\"gridcolor\": \"white\", \"linecolor\": \"white\", \"ticks\": \"\"}, \"baxis\": {\"gridcolor\": \"white\", \"linecolor\": \"white\", \"ticks\": \"\"}, \"bgcolor\": \"#E5ECF6\", \"caxis\": {\"gridcolor\": \"white\", \"linecolor\": \"white\", \"ticks\": \"\"}}, \"title\": {\"x\": 0.05}, \"xaxis\": {\"automargin\": true, \"gridcolor\": \"white\", \"linecolor\": \"white\", \"ticks\": \"\", \"title\": {\"standoff\": 15}, \"zerolinecolor\": \"white\", \"zerolinewidth\": 2}, \"yaxis\": {\"automargin\": true, \"gridcolor\": \"white\", \"linecolor\": \"white\", \"ticks\": \"\", \"title\": {\"standoff\": 15}, \"zerolinecolor\": \"white\", \"zerolinewidth\": 2}}}, \"title\": {\"text\": \"\\uc11c\\uc6b8 \\uc131\\uc778(20\\uc138 \\uc774\\uc0c1) \\uc18c\\ub4dd\\uc790 \\ud3c9\\uade0 \\uc2e4\\uc9c8\"}, \"width\": 600, \"xaxis\": {\"anchor\": \"y\", \"domain\": [0.0, 1.0], \"title\": {\"text\": \"std_yyyy\"}}, \"yaxis\": {\"anchor\": \"x\", \"domain\": [0.0, 1.0], \"title\": {\"text\": \"mean_real\"}}},                        {\"responsive\": true}                    ).then(function(){\n",
       "                            \n",
       "var gd = document.getElementById('35a3fff1-68d0-47ab-84bd-4a0e75aa93e7');\n",
       "var x = new MutationObserver(function (mutations, observer) {{\n",
       "        var display = window.getComputedStyle(gd).display;\n",
       "        if (!display || display === 'none') {{\n",
       "            console.log([gd, 'removed!']);\n",
       "            Plotly.purge(gd);\n",
       "            observer.disconnect();\n",
       "        }}\n",
       "}});\n",
       "\n",
       "// Listen for the removal of the full notebook cells\n",
       "var notebookContainer = gd.closest('#notebook-container');\n",
       "if (notebookContainer) {{\n",
       "    x.observe(notebookContainer, {childList: true});\n",
       "}}\n",
       "\n",
       "// Listen for the clearing of the current output cell\n",
       "var outputEl = gd.closest('.output');\n",
       "if (outputEl) {{\n",
       "    x.observe(outputEl, {childList: true});\n",
       "}}\n",
       "\n",
       "                        })                };                });            </script>        </div>"
      ]
     },
     "metadata": {},
     "output_type": "display_data"
    }
   ],
   "source": [
    "plot_lines(mmi['seoul_adult20_earner'], 'mean_real', 'seoul_adult20_earner')"
   ]
  },
  {
   "cell_type": "code",
   "execution_count": 10,
   "metadata": {},
   "outputs": [],
   "source": [
    "df = mmi['kr_adult20_earner']"
   ]
  },
  {
   "cell_type": "code",
   "execution_count": 125,
   "metadata": {},
   "outputs": [
    {
     "data": {
      "text/html": [
       "<div>\n",
       "<style scoped>\n",
       "    .dataframe tbody tr th:only-of-type {\n",
       "        vertical-align: middle;\n",
       "    }\n",
       "\n",
       "    .dataframe tbody tr th {\n",
       "        vertical-align: top;\n",
       "    }\n",
       "\n",
       "    .dataframe thead th {\n",
       "        text-align: right;\n",
       "    }\n",
       "</style>\n",
       "<table border=\"1\" class=\"dataframe\">\n",
       "  <thead>\n",
       "    <tr style=\"text-align: right;\">\n",
       "      <th></th>\n",
       "      <th>var</th>\n",
       "      <th>std_yyyy</th>\n",
       "      <th>count</th>\n",
       "      <th>num_indi</th>\n",
       "      <th>frac_earners</th>\n",
       "      <th>mean</th>\n",
       "      <th>mean_real</th>\n",
       "      <th>median</th>\n",
       "      <th>median_real</th>\n",
       "      <th>gini</th>\n",
       "      <th>iqsr</th>\n",
       "      <th>rpr</th>\n",
       "    </tr>\n",
       "  </thead>\n",
       "  <tbody>\n",
       "    <tr>\n",
       "      <th>0</th>\n",
       "      <td>inc_wage</td>\n",
       "      <td>2006</td>\n",
       "      <td>114798</td>\n",
       "      <td>497009</td>\n",
       "      <td>0.230978</td>\n",
       "      <td>2.510085e+07</td>\n",
       "      <td>3.129703e+07</td>\n",
       "      <td>18000000</td>\n",
       "      <td>2.244333e+07</td>\n",
       "      <td>0.471797</td>\n",
       "      <td>17.247358</td>\n",
       "      <td>0.256912</td>\n",
       "    </tr>\n",
       "    <tr>\n",
       "      <th>1</th>\n",
       "      <td>inc_wage</td>\n",
       "      <td>2010</td>\n",
       "      <td>138577</td>\n",
       "      <td>510415</td>\n",
       "      <td>0.271499</td>\n",
       "      <td>2.831086e+07</td>\n",
       "      <td>3.109341e+07</td>\n",
       "      <td>19571670</td>\n",
       "      <td>2.149528e+07</td>\n",
       "      <td>0.478636</td>\n",
       "      <td>17.007200</td>\n",
       "      <td>0.238885</td>\n",
       "    </tr>\n",
       "    <tr>\n",
       "      <th>2</th>\n",
       "      <td>inc_wage</td>\n",
       "      <td>2014</td>\n",
       "      <td>162366</td>\n",
       "      <td>521960</td>\n",
       "      <td>0.311070</td>\n",
       "      <td>3.218922e+07</td>\n",
       "      <td>3.241679e+07</td>\n",
       "      <td>22769634</td>\n",
       "      <td>2.293061e+07</td>\n",
       "      <td>0.468681</td>\n",
       "      <td>16.080858</td>\n",
       "      <td>0.230436</td>\n",
       "    </tr>\n",
       "    <tr>\n",
       "      <th>3</th>\n",
       "      <td>inc_wage</td>\n",
       "      <td>2018</td>\n",
       "      <td>185600</td>\n",
       "      <td>529639</td>\n",
       "      <td>0.350427</td>\n",
       "      <td>3.609552e+07</td>\n",
       "      <td>3.455770e+07</td>\n",
       "      <td>26353755</td>\n",
       "      <td>2.523098e+07</td>\n",
       "      <td>0.448921</td>\n",
       "      <td>13.870935</td>\n",
       "      <td>0.212672</td>\n",
       "    </tr>\n",
       "    <tr>\n",
       "      <th>4</th>\n",
       "      <td>inc_bus</td>\n",
       "      <td>2006</td>\n",
       "      <td>49398</td>\n",
       "      <td>497009</td>\n",
       "      <td>0.099391</td>\n",
       "      <td>1.165138e+07</td>\n",
       "      <td>1.452755e+07</td>\n",
       "      <td>4110000</td>\n",
       "      <td>5.124560e+06</td>\n",
       "      <td>0.711305</td>\n",
       "      <td>70.587051</td>\n",
       "      <td>0.320843</td>\n",
       "    </tr>\n",
       "  </tbody>\n",
       "</table>\n",
       "</div>"
      ],
      "text/plain": [
       "        var  std_yyyy   count  num_indi  frac_earners          mean  \\\n",
       "0  inc_wage      2006  114798    497009      0.230978  2.510085e+07   \n",
       "1  inc_wage      2010  138577    510415      0.271499  2.831086e+07   \n",
       "2  inc_wage      2014  162366    521960      0.311070  3.218922e+07   \n",
       "3  inc_wage      2018  185600    529639      0.350427  3.609552e+07   \n",
       "4   inc_bus      2006   49398    497009      0.099391  1.165138e+07   \n",
       "\n",
       "      mean_real    median   median_real      gini       iqsr       rpr  \n",
       "0  3.129703e+07  18000000  2.244333e+07  0.471797  17.247358  0.256912  \n",
       "1  3.109341e+07  19571670  2.149528e+07  0.478636  17.007200  0.238885  \n",
       "2  3.241679e+07  22769634  2.293061e+07  0.468681  16.080858  0.230436  \n",
       "3  3.455770e+07  26353755  2.523098e+07  0.448921  13.870935  0.212672  \n",
       "4  1.452755e+07   4110000  5.124560e+06  0.711305  70.587051  0.320843  "
      ]
     },
     "execution_count": 125,
     "metadata": {},
     "output_type": "execute_result"
    }
   ],
   "source": [
    "df.head()"
   ]
  },
  {
   "cell_type": "code",
   "execution_count": 8,
   "metadata": {},
   "outputs": [],
   "source": [
    "def plot_population(_df, var, key):\n",
    "    # Save line plot\n",
    "    df = _df[_df['var'] == var].copy()\n",
    "    if df.shape[0] == 0:\n",
    "        raise ValueError(f\"Can't find variable {var} in given df\")\n",
    "    cols = df.columns\n",
    "    if 'num_indi' in cols:\n",
    "        y1 = 'num_indi'\n",
    "    elif 'num_hh' in cols:\n",
    "        y1 = 'num_hh'\n",
    "    else:\n",
    "        return None\n",
    "    \n",
    "    fig = px.bar(df, x=\"std_yyyy\", y=y1, \n",
    "                 title=f\"{translate(key)}\", opacity=0.7,\n",
    "                 width=128 * 12, height=128 * 8, )\n",
    "    \n",
    "    if 'adult' in key:\n",
    "        fig.add_trace(go.Bar(x=df.std_yyyy, y=df['count'], opacity=0.7, name='소득자수', base=0))\n",
    "\n",
    "    fig.update_layout(margin={\"r\": 16, \"t\": 72, \"l\": 16, \"b\": 16})\n",
    "    fig.show()\n",
    "#     fig.write_image(project_dir / \"reports\" / \"figures\" / f\"count_{y}_{key}.png\")"
   ]
  },
  {
   "cell_type": "code",
   "execution_count": 12,
   "metadata": {},
   "outputs": [
    {
     "data": {
      "application/vnd.plotly.v1+json": {
       "config": {
        "plotlyServerURL": "https://plotly.com"
       },
       "data": [
        {
         "alignmentgroup": "True",
         "hovertemplate": "std_yyyy=%{x}<br>num_indi=%{y}<extra></extra>",
         "legendgroup": "",
         "marker": {
          "color": "#636efa",
          "opacity": 0.7
         },
         "name": "",
         "offsetgroup": "",
         "orientation": "v",
         "showlegend": false,
         "textposition": "auto",
         "type": "bar",
         "x": [
          2006,
          2010,
          2014,
          2018
         ],
         "xaxis": "x",
         "y": [
          497009,
          510415,
          521960,
          529639
         ],
         "yaxis": "y"
        },
        {
         "base": 0,
         "name": "소득자수",
         "opacity": 0.7,
         "type": "bar",
         "x": [
          2006,
          2010,
          2014,
          2018
         ],
         "y": [
          114798,
          138577,
          162366,
          185600
         ]
        }
       ],
       "layout": {
        "barmode": "relative",
        "height": 400,
        "legend": {
         "tracegroupgap": 0
        },
        "margin": {
         "b": 16,
         "l": 16,
         "r": 16,
         "t": 72
        },
        "template": {
         "data": {
          "bar": [
           {
            "error_x": {
             "color": "#2a3f5f"
            },
            "error_y": {
             "color": "#2a3f5f"
            },
            "marker": {
             "line": {
              "color": "#E5ECF6",
              "width": 0.5
             }
            },
            "type": "bar"
           }
          ],
          "barpolar": [
           {
            "marker": {
             "line": {
              "color": "#E5ECF6",
              "width": 0.5
             }
            },
            "type": "barpolar"
           }
          ],
          "carpet": [
           {
            "aaxis": {
             "endlinecolor": "#2a3f5f",
             "gridcolor": "white",
             "linecolor": "white",
             "minorgridcolor": "white",
             "startlinecolor": "#2a3f5f"
            },
            "baxis": {
             "endlinecolor": "#2a3f5f",
             "gridcolor": "white",
             "linecolor": "white",
             "minorgridcolor": "white",
             "startlinecolor": "#2a3f5f"
            },
            "type": "carpet"
           }
          ],
          "choropleth": [
           {
            "colorbar": {
             "outlinewidth": 0,
             "ticks": ""
            },
            "type": "choropleth"
           }
          ],
          "contour": [
           {
            "colorbar": {
             "outlinewidth": 0,
             "ticks": ""
            },
            "colorscale": [
             [
              0,
              "#0d0887"
             ],
             [
              0.1111111111111111,
              "#46039f"
             ],
             [
              0.2222222222222222,
              "#7201a8"
             ],
             [
              0.3333333333333333,
              "#9c179e"
             ],
             [
              0.4444444444444444,
              "#bd3786"
             ],
             [
              0.5555555555555556,
              "#d8576b"
             ],
             [
              0.6666666666666666,
              "#ed7953"
             ],
             [
              0.7777777777777778,
              "#fb9f3a"
             ],
             [
              0.8888888888888888,
              "#fdca26"
             ],
             [
              1,
              "#f0f921"
             ]
            ],
            "type": "contour"
           }
          ],
          "contourcarpet": [
           {
            "colorbar": {
             "outlinewidth": 0,
             "ticks": ""
            },
            "type": "contourcarpet"
           }
          ],
          "heatmap": [
           {
            "colorbar": {
             "outlinewidth": 0,
             "ticks": ""
            },
            "colorscale": [
             [
              0,
              "#0d0887"
             ],
             [
              0.1111111111111111,
              "#46039f"
             ],
             [
              0.2222222222222222,
              "#7201a8"
             ],
             [
              0.3333333333333333,
              "#9c179e"
             ],
             [
              0.4444444444444444,
              "#bd3786"
             ],
             [
              0.5555555555555556,
              "#d8576b"
             ],
             [
              0.6666666666666666,
              "#ed7953"
             ],
             [
              0.7777777777777778,
              "#fb9f3a"
             ],
             [
              0.8888888888888888,
              "#fdca26"
             ],
             [
              1,
              "#f0f921"
             ]
            ],
            "type": "heatmap"
           }
          ],
          "heatmapgl": [
           {
            "colorbar": {
             "outlinewidth": 0,
             "ticks": ""
            },
            "colorscale": [
             [
              0,
              "#0d0887"
             ],
             [
              0.1111111111111111,
              "#46039f"
             ],
             [
              0.2222222222222222,
              "#7201a8"
             ],
             [
              0.3333333333333333,
              "#9c179e"
             ],
             [
              0.4444444444444444,
              "#bd3786"
             ],
             [
              0.5555555555555556,
              "#d8576b"
             ],
             [
              0.6666666666666666,
              "#ed7953"
             ],
             [
              0.7777777777777778,
              "#fb9f3a"
             ],
             [
              0.8888888888888888,
              "#fdca26"
             ],
             [
              1,
              "#f0f921"
             ]
            ],
            "type": "heatmapgl"
           }
          ],
          "histogram": [
           {
            "marker": {
             "colorbar": {
              "outlinewidth": 0,
              "ticks": ""
             }
            },
            "type": "histogram"
           }
          ],
          "histogram2d": [
           {
            "colorbar": {
             "outlinewidth": 0,
             "ticks": ""
            },
            "colorscale": [
             [
              0,
              "#0d0887"
             ],
             [
              0.1111111111111111,
              "#46039f"
             ],
             [
              0.2222222222222222,
              "#7201a8"
             ],
             [
              0.3333333333333333,
              "#9c179e"
             ],
             [
              0.4444444444444444,
              "#bd3786"
             ],
             [
              0.5555555555555556,
              "#d8576b"
             ],
             [
              0.6666666666666666,
              "#ed7953"
             ],
             [
              0.7777777777777778,
              "#fb9f3a"
             ],
             [
              0.8888888888888888,
              "#fdca26"
             ],
             [
              1,
              "#f0f921"
             ]
            ],
            "type": "histogram2d"
           }
          ],
          "histogram2dcontour": [
           {
            "colorbar": {
             "outlinewidth": 0,
             "ticks": ""
            },
            "colorscale": [
             [
              0,
              "#0d0887"
             ],
             [
              0.1111111111111111,
              "#46039f"
             ],
             [
              0.2222222222222222,
              "#7201a8"
             ],
             [
              0.3333333333333333,
              "#9c179e"
             ],
             [
              0.4444444444444444,
              "#bd3786"
             ],
             [
              0.5555555555555556,
              "#d8576b"
             ],
             [
              0.6666666666666666,
              "#ed7953"
             ],
             [
              0.7777777777777778,
              "#fb9f3a"
             ],
             [
              0.8888888888888888,
              "#fdca26"
             ],
             [
              1,
              "#f0f921"
             ]
            ],
            "type": "histogram2dcontour"
           }
          ],
          "mesh3d": [
           {
            "colorbar": {
             "outlinewidth": 0,
             "ticks": ""
            },
            "type": "mesh3d"
           }
          ],
          "parcoords": [
           {
            "line": {
             "colorbar": {
              "outlinewidth": 0,
              "ticks": ""
             }
            },
            "type": "parcoords"
           }
          ],
          "pie": [
           {
            "automargin": true,
            "type": "pie"
           }
          ],
          "scatter": [
           {
            "marker": {
             "colorbar": {
              "outlinewidth": 0,
              "ticks": ""
             }
            },
            "type": "scatter"
           }
          ],
          "scatter3d": [
           {
            "line": {
             "colorbar": {
              "outlinewidth": 0,
              "ticks": ""
             }
            },
            "marker": {
             "colorbar": {
              "outlinewidth": 0,
              "ticks": ""
             }
            },
            "type": "scatter3d"
           }
          ],
          "scattercarpet": [
           {
            "marker": {
             "colorbar": {
              "outlinewidth": 0,
              "ticks": ""
             }
            },
            "type": "scattercarpet"
           }
          ],
          "scattergeo": [
           {
            "marker": {
             "colorbar": {
              "outlinewidth": 0,
              "ticks": ""
             }
            },
            "type": "scattergeo"
           }
          ],
          "scattergl": [
           {
            "marker": {
             "colorbar": {
              "outlinewidth": 0,
              "ticks": ""
             }
            },
            "type": "scattergl"
           }
          ],
          "scattermapbox": [
           {
            "marker": {
             "colorbar": {
              "outlinewidth": 0,
              "ticks": ""
             }
            },
            "type": "scattermapbox"
           }
          ],
          "scatterpolar": [
           {
            "marker": {
             "colorbar": {
              "outlinewidth": 0,
              "ticks": ""
             }
            },
            "type": "scatterpolar"
           }
          ],
          "scatterpolargl": [
           {
            "marker": {
             "colorbar": {
              "outlinewidth": 0,
              "ticks": ""
             }
            },
            "type": "scatterpolargl"
           }
          ],
          "scatterternary": [
           {
            "marker": {
             "colorbar": {
              "outlinewidth": 0,
              "ticks": ""
             }
            },
            "type": "scatterternary"
           }
          ],
          "surface": [
           {
            "colorbar": {
             "outlinewidth": 0,
             "ticks": ""
            },
            "colorscale": [
             [
              0,
              "#0d0887"
             ],
             [
              0.1111111111111111,
              "#46039f"
             ],
             [
              0.2222222222222222,
              "#7201a8"
             ],
             [
              0.3333333333333333,
              "#9c179e"
             ],
             [
              0.4444444444444444,
              "#bd3786"
             ],
             [
              0.5555555555555556,
              "#d8576b"
             ],
             [
              0.6666666666666666,
              "#ed7953"
             ],
             [
              0.7777777777777778,
              "#fb9f3a"
             ],
             [
              0.8888888888888888,
              "#fdca26"
             ],
             [
              1,
              "#f0f921"
             ]
            ],
            "type": "surface"
           }
          ],
          "table": [
           {
            "cells": {
             "fill": {
              "color": "#EBF0F8"
             },
             "line": {
              "color": "white"
             }
            },
            "header": {
             "fill": {
              "color": "#C8D4E3"
             },
             "line": {
              "color": "white"
             }
            },
            "type": "table"
           }
          ]
         },
         "layout": {
          "annotationdefaults": {
           "arrowcolor": "#2a3f5f",
           "arrowhead": 0,
           "arrowwidth": 1
          },
          "coloraxis": {
           "colorbar": {
            "outlinewidth": 0,
            "ticks": ""
           }
          },
          "colorscale": {
           "diverging": [
            [
             0,
             "#8e0152"
            ],
            [
             0.1,
             "#c51b7d"
            ],
            [
             0.2,
             "#de77ae"
            ],
            [
             0.3,
             "#f1b6da"
            ],
            [
             0.4,
             "#fde0ef"
            ],
            [
             0.5,
             "#f7f7f7"
            ],
            [
             0.6,
             "#e6f5d0"
            ],
            [
             0.7,
             "#b8e186"
            ],
            [
             0.8,
             "#7fbc41"
            ],
            [
             0.9,
             "#4d9221"
            ],
            [
             1,
             "#276419"
            ]
           ],
           "sequential": [
            [
             0,
             "#0d0887"
            ],
            [
             0.1111111111111111,
             "#46039f"
            ],
            [
             0.2222222222222222,
             "#7201a8"
            ],
            [
             0.3333333333333333,
             "#9c179e"
            ],
            [
             0.4444444444444444,
             "#bd3786"
            ],
            [
             0.5555555555555556,
             "#d8576b"
            ],
            [
             0.6666666666666666,
             "#ed7953"
            ],
            [
             0.7777777777777778,
             "#fb9f3a"
            ],
            [
             0.8888888888888888,
             "#fdca26"
            ],
            [
             1,
             "#f0f921"
            ]
           ],
           "sequentialminus": [
            [
             0,
             "#0d0887"
            ],
            [
             0.1111111111111111,
             "#46039f"
            ],
            [
             0.2222222222222222,
             "#7201a8"
            ],
            [
             0.3333333333333333,
             "#9c179e"
            ],
            [
             0.4444444444444444,
             "#bd3786"
            ],
            [
             0.5555555555555556,
             "#d8576b"
            ],
            [
             0.6666666666666666,
             "#ed7953"
            ],
            [
             0.7777777777777778,
             "#fb9f3a"
            ],
            [
             0.8888888888888888,
             "#fdca26"
            ],
            [
             1,
             "#f0f921"
            ]
           ]
          },
          "colorway": [
           "#636efa",
           "#EF553B",
           "#00cc96",
           "#ab63fa",
           "#FFA15A",
           "#19d3f3",
           "#FF6692",
           "#B6E880",
           "#FF97FF",
           "#FECB52"
          ],
          "font": {
           "color": "#2a3f5f"
          },
          "geo": {
           "bgcolor": "white",
           "lakecolor": "white",
           "landcolor": "#E5ECF6",
           "showlakes": true,
           "showland": true,
           "subunitcolor": "white"
          },
          "hoverlabel": {
           "align": "left"
          },
          "hovermode": "closest",
          "mapbox": {
           "style": "light"
          },
          "paper_bgcolor": "white",
          "plot_bgcolor": "#E5ECF6",
          "polar": {
           "angularaxis": {
            "gridcolor": "white",
            "linecolor": "white",
            "ticks": ""
           },
           "bgcolor": "#E5ECF6",
           "radialaxis": {
            "gridcolor": "white",
            "linecolor": "white",
            "ticks": ""
           }
          },
          "scene": {
           "xaxis": {
            "backgroundcolor": "#E5ECF6",
            "gridcolor": "white",
            "gridwidth": 2,
            "linecolor": "white",
            "showbackground": true,
            "ticks": "",
            "zerolinecolor": "white"
           },
           "yaxis": {
            "backgroundcolor": "#E5ECF6",
            "gridcolor": "white",
            "gridwidth": 2,
            "linecolor": "white",
            "showbackground": true,
            "ticks": "",
            "zerolinecolor": "white"
           },
           "zaxis": {
            "backgroundcolor": "#E5ECF6",
            "gridcolor": "white",
            "gridwidth": 2,
            "linecolor": "white",
            "showbackground": true,
            "ticks": "",
            "zerolinecolor": "white"
           }
          },
          "shapedefaults": {
           "line": {
            "color": "#2a3f5f"
           }
          },
          "ternary": {
           "aaxis": {
            "gridcolor": "white",
            "linecolor": "white",
            "ticks": ""
           },
           "baxis": {
            "gridcolor": "white",
            "linecolor": "white",
            "ticks": ""
           },
           "bgcolor": "#E5ECF6",
           "caxis": {
            "gridcolor": "white",
            "linecolor": "white",
            "ticks": ""
           }
          },
          "title": {
           "x": 0.05
          },
          "xaxis": {
           "automargin": true,
           "gridcolor": "white",
           "linecolor": "white",
           "ticks": "",
           "title": {
            "standoff": 15
           },
           "zerolinecolor": "white",
           "zerolinewidth": 2
          },
          "yaxis": {
           "automargin": true,
           "gridcolor": "white",
           "linecolor": "white",
           "ticks": "",
           "title": {
            "standoff": 15
           },
           "zerolinecolor": "white",
           "zerolinewidth": 2
          }
         }
        },
        "title": {
         "text": "전국 15세 이상"
        },
        "width": 600,
        "xaxis": {
         "anchor": "y",
         "autorange": true,
         "domain": [
          0,
          1
         ],
         "range": [
          2004,
          2020
         ],
         "title": {
          "text": "std_yyyy"
         },
         "type": "linear"
        },
        "yaxis": {
         "anchor": "x",
         "autorange": true,
         "domain": [
          0,
          1
         ],
         "range": [
          0,
          557514.7368421053
         ],
         "title": {
          "text": "num_indi"
         },
         "type": "linear"
        }
       }
      },
      "image/png": "[encoded data removed]",
      "text/html": [
       "<div>                            <div id=\"d86023fb-d42d-404f-b853-8dfece889513\" class=\"plotly-graph-div\" style=\"height:400px; width:600px;\"></div>            <script type=\"text/javascript\">                require([\"plotly\"], function(Plotly) {                    window.PLOTLYENV=window.PLOTLYENV || {};                                    if (document.getElementById(\"d86023fb-d42d-404f-b853-8dfece889513\")) {                    Plotly.newPlot(                        \"d86023fb-d42d-404f-b853-8dfece889513\",                        [{\"alignmentgroup\": \"True\", \"hovertemplate\": \"std_yyyy=%{x}<br>num_indi=%{y}<extra></extra>\", \"legendgroup\": \"\", \"marker\": {\"color\": \"#636efa\", \"opacity\": 0.7}, \"name\": \"\", \"offsetgroup\": \"\", \"orientation\": \"v\", \"showlegend\": false, \"textposition\": \"auto\", \"type\": \"bar\", \"x\": [2006, 2010, 2014, 2018], \"xaxis\": \"x\", \"y\": [497009, 510415, 521960, 529639], \"yaxis\": \"y\"}, {\"base\": 0, \"name\": \"\\uc18c\\ub4dd\\uc790\\uc218\", \"opacity\": 0.7, \"type\": \"bar\", \"x\": [2006, 2010, 2014, 2018], \"y\": [114798, 138577, 162366, 185600]}],                        {\"barmode\": \"relative\", \"height\": 400, \"legend\": {\"tracegroupgap\": 0}, \"margin\": {\"b\": 16, \"l\": 16, \"r\": 16, \"t\": 72}, \"template\": {\"data\": {\"bar\": [{\"error_x\": {\"color\": \"#2a3f5f\"}, \"error_y\": {\"color\": \"#2a3f5f\"}, \"marker\": {\"line\": {\"color\": \"#E5ECF6\", \"width\": 0.5}}, \"type\": \"bar\"}], \"barpolar\": [{\"marker\": {\"line\": {\"color\": \"#E5ECF6\", \"width\": 0.5}}, \"type\": \"barpolar\"}], \"carpet\": [{\"aaxis\": {\"endlinecolor\": \"#2a3f5f\", \"gridcolor\": \"white\", \"linecolor\": \"white\", \"minorgridcolor\": \"white\", \"startlinecolor\": \"#2a3f5f\"}, \"baxis\": {\"endlinecolor\": \"#2a3f5f\", \"gridcolor\": \"white\", \"linecolor\": \"white\", \"minorgridcolor\": \"white\", \"startlinecolor\": \"#2a3f5f\"}, \"type\": \"carpet\"}], \"choropleth\": [{\"colorbar\": {\"outlinewidth\": 0, \"ticks\": \"\"}, \"type\": \"choropleth\"}], \"contour\": [{\"colorbar\": {\"outlinewidth\": 0, \"ticks\": \"\"}, \"colorscale\": [[0.0, \"#0d0887\"], [0.1111111111111111, \"#46039f\"], [0.2222222222222222, \"#7201a8\"], [0.3333333333333333, \"#9c179e\"], [0.4444444444444444, \"#bd3786\"], [0.5555555555555556, \"#d8576b\"], [0.6666666666666666, \"#ed7953\"], [0.7777777777777778, \"#fb9f3a\"], [0.8888888888888888, \"#fdca26\"], [1.0, \"#f0f921\"]], \"type\": \"contour\"}], \"contourcarpet\": [{\"colorbar\": {\"outlinewidth\": 0, \"ticks\": \"\"}, \"type\": \"contourcarpet\"}], \"heatmap\": [{\"colorbar\": {\"outlinewidth\": 0, \"ticks\": \"\"}, \"colorscale\": [[0.0, \"#0d0887\"], [0.1111111111111111, \"#46039f\"], [0.2222222222222222, \"#7201a8\"], [0.3333333333333333, \"#9c179e\"], [0.4444444444444444, \"#bd3786\"], [0.5555555555555556, \"#d8576b\"], [0.6666666666666666, \"#ed7953\"], [0.7777777777777778, \"#fb9f3a\"], [0.8888888888888888, \"#fdca26\"], [1.0, \"#f0f921\"]], \"type\": \"heatmap\"}], \"heatmapgl\": [{\"colorbar\": {\"outlinewidth\": 0, \"ticks\": \"\"}, \"colorscale\": [[0.0, \"#0d0887\"], [0.1111111111111111, \"#46039f\"], [0.2222222222222222, \"#7201a8\"], [0.3333333333333333, \"#9c179e\"], [0.4444444444444444, \"#bd3786\"], [0.5555555555555556, \"#d8576b\"], [0.6666666666666666, \"#ed7953\"], [0.7777777777777778, \"#fb9f3a\"], [0.8888888888888888, \"#fdca26\"], [1.0, \"#f0f921\"]], \"type\": \"heatmapgl\"}], \"histogram\": [{\"marker\": {\"colorbar\": {\"outlinewidth\": 0, \"ticks\": \"\"}}, \"type\": \"histogram\"}], \"histogram2d\": [{\"colorbar\": {\"outlinewidth\": 0, \"ticks\": \"\"}, \"colorscale\": [[0.0, \"#0d0887\"], [0.1111111111111111, \"#46039f\"], [0.2222222222222222, \"#7201a8\"], [0.3333333333333333, \"#9c179e\"], [0.4444444444444444, \"#bd3786\"], [0.5555555555555556, \"#d8576b\"], [0.6666666666666666, \"#ed7953\"], [0.7777777777777778, \"#fb9f3a\"], [0.8888888888888888, \"#fdca26\"], [1.0, \"#f0f921\"]], \"type\": \"histogram2d\"}], \"histogram2dcontour\": [{\"colorbar\": {\"outlinewidth\": 0, \"ticks\": \"\"}, \"colorscale\": [[0.0, \"#0d0887\"], [0.1111111111111111, \"#46039f\"], [0.2222222222222222, \"#7201a8\"], [0.3333333333333333, \"#9c179e\"], [0.4444444444444444, \"#bd3786\"], [0.5555555555555556, \"#d8576b\"], [0.6666666666666666, \"#ed7953\"], [0.7777777777777778, \"#fb9f3a\"], [0.8888888888888888, \"#fdca26\"], [1.0, \"#f0f921\"]], \"type\": \"histogram2dcontour\"}], \"mesh3d\": [{\"colorbar\": {\"outlinewidth\": 0, \"ticks\": \"\"}, \"type\": \"mesh3d\"}], \"parcoords\": [{\"line\": {\"colorbar\": {\"outlinewidth\": 0, \"ticks\": \"\"}}, \"type\": \"parcoords\"}], \"pie\": [{\"automargin\": true, \"type\": \"pie\"}], \"scatter\": [{\"marker\": {\"colorbar\": {\"outlinewidth\": 0, \"ticks\": \"\"}}, \"type\": \"scatter\"}], \"scatter3d\": [{\"line\": {\"colorbar\": {\"outlinewidth\": 0, \"ticks\": \"\"}}, \"marker\": {\"colorbar\": {\"outlinewidth\": 0, \"ticks\": \"\"}}, \"type\": \"scatter3d\"}], \"scattercarpet\": [{\"marker\": {\"colorbar\": {\"outlinewidth\": 0, \"ticks\": \"\"}}, \"type\": \"scattercarpet\"}], \"scattergeo\": [{\"marker\": {\"colorbar\": {\"outlinewidth\": 0, \"ticks\": \"\"}}, \"type\": \"scattergeo\"}], \"scattergl\": [{\"marker\": {\"colorbar\": {\"outlinewidth\": 0, \"ticks\": \"\"}}, \"type\": \"scattergl\"}], \"scattermapbox\": [{\"marker\": {\"colorbar\": {\"outlinewidth\": 0, \"ticks\": \"\"}}, \"type\": \"scattermapbox\"}], \"scatterpolar\": [{\"marker\": {\"colorbar\": {\"outlinewidth\": 0, \"ticks\": \"\"}}, \"type\": \"scatterpolar\"}], \"scatterpolargl\": [{\"marker\": {\"colorbar\": {\"outlinewidth\": 0, \"ticks\": \"\"}}, \"type\": \"scatterpolargl\"}], \"scatterternary\": [{\"marker\": {\"colorbar\": {\"outlinewidth\": 0, \"ticks\": \"\"}}, \"type\": \"scatterternary\"}], \"surface\": [{\"colorbar\": {\"outlinewidth\": 0, \"ticks\": \"\"}, \"colorscale\": [[0.0, \"#0d0887\"], [0.1111111111111111, \"#46039f\"], [0.2222222222222222, \"#7201a8\"], [0.3333333333333333, \"#9c179e\"], [0.4444444444444444, \"#bd3786\"], [0.5555555555555556, \"#d8576b\"], [0.6666666666666666, \"#ed7953\"], [0.7777777777777778, \"#fb9f3a\"], [0.8888888888888888, \"#fdca26\"], [1.0, \"#f0f921\"]], \"type\": \"surface\"}], \"table\": [{\"cells\": {\"fill\": {\"color\": \"#EBF0F8\"}, \"line\": {\"color\": \"white\"}}, \"header\": {\"fill\": {\"color\": \"#C8D4E3\"}, \"line\": {\"color\": \"white\"}}, \"type\": \"table\"}]}, \"layout\": {\"annotationdefaults\": {\"arrowcolor\": \"#2a3f5f\", \"arrowhead\": 0, \"arrowwidth\": 1}, \"coloraxis\": {\"colorbar\": {\"outlinewidth\": 0, \"ticks\": \"\"}}, \"colorscale\": {\"diverging\": [[0, \"#8e0152\"], [0.1, \"#c51b7d\"], [0.2, \"#de77ae\"], [0.3, \"#f1b6da\"], [0.4, \"#fde0ef\"], [0.5, \"#f7f7f7\"], [0.6, \"#e6f5d0\"], [0.7, \"#b8e186\"], [0.8, \"#7fbc41\"], [0.9, \"#4d9221\"], [1, \"#276419\"]], \"sequential\": [[0.0, \"#0d0887\"], [0.1111111111111111, \"#46039f\"], [0.2222222222222222, \"#7201a8\"], [0.3333333333333333, \"#9c179e\"], [0.4444444444444444, \"#bd3786\"], [0.5555555555555556, \"#d8576b\"], [0.6666666666666666, \"#ed7953\"], [0.7777777777777778, \"#fb9f3a\"], [0.8888888888888888, \"#fdca26\"], [1.0, \"#f0f921\"]], \"sequentialminus\": [[0.0, \"#0d0887\"], [0.1111111111111111, \"#46039f\"], [0.2222222222222222, \"#7201a8\"], [0.3333333333333333, \"#9c179e\"], [0.4444444444444444, \"#bd3786\"], [0.5555555555555556, \"#d8576b\"], [0.6666666666666666, \"#ed7953\"], [0.7777777777777778, \"#fb9f3a\"], [0.8888888888888888, \"#fdca26\"], [1.0, \"#f0f921\"]]}, \"colorway\": [\"#636efa\", \"#EF553B\", \"#00cc96\", \"#ab63fa\", \"#FFA15A\", \"#19d3f3\", \"#FF6692\", \"#B6E880\", \"#FF97FF\", \"#FECB52\"], \"font\": {\"color\": \"#2a3f5f\"}, \"geo\": {\"bgcolor\": \"white\", \"lakecolor\": \"white\", \"landcolor\": \"#E5ECF6\", \"showlakes\": true, \"showland\": true, \"subunitcolor\": \"white\"}, \"hoverlabel\": {\"align\": \"left\"}, \"hovermode\": \"closest\", \"mapbox\": {\"style\": \"light\"}, \"paper_bgcolor\": \"white\", \"plot_bgcolor\": \"#E5ECF6\", \"polar\": {\"angularaxis\": {\"gridcolor\": \"white\", \"linecolor\": \"white\", \"ticks\": \"\"}, \"bgcolor\": \"#E5ECF6\", \"radialaxis\": {\"gridcolor\": \"white\", \"linecolor\": \"white\", \"ticks\": \"\"}}, \"scene\": {\"xaxis\": {\"backgroundcolor\": \"#E5ECF6\", \"gridcolor\": \"white\", \"gridwidth\": 2, \"linecolor\": \"white\", \"showbackground\": true, \"ticks\": \"\", \"zerolinecolor\": \"white\"}, \"yaxis\": {\"backgroundcolor\": \"#E5ECF6\", \"gridcolor\": \"white\", \"gridwidth\": 2, \"linecolor\": \"white\", \"showbackground\": true, \"ticks\": \"\", \"zerolinecolor\": \"white\"}, \"zaxis\": {\"backgroundcolor\": \"#E5ECF6\", \"gridcolor\": \"white\", \"gridwidth\": 2, \"linecolor\": \"white\", \"showbackground\": true, \"ticks\": \"\", \"zerolinecolor\": \"white\"}}, \"shapedefaults\": {\"line\": {\"color\": \"#2a3f5f\"}}, \"ternary\": {\"aaxis\": {\"gridcolor\": \"white\", \"linecolor\": \"white\", \"ticks\": \"\"}, \"baxis\": {\"gridcolor\": \"white\", \"linecolor\": \"white\", \"ticks\": \"\"}, \"bgcolor\": \"#E5ECF6\", \"caxis\": {\"gridcolor\": \"white\", \"linecolor\": \"white\", \"ticks\": \"\"}}, \"title\": {\"x\": 0.05}, \"xaxis\": {\"automargin\": true, \"gridcolor\": \"white\", \"linecolor\": \"white\", \"ticks\": \"\", \"title\": {\"standoff\": 15}, \"zerolinecolor\": \"white\", \"zerolinewidth\": 2}, \"yaxis\": {\"automargin\": true, \"gridcolor\": \"white\", \"linecolor\": \"white\", \"ticks\": \"\", \"title\": {\"standoff\": 15}, \"zerolinecolor\": \"white\", \"zerolinewidth\": 2}}}, \"title\": {\"text\": \"\\uc804\\uad6d 15\\uc138 \\uc774\\uc0c1\"}, \"width\": 600, \"xaxis\": {\"anchor\": \"y\", \"domain\": [0.0, 1.0], \"title\": {\"text\": \"std_yyyy\"}}, \"yaxis\": {\"anchor\": \"x\", \"domain\": [0.0, 1.0], \"title\": {\"text\": \"num_indi\"}}},                        {\"responsive\": true}                    ).then(function(){\n",
       "                            \n",
       "var gd = document.getElementById('d86023fb-d42d-404f-b853-8dfece889513');\n",
       "var x = new MutationObserver(function (mutations, observer) {{\n",
       "        var display = window.getComputedStyle(gd).display;\n",
       "        if (!display || display === 'none') {{\n",
       "            console.log([gd, 'removed!']);\n",
       "            Plotly.purge(gd);\n",
       "            observer.disconnect();\n",
       "        }}\n",
       "}});\n",
       "\n",
       "// Listen for the removal of the full notebook cells\n",
       "var notebookContainer = gd.closest('#notebook-container');\n",
       "if (notebookContainer) {{\n",
       "    x.observe(notebookContainer, {childList: true});\n",
       "}}\n",
       "\n",
       "// Listen for the clearing of the current output cell\n",
       "var outputEl = gd.closest('.output');\n",
       "if (outputEl) {{\n",
       "    x.observe(outputEl, {childList: true});\n",
       "}}\n",
       "\n",
       "                        })                };                });            </script>        </div>"
      ]
     },
     "metadata": {},
     "output_type": "display_data"
    }
   ],
   "source": [
    "plot_population(df, 'inc_wage', 'kr_adult15')"
   ]
  },
  {
   "cell_type": "code",
   "execution_count": 161,
   "metadata": {},
   "outputs": [
    {
     "data": {
      "text/plain": [
       "True"
      ]
     },
     "execution_count": 161,
     "metadata": {},
     "output_type": "execute_result"
    }
   ],
   "source": [
    "'num_indi' in mmi['kr_adult20'].columns"
   ]
  },
  {
   "cell_type": "code",
   "execution_count": 166,
   "metadata": {},
   "outputs": [
    {
     "data": {
      "application/vnd.plotly.v1+json": {
       "config": {
        "plotlyServerURL": "https://plotly.com"
       },
       "data": [
        {
         "alignmentgroup": "True",
         "hovertemplate": "std_yyyy=%{x}<br>num_indi=%{y}<extra></extra>",
         "legendgroup": "",
         "marker": {
          "color": "#636efa",
          "opacity": 0.7
         },
         "name": "",
         "offsetgroup": "",
         "orientation": "v",
         "showlegend": false,
         "textposition": "auto",
         "type": "bar",
         "x": [
          2006,
          2010,
          2014,
          2018
         ],
         "xaxis": "x",
         "y": [
          497009,
          510415,
          521960,
          529639
         ],
         "yaxis": "y"
        },
        {
         "base": 0,
         "name": "소득자수",
         "opacity": 0.7,
         "type": "bar",
         "x": [
          2006,
          2010,
          2014,
          2018
         ],
         "y": [
          374702,
          393333,
          415298,
          434285
         ]
        }
       ],
       "layout": {
        "barmode": "relative",
        "height": 400,
        "legend": {
         "tracegroupgap": 0
        },
        "margin": {
         "b": 16,
         "l": 16,
         "r": 16,
         "t": 72
        },
        "template": {
         "data": {
          "bar": [
           {
            "error_x": {
             "color": "#2a3f5f"
            },
            "error_y": {
             "color": "#2a3f5f"
            },
            "marker": {
             "line": {
              "color": "#E5ECF6",
              "width": 0.5
             }
            },
            "type": "bar"
           }
          ],
          "barpolar": [
           {
            "marker": {
             "line": {
              "color": "#E5ECF6",
              "width": 0.5
             }
            },
            "type": "barpolar"
           }
          ],
          "carpet": [
           {
            "aaxis": {
             "endlinecolor": "#2a3f5f",
             "gridcolor": "white",
             "linecolor": "white",
             "minorgridcolor": "white",
             "startlinecolor": "#2a3f5f"
            },
            "baxis": {
             "endlinecolor": "#2a3f5f",
             "gridcolor": "white",
             "linecolor": "white",
             "minorgridcolor": "white",
             "startlinecolor": "#2a3f5f"
            },
            "type": "carpet"
           }
          ],
          "choropleth": [
           {
            "colorbar": {
             "outlinewidth": 0,
             "ticks": ""
            },
            "type": "choropleth"
           }
          ],
          "contour": [
           {
            "colorbar": {
             "outlinewidth": 0,
             "ticks": ""
            },
            "colorscale": [
             [
              0,
              "#0d0887"
             ],
             [
              0.1111111111111111,
              "#46039f"
             ],
             [
              0.2222222222222222,
              "#7201a8"
             ],
             [
              0.3333333333333333,
              "#9c179e"
             ],
             [
              0.4444444444444444,
              "#bd3786"
             ],
             [
              0.5555555555555556,
              "#d8576b"
             ],
             [
              0.6666666666666666,
              "#ed7953"
             ],
             [
              0.7777777777777778,
              "#fb9f3a"
             ],
             [
              0.8888888888888888,
              "#fdca26"
             ],
             [
              1,
              "#f0f921"
             ]
            ],
            "type": "contour"
           }
          ],
          "contourcarpet": [
           {
            "colorbar": {
             "outlinewidth": 0,
             "ticks": ""
            },
            "type": "contourcarpet"
           }
          ],
          "heatmap": [
           {
            "colorbar": {
             "outlinewidth": 0,
             "ticks": ""
            },
            "colorscale": [
             [
              0,
              "#0d0887"
             ],
             [
              0.1111111111111111,
              "#46039f"
             ],
             [
              0.2222222222222222,
              "#7201a8"
             ],
             [
              0.3333333333333333,
              "#9c179e"
             ],
             [
              0.4444444444444444,
              "#bd3786"
             ],
             [
              0.5555555555555556,
              "#d8576b"
             ],
             [
              0.6666666666666666,
              "#ed7953"
             ],
             [
              0.7777777777777778,
              "#fb9f3a"
             ],
             [
              0.8888888888888888,
              "#fdca26"
             ],
             [
              1,
              "#f0f921"
             ]
            ],
            "type": "heatmap"
           }
          ],
          "heatmapgl": [
           {
            "colorbar": {
             "outlinewidth": 0,
             "ticks": ""
            },
            "colorscale": [
             [
              0,
              "#0d0887"
             ],
             [
              0.1111111111111111,
              "#46039f"
             ],
             [
              0.2222222222222222,
              "#7201a8"
             ],
             [
              0.3333333333333333,
              "#9c179e"
             ],
             [
              0.4444444444444444,
              "#bd3786"
             ],
             [
              0.5555555555555556,
              "#d8576b"
             ],
             [
              0.6666666666666666,
              "#ed7953"
             ],
             [
              0.7777777777777778,
              "#fb9f3a"
             ],
             [
              0.8888888888888888,
              "#fdca26"
             ],
             [
              1,
              "#f0f921"
             ]
            ],
            "type": "heatmapgl"
           }
          ],
          "histogram": [
           {
            "marker": {
             "colorbar": {
              "outlinewidth": 0,
              "ticks": ""
             }
            },
            "type": "histogram"
           }
          ],
          "histogram2d": [
           {
            "colorbar": {
             "outlinewidth": 0,
             "ticks": ""
            },
            "colorscale": [
             [
              0,
              "#0d0887"
             ],
             [
              0.1111111111111111,
              "#46039f"
             ],
             [
              0.2222222222222222,
              "#7201a8"
             ],
             [
              0.3333333333333333,
              "#9c179e"
             ],
             [
              0.4444444444444444,
              "#bd3786"
             ],
             [
              0.5555555555555556,
              "#d8576b"
             ],
             [
              0.6666666666666666,
              "#ed7953"
             ],
             [
              0.7777777777777778,
              "#fb9f3a"
             ],
             [
              0.8888888888888888,
              "#fdca26"
             ],
             [
              1,
              "#f0f921"
             ]
            ],
            "type": "histogram2d"
           }
          ],
          "histogram2dcontour": [
           {
            "colorbar": {
             "outlinewidth": 0,
             "ticks": ""
            },
            "colorscale": [
             [
              0,
              "#0d0887"
             ],
             [
              0.1111111111111111,
              "#46039f"
             ],
             [
              0.2222222222222222,
              "#7201a8"
             ],
             [
              0.3333333333333333,
              "#9c179e"
             ],
             [
              0.4444444444444444,
              "#bd3786"
             ],
             [
              0.5555555555555556,
              "#d8576b"
             ],
             [
              0.6666666666666666,
              "#ed7953"
             ],
             [
              0.7777777777777778,
              "#fb9f3a"
             ],
             [
              0.8888888888888888,
              "#fdca26"
             ],
             [
              1,
              "#f0f921"
             ]
            ],
            "type": "histogram2dcontour"
           }
          ],
          "mesh3d": [
           {
            "colorbar": {
             "outlinewidth": 0,
             "ticks": ""
            },
            "type": "mesh3d"
           }
          ],
          "parcoords": [
           {
            "line": {
             "colorbar": {
              "outlinewidth": 0,
              "ticks": ""
             }
            },
            "type": "parcoords"
           }
          ],
          "pie": [
           {
            "automargin": true,
            "type": "pie"
           }
          ],
          "scatter": [
           {
            "marker": {
             "colorbar": {
              "outlinewidth": 0,
              "ticks": ""
             }
            },
            "type": "scatter"
           }
          ],
          "scatter3d": [
           {
            "line": {
             "colorbar": {
              "outlinewidth": 0,
              "ticks": ""
             }
            },
            "marker": {
             "colorbar": {
              "outlinewidth": 0,
              "ticks": ""
             }
            },
            "type": "scatter3d"
           }
          ],
          "scattercarpet": [
           {
            "marker": {
             "colorbar": {
              "outlinewidth": 0,
              "ticks": ""
             }
            },
            "type": "scattercarpet"
           }
          ],
          "scattergeo": [
           {
            "marker": {
             "colorbar": {
              "outlinewidth": 0,
              "ticks": ""
             }
            },
            "type": "scattergeo"
           }
          ],
          "scattergl": [
           {
            "marker": {
             "colorbar": {
              "outlinewidth": 0,
              "ticks": ""
             }
            },
            "type": "scattergl"
           }
          ],
          "scattermapbox": [
           {
            "marker": {
             "colorbar": {
              "outlinewidth": 0,
              "ticks": ""
             }
            },
            "type": "scattermapbox"
           }
          ],
          "scatterpolar": [
           {
            "marker": {
             "colorbar": {
              "outlinewidth": 0,
              "ticks": ""
             }
            },
            "type": "scatterpolar"
           }
          ],
          "scatterpolargl": [
           {
            "marker": {
             "colorbar": {
              "outlinewidth": 0,
              "ticks": ""
             }
            },
            "type": "scatterpolargl"
           }
          ],
          "scatterternary": [
           {
            "marker": {
             "colorbar": {
              "outlinewidth": 0,
              "ticks": ""
             }
            },
            "type": "scatterternary"
           }
          ],
          "surface": [
           {
            "colorbar": {
             "outlinewidth": 0,
             "ticks": ""
            },
            "colorscale": [
             [
              0,
              "#0d0887"
             ],
             [
              0.1111111111111111,
              "#46039f"
             ],
             [
              0.2222222222222222,
              "#7201a8"
             ],
             [
              0.3333333333333333,
              "#9c179e"
             ],
             [
              0.4444444444444444,
              "#bd3786"
             ],
             [
              0.5555555555555556,
              "#d8576b"
             ],
             [
              0.6666666666666666,
              "#ed7953"
             ],
             [
              0.7777777777777778,
              "#fb9f3a"
             ],
             [
              0.8888888888888888,
              "#fdca26"
             ],
             [
              1,
              "#f0f921"
             ]
            ],
            "type": "surface"
           }
          ],
          "table": [
           {
            "cells": {
             "fill": {
              "color": "#EBF0F8"
             },
             "line": {
              "color": "white"
             }
            },
            "header": {
             "fill": {
              "color": "#C8D4E3"
             },
             "line": {
              "color": "white"
             }
            },
            "type": "table"
           }
          ]
         },
         "layout": {
          "annotationdefaults": {
           "arrowcolor": "#2a3f5f",
           "arrowhead": 0,
           "arrowwidth": 1
          },
          "coloraxis": {
           "colorbar": {
            "outlinewidth": 0,
            "ticks": ""
           }
          },
          "colorscale": {
           "diverging": [
            [
             0,
             "#8e0152"
            ],
            [
             0.1,
             "#c51b7d"
            ],
            [
             0.2,
             "#de77ae"
            ],
            [
             0.3,
             "#f1b6da"
            ],
            [
             0.4,
             "#fde0ef"
            ],
            [
             0.5,
             "#f7f7f7"
            ],
            [
             0.6,
             "#e6f5d0"
            ],
            [
             0.7,
             "#b8e186"
            ],
            [
             0.8,
             "#7fbc41"
            ],
            [
             0.9,
             "#4d9221"
            ],
            [
             1,
             "#276419"
            ]
           ],
           "sequential": [
            [
             0,
             "#0d0887"
            ],
            [
             0.1111111111111111,
             "#46039f"
            ],
            [
             0.2222222222222222,
             "#7201a8"
            ],
            [
             0.3333333333333333,
             "#9c179e"
            ],
            [
             0.4444444444444444,
             "#bd3786"
            ],
            [
             0.5555555555555556,
             "#d8576b"
            ],
            [
             0.6666666666666666,
             "#ed7953"
            ],
            [
             0.7777777777777778,
             "#fb9f3a"
            ],
            [
             0.8888888888888888,
             "#fdca26"
            ],
            [
             1,
             "#f0f921"
            ]
           ],
           "sequentialminus": [
            [
             0,
             "#0d0887"
            ],
            [
             0.1111111111111111,
             "#46039f"
            ],
            [
             0.2222222222222222,
             "#7201a8"
            ],
            [
             0.3333333333333333,
             "#9c179e"
            ],
            [
             0.4444444444444444,
             "#bd3786"
            ],
            [
             0.5555555555555556,
             "#d8576b"
            ],
            [
             0.6666666666666666,
             "#ed7953"
            ],
            [
             0.7777777777777778,
             "#fb9f3a"
            ],
            [
             0.8888888888888888,
             "#fdca26"
            ],
            [
             1,
             "#f0f921"
            ]
           ]
          },
          "colorway": [
           "#636efa",
           "#EF553B",
           "#00cc96",
           "#ab63fa",
           "#FFA15A",
           "#19d3f3",
           "#FF6692",
           "#B6E880",
           "#FF97FF",
           "#FECB52"
          ],
          "font": {
           "color": "#2a3f5f"
          },
          "geo": {
           "bgcolor": "white",
           "lakecolor": "white",
           "landcolor": "#E5ECF6",
           "showlakes": true,
           "showland": true,
           "subunitcolor": "white"
          },
          "hoverlabel": {
           "align": "left"
          },
          "hovermode": "closest",
          "mapbox": {
           "style": "light"
          },
          "paper_bgcolor": "white",
          "plot_bgcolor": "#E5ECF6",
          "polar": {
           "angularaxis": {
            "gridcolor": "white",
            "linecolor": "white",
            "ticks": ""
           },
           "bgcolor": "#E5ECF6",
           "radialaxis": {
            "gridcolor": "white",
            "linecolor": "white",
            "ticks": ""
           }
          },
          "scene": {
           "xaxis": {
            "backgroundcolor": "#E5ECF6",
            "gridcolor": "white",
            "gridwidth": 2,
            "linecolor": "white",
            "showbackground": true,
            "ticks": "",
            "zerolinecolor": "white"
           },
           "yaxis": {
            "backgroundcolor": "#E5ECF6",
            "gridcolor": "white",
            "gridwidth": 2,
            "linecolor": "white",
            "showbackground": true,
            "ticks": "",
            "zerolinecolor": "white"
           },
           "zaxis": {
            "backgroundcolor": "#E5ECF6",
            "gridcolor": "white",
            "gridwidth": 2,
            "linecolor": "white",
            "showbackground": true,
            "ticks": "",
            "zerolinecolor": "white"
           }
          },
          "shapedefaults": {
           "line": {
            "color": "#2a3f5f"
           }
          },
          "ternary": {
           "aaxis": {
            "gridcolor": "white",
            "linecolor": "white",
            "ticks": ""
           },
           "baxis": {
            "gridcolor": "white",
            "linecolor": "white",
            "ticks": ""
           },
           "bgcolor": "#E5ECF6",
           "caxis": {
            "gridcolor": "white",
            "linecolor": "white",
            "ticks": ""
           }
          },
          "title": {
           "x": 0.05
          },
          "xaxis": {
           "automargin": true,
           "gridcolor": "white",
           "linecolor": "white",
           "ticks": "",
           "title": {
            "standoff": 15
           },
           "zerolinecolor": "white",
           "zerolinewidth": 2
          },
          "yaxis": {
           "automargin": true,
           "gridcolor": "white",
           "linecolor": "white",
           "ticks": "",
           "title": {
            "standoff": 15
           },
           "zerolinecolor": "white",
           "zerolinewidth": 2
          }
         }
        },
        "title": {
         "text": "전국 성인(20세 이상) 인구"
        },
        "width": 600,
        "xaxis": {
         "anchor": "y",
         "autorange": false,
         "domain": [
          0,
          1
         ],
         "range": [
          2009.9770588235294,
          2010.5794117647058
         ],
         "title": {
          "text": "std_yyyy"
         },
         "type": "linear"
        },
        "yaxis": {
         "anchor": "x",
         "autorange": true,
         "domain": [
          0,
          1
         ],
         "range": [
          0,
          557514.7368421053
         ],
         "title": {
          "text": "num_indi"
         },
         "type": "linear"
        }
       }
      },
      "image/png": "[encoded data removed]",
      "text/html": [
       "<div>                            <div id=\"5dc64628-4489-4468-802a-5bc7c6d58225\" class=\"plotly-graph-div\" style=\"height:400px; width:600px;\"></div>            <script type=\"text/javascript\">                require([\"plotly\"], function(Plotly) {                    window.PLOTLYENV=window.PLOTLYENV || {};                                    if (document.getElementById(\"5dc64628-4489-4468-802a-5bc7c6d58225\")) {                    Plotly.newPlot(                        \"5dc64628-4489-4468-802a-5bc7c6d58225\",                        [{\"alignmentgroup\": \"True\", \"hovertemplate\": \"std_yyyy=%{x}<br>num_indi=%{y}<extra></extra>\", \"legendgroup\": \"\", \"marker\": {\"color\": \"#636efa\", \"opacity\": 0.7}, \"name\": \"\", \"offsetgroup\": \"\", \"orientation\": \"v\", \"showlegend\": false, \"textposition\": \"auto\", \"type\": \"bar\", \"x\": [2006, 2010, 2014, 2018], \"xaxis\": \"x\", \"y\": [497009, 510415, 521960, 529639], \"yaxis\": \"y\"}, {\"base\": 0, \"name\": \"\\uc18c\\ub4dd\\uc790\\uc218\", \"opacity\": 0.7, \"type\": \"bar\", \"x\": [2006, 2010, 2014, 2018], \"y\": [374702, 393333, 415298, 434285]}],                        {\"barmode\": \"relative\", \"height\": 400, \"legend\": {\"tracegroupgap\": 0}, \"margin\": {\"b\": 16, \"l\": 16, \"r\": 16, \"t\": 72}, \"template\": {\"data\": {\"bar\": [{\"error_x\": {\"color\": \"#2a3f5f\"}, \"error_y\": {\"color\": \"#2a3f5f\"}, \"marker\": {\"line\": {\"color\": \"#E5ECF6\", \"width\": 0.5}}, \"type\": \"bar\"}], \"barpolar\": [{\"marker\": {\"line\": {\"color\": \"#E5ECF6\", \"width\": 0.5}}, \"type\": \"barpolar\"}], \"carpet\": [{\"aaxis\": {\"endlinecolor\": \"#2a3f5f\", \"gridcolor\": \"white\", \"linecolor\": \"white\", \"minorgridcolor\": \"white\", \"startlinecolor\": \"#2a3f5f\"}, \"baxis\": {\"endlinecolor\": \"#2a3f5f\", \"gridcolor\": \"white\", \"linecolor\": \"white\", \"minorgridcolor\": \"white\", \"startlinecolor\": \"#2a3f5f\"}, \"type\": \"carpet\"}], \"choropleth\": [{\"colorbar\": {\"outlinewidth\": 0, \"ticks\": \"\"}, \"type\": \"choropleth\"}], \"contour\": [{\"colorbar\": {\"outlinewidth\": 0, \"ticks\": \"\"}, \"colorscale\": [[0.0, \"#0d0887\"], [0.1111111111111111, \"#46039f\"], [0.2222222222222222, \"#7201a8\"], [0.3333333333333333, \"#9c179e\"], [0.4444444444444444, \"#bd3786\"], [0.5555555555555556, \"#d8576b\"], [0.6666666666666666, \"#ed7953\"], [0.7777777777777778, \"#fb9f3a\"], [0.8888888888888888, \"#fdca26\"], [1.0, \"#f0f921\"]], \"type\": \"contour\"}], \"contourcarpet\": [{\"colorbar\": {\"outlinewidth\": 0, \"ticks\": \"\"}, \"type\": \"contourcarpet\"}], \"heatmap\": [{\"colorbar\": {\"outlinewidth\": 0, \"ticks\": \"\"}, \"colorscale\": [[0.0, \"#0d0887\"], [0.1111111111111111, \"#46039f\"], [0.2222222222222222, \"#7201a8\"], [0.3333333333333333, \"#9c179e\"], [0.4444444444444444, \"#bd3786\"], [0.5555555555555556, \"#d8576b\"], [0.6666666666666666, \"#ed7953\"], [0.7777777777777778, \"#fb9f3a\"], [0.8888888888888888, \"#fdca26\"], [1.0, \"#f0f921\"]], \"type\": \"heatmap\"}], \"heatmapgl\": [{\"colorbar\": {\"outlinewidth\": 0, \"ticks\": \"\"}, \"colorscale\": [[0.0, \"#0d0887\"], [0.1111111111111111, \"#46039f\"], [0.2222222222222222, \"#7201a8\"], [0.3333333333333333, \"#9c179e\"], [0.4444444444444444, \"#bd3786\"], [0.5555555555555556, \"#d8576b\"], [0.6666666666666666, \"#ed7953\"], [0.7777777777777778, \"#fb9f3a\"], [0.8888888888888888, \"#fdca26\"], [1.0, \"#f0f921\"]], \"type\": \"heatmapgl\"}], \"histogram\": [{\"marker\": {\"colorbar\": {\"outlinewidth\": 0, \"ticks\": \"\"}}, \"type\": \"histogram\"}], \"histogram2d\": [{\"colorbar\": {\"outlinewidth\": 0, \"ticks\": \"\"}, \"colorscale\": [[0.0, \"#0d0887\"], [0.1111111111111111, \"#46039f\"], [0.2222222222222222, \"#7201a8\"], [0.3333333333333333, \"#9c179e\"], [0.4444444444444444, \"#bd3786\"], [0.5555555555555556, \"#d8576b\"], [0.6666666666666666, \"#ed7953\"], [0.7777777777777778, \"#fb9f3a\"], [0.8888888888888888, \"#fdca26\"], [1.0, \"#f0f921\"]], \"type\": \"histogram2d\"}], \"histogram2dcontour\": [{\"colorbar\": {\"outlinewidth\": 0, \"ticks\": \"\"}, \"colorscale\": [[0.0, \"#0d0887\"], [0.1111111111111111, \"#46039f\"], [0.2222222222222222, \"#7201a8\"], [0.3333333333333333, \"#9c179e\"], [0.4444444444444444, \"#bd3786\"], [0.5555555555555556, \"#d8576b\"], [0.6666666666666666, \"#ed7953\"], [0.7777777777777778, \"#fb9f3a\"], [0.8888888888888888, \"#fdca26\"], [1.0, \"#f0f921\"]], \"type\": \"histogram2dcontour\"}], \"mesh3d\": [{\"colorbar\": {\"outlinewidth\": 0, \"ticks\": \"\"}, \"type\": \"mesh3d\"}], \"parcoords\": [{\"line\": {\"colorbar\": {\"outlinewidth\": 0, \"ticks\": \"\"}}, \"type\": \"parcoords\"}], \"pie\": [{\"automargin\": true, \"type\": \"pie\"}], \"scatter\": [{\"marker\": {\"colorbar\": {\"outlinewidth\": 0, \"ticks\": \"\"}}, \"type\": \"scatter\"}], \"scatter3d\": [{\"line\": {\"colorbar\": {\"outlinewidth\": 0, \"ticks\": \"\"}}, \"marker\": {\"colorbar\": {\"outlinewidth\": 0, \"ticks\": \"\"}}, \"type\": \"scatter3d\"}], \"scattercarpet\": [{\"marker\": {\"colorbar\": {\"outlinewidth\": 0, \"ticks\": \"\"}}, \"type\": \"scattercarpet\"}], \"scattergeo\": [{\"marker\": {\"colorbar\": {\"outlinewidth\": 0, \"ticks\": \"\"}}, \"type\": \"scattergeo\"}], \"scattergl\": [{\"marker\": {\"colorbar\": {\"outlinewidth\": 0, \"ticks\": \"\"}}, \"type\": \"scattergl\"}], \"scattermapbox\": [{\"marker\": {\"colorbar\": {\"outlinewidth\": 0, \"ticks\": \"\"}}, \"type\": \"scattermapbox\"}], \"scatterpolar\": [{\"marker\": {\"colorbar\": {\"outlinewidth\": 0, \"ticks\": \"\"}}, \"type\": \"scatterpolar\"}], \"scatterpolargl\": [{\"marker\": {\"colorbar\": {\"outlinewidth\": 0, \"ticks\": \"\"}}, \"type\": \"scatterpolargl\"}], \"scatterternary\": [{\"marker\": {\"colorbar\": {\"outlinewidth\": 0, \"ticks\": \"\"}}, \"type\": \"scatterternary\"}], \"surface\": [{\"colorbar\": {\"outlinewidth\": 0, \"ticks\": \"\"}, \"colorscale\": [[0.0, \"#0d0887\"], [0.1111111111111111, \"#46039f\"], [0.2222222222222222, \"#7201a8\"], [0.3333333333333333, \"#9c179e\"], [0.4444444444444444, \"#bd3786\"], [0.5555555555555556, \"#d8576b\"], [0.6666666666666666, \"#ed7953\"], [0.7777777777777778, \"#fb9f3a\"], [0.8888888888888888, \"#fdca26\"], [1.0, \"#f0f921\"]], \"type\": \"surface\"}], \"table\": [{\"cells\": {\"fill\": {\"color\": \"#EBF0F8\"}, \"line\": {\"color\": \"white\"}}, \"header\": {\"fill\": {\"color\": \"#C8D4E3\"}, \"line\": {\"color\": \"white\"}}, \"type\": \"table\"}]}, \"layout\": {\"annotationdefaults\": {\"arrowcolor\": \"#2a3f5f\", \"arrowhead\": 0, \"arrowwidth\": 1}, \"coloraxis\": {\"colorbar\": {\"outlinewidth\": 0, \"ticks\": \"\"}}, \"colorscale\": {\"diverging\": [[0, \"#8e0152\"], [0.1, \"#c51b7d\"], [0.2, \"#de77ae\"], [0.3, \"#f1b6da\"], [0.4, \"#fde0ef\"], [0.5, \"#f7f7f7\"], [0.6, \"#e6f5d0\"], [0.7, \"#b8e186\"], [0.8, \"#7fbc41\"], [0.9, \"#4d9221\"], [1, \"#276419\"]], \"sequential\": [[0.0, \"#0d0887\"], [0.1111111111111111, \"#46039f\"], [0.2222222222222222, \"#7201a8\"], [0.3333333333333333, \"#9c179e\"], [0.4444444444444444, \"#bd3786\"], [0.5555555555555556, \"#d8576b\"], [0.6666666666666666, \"#ed7953\"], [0.7777777777777778, \"#fb9f3a\"], [0.8888888888888888, \"#fdca26\"], [1.0, \"#f0f921\"]], \"sequentialminus\": [[0.0, \"#0d0887\"], [0.1111111111111111, \"#46039f\"], [0.2222222222222222, \"#7201a8\"], [0.3333333333333333, \"#9c179e\"], [0.4444444444444444, \"#bd3786\"], [0.5555555555555556, \"#d8576b\"], [0.6666666666666666, \"#ed7953\"], [0.7777777777777778, \"#fb9f3a\"], [0.8888888888888888, \"#fdca26\"], [1.0, \"#f0f921\"]]}, \"colorway\": [\"#636efa\", \"#EF553B\", \"#00cc96\", \"#ab63fa\", \"#FFA15A\", \"#19d3f3\", \"#FF6692\", \"#B6E880\", \"#FF97FF\", \"#FECB52\"], \"font\": {\"color\": \"#2a3f5f\"}, \"geo\": {\"bgcolor\": \"white\", \"lakecolor\": \"white\", \"landcolor\": \"#E5ECF6\", \"showlakes\": true, \"showland\": true, \"subunitcolor\": \"white\"}, \"hoverlabel\": {\"align\": \"left\"}, \"hovermode\": \"closest\", \"mapbox\": {\"style\": \"light\"}, \"paper_bgcolor\": \"white\", \"plot_bgcolor\": \"#E5ECF6\", \"polar\": {\"angularaxis\": {\"gridcolor\": \"white\", \"linecolor\": \"white\", \"ticks\": \"\"}, \"bgcolor\": \"#E5ECF6\", \"radialaxis\": {\"gridcolor\": \"white\", \"linecolor\": \"white\", \"ticks\": \"\"}}, \"scene\": {\"xaxis\": {\"backgroundcolor\": \"#E5ECF6\", \"gridcolor\": \"white\", \"gridwidth\": 2, \"linecolor\": \"white\", \"showbackground\": true, \"ticks\": \"\", \"zerolinecolor\": \"white\"}, \"yaxis\": {\"backgroundcolor\": \"#E5ECF6\", \"gridcolor\": \"white\", \"gridwidth\": 2, \"linecolor\": \"white\", \"showbackground\": true, \"ticks\": \"\", \"zerolinecolor\": \"white\"}, \"zaxis\": {\"backgroundcolor\": \"#E5ECF6\", \"gridcolor\": \"white\", \"gridwidth\": 2, \"linecolor\": \"white\", \"showbackground\": true, \"ticks\": \"\", \"zerolinecolor\": \"white\"}}, \"shapedefaults\": {\"line\": {\"color\": \"#2a3f5f\"}}, \"ternary\": {\"aaxis\": {\"gridcolor\": \"white\", \"linecolor\": \"white\", \"ticks\": \"\"}, \"baxis\": {\"gridcolor\": \"white\", \"linecolor\": \"white\", \"ticks\": \"\"}, \"bgcolor\": \"#E5ECF6\", \"caxis\": {\"gridcolor\": \"white\", \"linecolor\": \"white\", \"ticks\": \"\"}}, \"title\": {\"x\": 0.05}, \"xaxis\": {\"automargin\": true, \"gridcolor\": \"white\", \"linecolor\": \"white\", \"ticks\": \"\", \"title\": {\"standoff\": 15}, \"zerolinecolor\": \"white\", \"zerolinewidth\": 2}, \"yaxis\": {\"automargin\": true, \"gridcolor\": \"white\", \"linecolor\": \"white\", \"ticks\": \"\", \"title\": {\"standoff\": 15}, \"zerolinecolor\": \"white\", \"zerolinewidth\": 2}}}, \"title\": {\"text\": \"\\uc804\\uad6d \\uc131\\uc778(20\\uc138 \\uc774\\uc0c1) \\uc778\\uad6c\"}, \"width\": 600, \"xaxis\": {\"anchor\": \"y\", \"domain\": [0.0, 1.0], \"title\": {\"text\": \"std_yyyy\"}}, \"yaxis\": {\"anchor\": \"x\", \"domain\": [0.0, 1.0], \"title\": {\"text\": \"num_indi\"}}},                        {\"responsive\": true}                    ).then(function(){\n",
       "                            \n",
       "var gd = document.getElementById('5dc64628-4489-4468-802a-5bc7c6d58225');\n",
       "var x = new MutationObserver(function (mutations, observer) {{\n",
       "        var display = window.getComputedStyle(gd).display;\n",
       "        if (!display || display === 'none') {{\n",
       "            console.log([gd, 'removed!']);\n",
       "            Plotly.purge(gd);\n",
       "            observer.disconnect();\n",
       "        }}\n",
       "}});\n",
       "\n",
       "// Listen for the removal of the full notebook cells\n",
       "var notebookContainer = gd.closest('#notebook-container');\n",
       "if (notebookContainer) {{\n",
       "    x.observe(notebookContainer, {childList: true});\n",
       "}}\n",
       "\n",
       "// Listen for the clearing of the current output cell\n",
       "var outputEl = gd.closest('.output');\n",
       "if (outputEl) {{\n",
       "    x.observe(outputEl, {childList: true});\n",
       "}}\n",
       "\n",
       "                        })                };                });            </script>        </div>"
      ]
     },
     "metadata": {},
     "output_type": "display_data"
    }
   ],
   "source": [
    "plot_population(mmi['kr_adult20'], 'inc_tot', 'kr_adult20')"
   ]
  },
  {
   "cell_type": "code",
   "execution_count": 204,
   "metadata": {},
   "outputs": [
    {
     "data": {
      "text/html": [
       "<div>\n",
       "<style scoped>\n",
       "    .dataframe tbody tr th:only-of-type {\n",
       "        vertical-align: middle;\n",
       "    }\n",
       "\n",
       "    .dataframe tbody tr th {\n",
       "        vertical-align: top;\n",
       "    }\n",
       "\n",
       "    .dataframe thead th {\n",
       "        text-align: right;\n",
       "    }\n",
       "</style>\n",
       "<table border=\"1\" class=\"dataframe\">\n",
       "  <thead>\n",
       "    <tr style=\"text-align: right;\">\n",
       "      <th></th>\n",
       "      <th>std_yyyy</th>\n",
       "      <th>mean</th>\n",
       "    </tr>\n",
       "  </thead>\n",
       "  <tbody>\n",
       "    <tr>\n",
       "      <th>0</th>\n",
       "      <td>2006</td>\n",
       "      <td>7.627377e+07</td>\n",
       "    </tr>\n",
       "    <tr>\n",
       "      <th>1</th>\n",
       "      <td>2010</td>\n",
       "      <td>1.028998e+08</td>\n",
       "    </tr>\n",
       "    <tr>\n",
       "      <th>2</th>\n",
       "      <td>2014</td>\n",
       "      <td>1.104655e+08</td>\n",
       "    </tr>\n",
       "    <tr>\n",
       "      <th>3</th>\n",
       "      <td>2018</td>\n",
       "      <td>1.270409e+08</td>\n",
       "    </tr>\n",
       "  </tbody>\n",
       "</table>\n",
       "</div>"
      ],
      "text/plain": [
       "   std_yyyy          mean\n",
       "0      2006  7.627377e+07\n",
       "1      2010  1.028998e+08\n",
       "2      2014  1.104655e+08\n",
       "3      2018  1.270409e+08"
      ]
     },
     "execution_count": 204,
     "metadata": {},
     "output_type": "execute_result"
    }
   ],
   "source": [
    "df[['std_yyyy', 'mean']].groupby('std_yyyy').max().reset_index()"
   ]
  },
  {
   "cell_type": "code",
   "execution_count": 253,
   "metadata": {},
   "outputs": [
    {
     "data": {
      "text/plain": [
       "array(['inc_tot', 'prop_txbs_tot'], dtype=object)"
      ]
     },
     "execution_count": 253,
     "metadata": {},
     "output_type": "execute_result"
    }
   ],
   "source": [
    "mmi[\n",
    "    'seoul_sigungu_adult20'\n",
    "]['var'].unique()"
   ]
  },
  {
   "cell_type": "code",
   "execution_count": 254,
   "metadata": {},
   "outputs": [],
   "source": [
    "df = mmi['seoul_sigungu_adult20']\n",
    "df = df.loc[df['var']=='inc_tot', ['std_yyyy', '구', 'mean']]\n",
    "yearly_max = df[['std_yyyy', 'mean']].groupby('std_yyyy').max().reset_index().rename(columns={'mean': 'gu_max'})\n",
    "yearly_min = df[['std_yyyy', 'mean']].groupby('std_yyyy').min().reset_index().rename(columns={'mean': 'gu_min'})\n",
    "yearly_median = df[['std_yyyy', 'mean']].groupby('std_yyyy').median().reset_index().rename(columns={'mean': 'gu_median'})"
   ]
  },
  {
   "cell_type": "code",
   "execution_count": 255,
   "metadata": {},
   "outputs": [],
   "source": [
    "df = df.merge(yearly_max, on=['std_yyyy']).merge(yearly_min, on=['std_yyyy']).merge(yearly_median, on=['std_yyyy'])"
   ]
  },
  {
   "cell_type": "code",
   "execution_count": 236,
   "metadata": {},
   "outputs": [],
   "source": [
    "def get_max_min(group):\n",
    "    return group['gu_max'].max() / group['gu_min'].min()\n",
    "def get_min_median(group):\n",
    "    return group['gu_min'].max() / group['gu_median'].min()\n",
    "def get_max_median(group):\n",
    "    return group['gu_max'].max() / group['gu_median'].min()"
   ]
  },
  {
   "cell_type": "code",
   "execution_count": 264,
   "metadata": {},
   "outputs": [],
   "source": [
    "def get_inter_gu_rates(df, var, stat):\n",
    "    df = mmi['seoul_sigungu_adult20']\n",
    "    df = df.loc[df['var']==var, ['std_yyyy', '구', stat]]\n",
    "    yearly_max = df[['std_yyyy', stat]].groupby('std_yyyy').max().reset_index().rename(columns={'mean': 'gu_max'})\n",
    "    yearly_min = df[['std_yyyy', stat]].groupby('std_yyyy').min().reset_index().rename(columns={'mean': 'gu_min'})\n",
    "    yearly_median = df[['std_yyyy', stat]].groupby('std_yyyy').median().reset_index().rename(columns={'mean': 'gu_median'})\n",
    "    df = df.merge(yearly_max, on=['std_yyyy']).merge(yearly_min, on=['std_yyyy']).merge(yearly_median, on=['std_yyyy'])\n",
    "    return pd.DataFrame({\n",
    "        'std_yyyy': df[['std_yyyy']].groupby('std_yyyy').first().index.tolist(), \n",
    "        '최대구': df[df[stat] == df['gu_max']]['구'].tolist(),\n",
    "        '중위구': df[df[stat] == df['gu_median']]['구'].tolist(),\n",
    "        '최소구': df[df[stat] == df['gu_min']]['구'].tolist(), \n",
    "        '최대/최소': df.groupby('std_yyyy').apply(get_max_min).tolist(),\n",
    "        '최소/중위': df.groupby('std_yyyy').apply(get_min_median).tolist(),\n",
    "        '최대/중위': df.groupby('std_yyyy').apply(get_max_median).tolist(),\n",
    "    })\n",
    "    "
   ]
  },
  {
   "cell_type": "code",
   "execution_count": 271,
   "metadata": {},
   "outputs": [
    {
     "data": {
      "text/html": [
       "<div>\n",
       "<style scoped>\n",
       "    .dataframe tbody tr th:only-of-type {\n",
       "        vertical-align: middle;\n",
       "    }\n",
       "\n",
       "    .dataframe tbody tr th {\n",
       "        vertical-align: top;\n",
       "    }\n",
       "\n",
       "    .dataframe thead th {\n",
       "        text-align: right;\n",
       "    }\n",
       "</style>\n",
       "<table border=\"1\" class=\"dataframe\">\n",
       "  <thead>\n",
       "    <tr style=\"text-align: right;\">\n",
       "      <th></th>\n",
       "      <th>std_yyyy</th>\n",
       "      <th>최대구</th>\n",
       "      <th>중위구</th>\n",
       "      <th>최소구</th>\n",
       "      <th>최대/최소</th>\n",
       "      <th>최소/중위</th>\n",
       "      <th>최대/중위</th>\n",
       "    </tr>\n",
       "  </thead>\n",
       "  <tbody>\n",
       "    <tr>\n",
       "      <th>0</th>\n",
       "      <td>2006</td>\n",
       "      <td>강남구</td>\n",
       "      <td>성동구</td>\n",
       "      <td>강북구</td>\n",
       "      <td>5.810593</td>\n",
       "      <td>0.586636</td>\n",
       "      <td>3.408704</td>\n",
       "    </tr>\n",
       "    <tr>\n",
       "      <th>1</th>\n",
       "      <td>2007</td>\n",
       "      <td>강남구</td>\n",
       "      <td>성동구</td>\n",
       "      <td>강북구</td>\n",
       "      <td>6.096371</td>\n",
       "      <td>0.574084</td>\n",
       "      <td>3.499827</td>\n",
       "    </tr>\n",
       "    <tr>\n",
       "      <th>2</th>\n",
       "      <td>2008</td>\n",
       "      <td>강남구</td>\n",
       "      <td>성동구</td>\n",
       "      <td>금천구</td>\n",
       "      <td>5.954601</td>\n",
       "      <td>0.578586</td>\n",
       "      <td>3.445251</td>\n",
       "    </tr>\n",
       "    <tr>\n",
       "      <th>3</th>\n",
       "      <td>2009</td>\n",
       "      <td>강남구</td>\n",
       "      <td>강동구</td>\n",
       "      <td>금천구</td>\n",
       "      <td>5.509378</td>\n",
       "      <td>0.586087</td>\n",
       "      <td>3.228976</td>\n",
       "    </tr>\n",
       "    <tr>\n",
       "      <th>4</th>\n",
       "      <td>2010</td>\n",
       "      <td>강남구</td>\n",
       "      <td>성동구</td>\n",
       "      <td>금천구</td>\n",
       "      <td>5.597020</td>\n",
       "      <td>0.577417</td>\n",
       "      <td>3.231814</td>\n",
       "    </tr>\n",
       "    <tr>\n",
       "      <th>5</th>\n",
       "      <td>2011</td>\n",
       "      <td>강남구</td>\n",
       "      <td>성동구</td>\n",
       "      <td>금천구</td>\n",
       "      <td>5.684883</td>\n",
       "      <td>0.569340</td>\n",
       "      <td>3.236629</td>\n",
       "    </tr>\n",
       "    <tr>\n",
       "      <th>6</th>\n",
       "      <td>2012</td>\n",
       "      <td>강남구</td>\n",
       "      <td>강동구</td>\n",
       "      <td>금천구</td>\n",
       "      <td>5.434973</td>\n",
       "      <td>0.591413</td>\n",
       "      <td>3.214311</td>\n",
       "    </tr>\n",
       "    <tr>\n",
       "      <th>7</th>\n",
       "      <td>2013</td>\n",
       "      <td>강남구</td>\n",
       "      <td>성북구</td>\n",
       "      <td>금천구</td>\n",
       "      <td>5.193590</td>\n",
       "      <td>0.600791</td>\n",
       "      <td>3.120262</td>\n",
       "    </tr>\n",
       "    <tr>\n",
       "      <th>8</th>\n",
       "      <td>2014</td>\n",
       "      <td>강남구</td>\n",
       "      <td>성북구</td>\n",
       "      <td>금천구</td>\n",
       "      <td>5.223787</td>\n",
       "      <td>0.596995</td>\n",
       "      <td>3.118575</td>\n",
       "    </tr>\n",
       "    <tr>\n",
       "      <th>9</th>\n",
       "      <td>2015</td>\n",
       "      <td>강남구</td>\n",
       "      <td>성북구</td>\n",
       "      <td>금천구</td>\n",
       "      <td>5.190260</td>\n",
       "      <td>0.589401</td>\n",
       "      <td>3.059143</td>\n",
       "    </tr>\n",
       "    <tr>\n",
       "      <th>10</th>\n",
       "      <td>2016</td>\n",
       "      <td>강남구</td>\n",
       "      <td>성북구</td>\n",
       "      <td>금천구</td>\n",
       "      <td>5.245675</td>\n",
       "      <td>0.583378</td>\n",
       "      <td>3.060210</td>\n",
       "    </tr>\n",
       "    <tr>\n",
       "      <th>11</th>\n",
       "      <td>2017</td>\n",
       "      <td>강남구</td>\n",
       "      <td>성북구</td>\n",
       "      <td>금천구</td>\n",
       "      <td>5.391490</td>\n",
       "      <td>0.589687</td>\n",
       "      <td>3.179294</td>\n",
       "    </tr>\n",
       "    <tr>\n",
       "      <th>12</th>\n",
       "      <td>2018</td>\n",
       "      <td>강남구</td>\n",
       "      <td>강동구</td>\n",
       "      <td>금천구</td>\n",
       "      <td>5.471689</td>\n",
       "      <td>0.589643</td>\n",
       "      <td>3.226343</td>\n",
       "    </tr>\n",
       "  </tbody>\n",
       "</table>\n",
       "</div>"
      ],
      "text/plain": [
       "    std_yyyy  최대구  중위구  최소구     최대/최소     최소/중위     최대/중위\n",
       "0       2006  강남구  성동구  강북구  5.810593  0.586636  3.408704\n",
       "1       2007  강남구  성동구  강북구  6.096371  0.574084  3.499827\n",
       "2       2008  강남구  성동구  금천구  5.954601  0.578586  3.445251\n",
       "3       2009  강남구  강동구  금천구  5.509378  0.586087  3.228976\n",
       "4       2010  강남구  성동구  금천구  5.597020  0.577417  3.231814\n",
       "5       2011  강남구  성동구  금천구  5.684883  0.569340  3.236629\n",
       "6       2012  강남구  강동구  금천구  5.434973  0.591413  3.214311\n",
       "7       2013  강남구  성북구  금천구  5.193590  0.600791  3.120262\n",
       "8       2014  강남구  성북구  금천구  5.223787  0.596995  3.118575\n",
       "9       2015  강남구  성북구  금천구  5.190260  0.589401  3.059143\n",
       "10      2016  강남구  성북구  금천구  5.245675  0.583378  3.060210\n",
       "11      2017  강남구  성북구  금천구  5.391490  0.589687  3.179294\n",
       "12      2018  강남구  강동구  금천구  5.471689  0.589643  3.226343"
      ]
     },
     "execution_count": 271,
     "metadata": {},
     "output_type": "execute_result"
    }
   ],
   "source": [
    "intergu = dict()\n",
    "intergu['p'] = get_inter_gu_rates(mmi['seoul_sigungu_adult20'], 'prop_txbs_tot', 'mean')"
   ]
  },
  {
   "cell_type": "code",
   "execution_count": null,
   "metadata": {},
   "outputs": [],
   "source": [
    "with pd.ExcelWriter(data_dir / 'seoul_inter-gu_ratios.xlsx') as writer:\n",
    "    for k, df in new.items():\n",
    "        df.to_excel(writer, index=False, sheet_name=k.lower())"
   ]
  },
  {
   "cell_type": "code",
   "execution_count": 15,
   "metadata": {},
   "outputs": [],
   "source": [
    "df['var'] = df['var'].apply(translate)"
   ]
  },
  {
   "cell_type": "code",
   "execution_count": 16,
   "metadata": {},
   "outputs": [
    {
     "data": {
      "text/html": [
       "<div>\n",
       "<style scoped>\n",
       "    .dataframe tbody tr th:only-of-type {\n",
       "        vertical-align: middle;\n",
       "    }\n",
       "\n",
       "    .dataframe tbody tr th {\n",
       "        vertical-align: top;\n",
       "    }\n",
       "\n",
       "    .dataframe thead th {\n",
       "        text-align: right;\n",
       "    }\n",
       "</style>\n",
       "<table border=\"1\" class=\"dataframe\">\n",
       "  <thead>\n",
       "    <tr style=\"text-align: right;\">\n",
       "      <th></th>\n",
       "      <th>var</th>\n",
       "      <th>std_yyyy</th>\n",
       "      <th>count</th>\n",
       "      <th>num_indi</th>\n",
       "      <th>frac_earners</th>\n",
       "      <th>mean</th>\n",
       "      <th>mean_real</th>\n",
       "      <th>median</th>\n",
       "      <th>median_real</th>\n",
       "      <th>gini</th>\n",
       "      <th>iqsr</th>\n",
       "      <th>rpr</th>\n",
       "    </tr>\n",
       "  </thead>\n",
       "  <tbody>\n",
       "    <tr>\n",
       "      <th>0</th>\n",
       "      <td>근로소득</td>\n",
       "      <td>2006</td>\n",
       "      <td>114798</td>\n",
       "      <td>497009</td>\n",
       "      <td>0.230978</td>\n",
       "      <td>2.510085e+07</td>\n",
       "      <td>3.129703e+07</td>\n",
       "      <td>18000000</td>\n",
       "      <td>2.244333e+07</td>\n",
       "      <td>0.471797</td>\n",
       "      <td>17.247358</td>\n",
       "      <td>0.256912</td>\n",
       "    </tr>\n",
       "    <tr>\n",
       "      <th>1</th>\n",
       "      <td>근로소득</td>\n",
       "      <td>2010</td>\n",
       "      <td>138577</td>\n",
       "      <td>510415</td>\n",
       "      <td>0.271499</td>\n",
       "      <td>2.831086e+07</td>\n",
       "      <td>3.109341e+07</td>\n",
       "      <td>19571670</td>\n",
       "      <td>2.149528e+07</td>\n",
       "      <td>0.478636</td>\n",
       "      <td>17.007200</td>\n",
       "      <td>0.238885</td>\n",
       "    </tr>\n",
       "    <tr>\n",
       "      <th>2</th>\n",
       "      <td>근로소득</td>\n",
       "      <td>2014</td>\n",
       "      <td>162366</td>\n",
       "      <td>521960</td>\n",
       "      <td>0.311070</td>\n",
       "      <td>3.218922e+07</td>\n",
       "      <td>3.241679e+07</td>\n",
       "      <td>22769634</td>\n",
       "      <td>2.293061e+07</td>\n",
       "      <td>0.468681</td>\n",
       "      <td>16.080858</td>\n",
       "      <td>0.230436</td>\n",
       "    </tr>\n",
       "    <tr>\n",
       "      <th>3</th>\n",
       "      <td>근로소득</td>\n",
       "      <td>2018</td>\n",
       "      <td>185600</td>\n",
       "      <td>529639</td>\n",
       "      <td>0.350427</td>\n",
       "      <td>3.609552e+07</td>\n",
       "      <td>3.455770e+07</td>\n",
       "      <td>26353755</td>\n",
       "      <td>2.523098e+07</td>\n",
       "      <td>0.448921</td>\n",
       "      <td>13.870935</td>\n",
       "      <td>0.212672</td>\n",
       "    </tr>\n",
       "    <tr>\n",
       "      <th>4</th>\n",
       "      <td>사업소득</td>\n",
       "      <td>2006</td>\n",
       "      <td>49398</td>\n",
       "      <td>497009</td>\n",
       "      <td>0.099391</td>\n",
       "      <td>1.165138e+07</td>\n",
       "      <td>1.452755e+07</td>\n",
       "      <td>4110000</td>\n",
       "      <td>5.124560e+06</td>\n",
       "      <td>0.711305</td>\n",
       "      <td>70.587051</td>\n",
       "      <td>0.320843</td>\n",
       "    </tr>\n",
       "  </tbody>\n",
       "</table>\n",
       "</div>"
      ],
      "text/plain": [
       "    var  std_yyyy   count  num_indi  frac_earners          mean     mean_real  \\\n",
       "0  근로소득      2006  114798    497009      0.230978  2.510085e+07  3.129703e+07   \n",
       "1  근로소득      2010  138577    510415      0.271499  2.831086e+07  3.109341e+07   \n",
       "2  근로소득      2014  162366    521960      0.311070  3.218922e+07  3.241679e+07   \n",
       "3  근로소득      2018  185600    529639      0.350427  3.609552e+07  3.455770e+07   \n",
       "4  사업소득      2006   49398    497009      0.099391  1.165138e+07  1.452755e+07   \n",
       "\n",
       "     median   median_real      gini       iqsr       rpr  \n",
       "0  18000000  2.244333e+07  0.471797  17.247358  0.256912  \n",
       "1  19571670  2.149528e+07  0.478636  17.007200  0.238885  \n",
       "2  22769634  2.293061e+07  0.468681  16.080858  0.230436  \n",
       "3  26353755  2.523098e+07  0.448921  13.870935  0.212672  \n",
       "4   4110000  5.124560e+06  0.711305  70.587051  0.320843  "
      ]
     },
     "execution_count": 16,
     "metadata": {},
     "output_type": "execute_result"
    }
   ],
   "source": [
    "df.head()"
   ]
  },
  {
   "cell_type": "code",
   "execution_count": 28,
   "metadata": {},
   "outputs": [
    {
     "data": {
      "text/html": [
       "<div>\n",
       "<style scoped>\n",
       "    .dataframe tbody tr th:only-of-type {\n",
       "        vertical-align: middle;\n",
       "    }\n",
       "\n",
       "    .dataframe tbody tr th {\n",
       "        vertical-align: top;\n",
       "    }\n",
       "\n",
       "    .dataframe thead th {\n",
       "        text-align: right;\n",
       "    }\n",
       "</style>\n",
       "<table border=\"1\" class=\"dataframe\">\n",
       "  <thead>\n",
       "    <tr style=\"text-align: right;\">\n",
       "      <th></th>\n",
       "      <th>변수</th>\n",
       "      <th>연도</th>\n",
       "      <th>(소득자만)</th>\n",
       "      <th>인구</th>\n",
       "      <th>소득자 비율</th>\n",
       "      <th>평균</th>\n",
       "      <th>평균 실질</th>\n",
       "      <th>중위</th>\n",
       "      <th>중위 실질</th>\n",
       "      <th>지니계수</th>\n",
       "      <th>5분위배율</th>\n",
       "      <th>상대빈곤율</th>\n",
       "    </tr>\n",
       "  </thead>\n",
       "  <tbody>\n",
       "    <tr>\n",
       "      <th>0</th>\n",
       "      <td>근로소득</td>\n",
       "      <td>2006</td>\n",
       "      <td>114798</td>\n",
       "      <td>497009</td>\n",
       "      <td>0.230978</td>\n",
       "      <td>2.510085e+07</td>\n",
       "      <td>3.129703e+07</td>\n",
       "      <td>18000000</td>\n",
       "      <td>2.244333e+07</td>\n",
       "      <td>0.471797</td>\n",
       "      <td>17.247358</td>\n",
       "      <td>0.256912</td>\n",
       "    </tr>\n",
       "    <tr>\n",
       "      <th>1</th>\n",
       "      <td>근로소득</td>\n",
       "      <td>2010</td>\n",
       "      <td>138577</td>\n",
       "      <td>510415</td>\n",
       "      <td>0.271499</td>\n",
       "      <td>2.831086e+07</td>\n",
       "      <td>3.109341e+07</td>\n",
       "      <td>19571670</td>\n",
       "      <td>2.149528e+07</td>\n",
       "      <td>0.478636</td>\n",
       "      <td>17.007200</td>\n",
       "      <td>0.238885</td>\n",
       "    </tr>\n",
       "    <tr>\n",
       "      <th>2</th>\n",
       "      <td>근로소득</td>\n",
       "      <td>2014</td>\n",
       "      <td>162366</td>\n",
       "      <td>521960</td>\n",
       "      <td>0.311070</td>\n",
       "      <td>3.218922e+07</td>\n",
       "      <td>3.241679e+07</td>\n",
       "      <td>22769634</td>\n",
       "      <td>2.293061e+07</td>\n",
       "      <td>0.468681</td>\n",
       "      <td>16.080858</td>\n",
       "      <td>0.230436</td>\n",
       "    </tr>\n",
       "    <tr>\n",
       "      <th>3</th>\n",
       "      <td>근로소득</td>\n",
       "      <td>2018</td>\n",
       "      <td>185600</td>\n",
       "      <td>529639</td>\n",
       "      <td>0.350427</td>\n",
       "      <td>3.609552e+07</td>\n",
       "      <td>3.455770e+07</td>\n",
       "      <td>26353755</td>\n",
       "      <td>2.523098e+07</td>\n",
       "      <td>0.448921</td>\n",
       "      <td>13.870935</td>\n",
       "      <td>0.212672</td>\n",
       "    </tr>\n",
       "    <tr>\n",
       "      <th>4</th>\n",
       "      <td>사업소득</td>\n",
       "      <td>2006</td>\n",
       "      <td>49398</td>\n",
       "      <td>497009</td>\n",
       "      <td>0.099391</td>\n",
       "      <td>1.165138e+07</td>\n",
       "      <td>1.452755e+07</td>\n",
       "      <td>4110000</td>\n",
       "      <td>5.124560e+06</td>\n",
       "      <td>0.711305</td>\n",
       "      <td>70.587051</td>\n",
       "      <td>0.320843</td>\n",
       "    </tr>\n",
       "    <tr>\n",
       "      <th>5</th>\n",
       "      <td>사업소득</td>\n",
       "      <td>2010</td>\n",
       "      <td>66517</td>\n",
       "      <td>510415</td>\n",
       "      <td>0.130319</td>\n",
       "      <td>1.184855e+07</td>\n",
       "      <td>1.301309e+07</td>\n",
       "      <td>3410000</td>\n",
       "      <td>3.745154e+06</td>\n",
       "      <td>0.753374</td>\n",
       "      <td>218.035550</td>\n",
       "      <td>0.344423</td>\n",
       "    </tr>\n",
       "    <tr>\n",
       "      <th>6</th>\n",
       "      <td>사업소득</td>\n",
       "      <td>2014</td>\n",
       "      <td>77352</td>\n",
       "      <td>521960</td>\n",
       "      <td>0.148195</td>\n",
       "      <td>1.339644e+07</td>\n",
       "      <td>1.349114e+07</td>\n",
       "      <td>3800000</td>\n",
       "      <td>3.826865e+06</td>\n",
       "      <td>0.756366</td>\n",
       "      <td>278.637061</td>\n",
       "      <td>0.359112</td>\n",
       "    </tr>\n",
       "    <tr>\n",
       "      <th>7</th>\n",
       "      <td>사업소득</td>\n",
       "      <td>2018</td>\n",
       "      <td>98941</td>\n",
       "      <td>529639</td>\n",
       "      <td>0.186808</td>\n",
       "      <td>1.410862e+07</td>\n",
       "      <td>1.350754e+07</td>\n",
       "      <td>3940000</td>\n",
       "      <td>3.772140e+06</td>\n",
       "      <td>0.755823</td>\n",
       "      <td>329.550859</td>\n",
       "      <td>0.365976</td>\n",
       "    </tr>\n",
       "    <tr>\n",
       "      <th>8</th>\n",
       "      <td>주택과세표준</td>\n",
       "      <td>2006</td>\n",
       "      <td>109180</td>\n",
       "      <td>497009</td>\n",
       "      <td>0.219674</td>\n",
       "      <td>5.700734e+07</td>\n",
       "      <td>7.107969e+07</td>\n",
       "      <td>33000000</td>\n",
       "      <td>4.114611e+07</td>\n",
       "      <td>0.547689</td>\n",
       "      <td>24.084035</td>\n",
       "      <td>0.253013</td>\n",
       "    </tr>\n",
       "    <tr>\n",
       "      <th>9</th>\n",
       "      <td>주택과세표준</td>\n",
       "      <td>2010</td>\n",
       "      <td>123378</td>\n",
       "      <td>510415</td>\n",
       "      <td>0.241721</td>\n",
       "      <td>8.763481e+07</td>\n",
       "      <td>9.624804e+07</td>\n",
       "      <td>54600000</td>\n",
       "      <td>5.996639e+07</td>\n",
       "      <td>0.525222</td>\n",
       "      <td>21.850155</td>\n",
       "      <td>0.255443</td>\n",
       "    </tr>\n",
       "    <tr>\n",
       "      <th>10</th>\n",
       "      <td>주택과세표준</td>\n",
       "      <td>2014</td>\n",
       "      <td>133202</td>\n",
       "      <td>521960</td>\n",
       "      <td>0.255196</td>\n",
       "      <td>9.450400e+07</td>\n",
       "      <td>9.517211e+07</td>\n",
       "      <td>68400000</td>\n",
       "      <td>6.888356e+07</td>\n",
       "      <td>0.469465</td>\n",
       "      <td>15.514740</td>\n",
       "      <td>0.236213</td>\n",
       "    </tr>\n",
       "    <tr>\n",
       "      <th>11</th>\n",
       "      <td>주택과세표준</td>\n",
       "      <td>2018</td>\n",
       "      <td>148198</td>\n",
       "      <td>529639</td>\n",
       "      <td>0.279809</td>\n",
       "      <td>1.174771e+08</td>\n",
       "      <td>1.124721e+08</td>\n",
       "      <td>84000000</td>\n",
       "      <td>8.042125e+07</td>\n",
       "      <td>0.470113</td>\n",
       "      <td>14.841908</td>\n",
       "      <td>0.230084</td>\n",
       "    </tr>\n",
       "    <tr>\n",
       "      <th>12</th>\n",
       "      <td>토지과세표준</td>\n",
       "      <td>2006</td>\n",
       "      <td>68387</td>\n",
       "      <td>497009</td>\n",
       "      <td>0.137597</td>\n",
       "      <td>7.627377e+07</td>\n",
       "      <td>9.510209e+07</td>\n",
       "      <td>22041459</td>\n",
       "      <td>2.748243e+07</td>\n",
       "      <td>0.742366</td>\n",
       "      <td>125.900583</td>\n",
       "      <td>0.330999</td>\n",
       "    </tr>\n",
       "    <tr>\n",
       "      <th>13</th>\n",
       "      <td>토지과세표준</td>\n",
       "      <td>2010</td>\n",
       "      <td>75010</td>\n",
       "      <td>510415</td>\n",
       "      <td>0.146959</td>\n",
       "      <td>1.028998e+08</td>\n",
       "      <td>1.130134e+08</td>\n",
       "      <td>26465810</td>\n",
       "      <td>2.906702e+07</td>\n",
       "      <td>0.762923</td>\n",
       "      <td>181.745065</td>\n",
       "      <td>0.346620</td>\n",
       "    </tr>\n",
       "    <tr>\n",
       "      <th>14</th>\n",
       "      <td>토지과세표준</td>\n",
       "      <td>2014</td>\n",
       "      <td>79701</td>\n",
       "      <td>521960</td>\n",
       "      <td>0.152696</td>\n",
       "      <td>1.104655e+08</td>\n",
       "      <td>1.112464e+08</td>\n",
       "      <td>29450512</td>\n",
       "      <td>2.965872e+07</td>\n",
       "      <td>0.755809</td>\n",
       "      <td>182.548201</td>\n",
       "      <td>0.347511</td>\n",
       "    </tr>\n",
       "    <tr>\n",
       "      <th>15</th>\n",
       "      <td>토지과세표준</td>\n",
       "      <td>2018</td>\n",
       "      <td>86384</td>\n",
       "      <td>529639</td>\n",
       "      <td>0.163100</td>\n",
       "      <td>1.270409e+08</td>\n",
       "      <td>1.216284e+08</td>\n",
       "      <td>35021315</td>\n",
       "      <td>3.352926e+07</td>\n",
       "      <td>0.752784</td>\n",
       "      <td>183.328963</td>\n",
       "      <td>0.350609</td>\n",
       "    </tr>\n",
       "    <tr>\n",
       "      <th>16</th>\n",
       "      <td>건물과세표준</td>\n",
       "      <td>2006</td>\n",
       "      <td>21885</td>\n",
       "      <td>497009</td>\n",
       "      <td>0.044033</td>\n",
       "      <td>5.377818e+07</td>\n",
       "      <td>6.705342e+07</td>\n",
       "      <td>17359511</td>\n",
       "      <td>2.164474e+07</td>\n",
       "      <td>0.731122</td>\n",
       "      <td>210.584896</td>\n",
       "      <td>0.356043</td>\n",
       "    </tr>\n",
       "    <tr>\n",
       "      <th>17</th>\n",
       "      <td>건물과세표준</td>\n",
       "      <td>2010</td>\n",
       "      <td>24236</td>\n",
       "      <td>510415</td>\n",
       "      <td>0.047483</td>\n",
       "      <td>6.091757e+07</td>\n",
       "      <td>6.690489e+07</td>\n",
       "      <td>20787298</td>\n",
       "      <td>2.283039e+07</td>\n",
       "      <td>0.716713</td>\n",
       "      <td>169.934118</td>\n",
       "      <td>0.352946</td>\n",
       "    </tr>\n",
       "    <tr>\n",
       "      <th>18</th>\n",
       "      <td>건물과세표준</td>\n",
       "      <td>2014</td>\n",
       "      <td>26395</td>\n",
       "      <td>521960</td>\n",
       "      <td>0.050569</td>\n",
       "      <td>7.018181e+07</td>\n",
       "      <td>7.067797e+07</td>\n",
       "      <td>24525557</td>\n",
       "      <td>2.469894e+07</td>\n",
       "      <td>0.714490</td>\n",
       "      <td>176.694918</td>\n",
       "      <td>0.357795</td>\n",
       "    </tr>\n",
       "    <tr>\n",
       "      <th>19</th>\n",
       "      <td>건물과세표준</td>\n",
       "      <td>2018</td>\n",
       "      <td>30201</td>\n",
       "      <td>529639</td>\n",
       "      <td>0.057022</td>\n",
       "      <td>7.393619e+07</td>\n",
       "      <td>7.078620e+07</td>\n",
       "      <td>26459316</td>\n",
       "      <td>2.533204e+07</td>\n",
       "      <td>0.718473</td>\n",
       "      <td>212.777857</td>\n",
       "      <td>0.363067</td>\n",
       "    </tr>\n",
       "  </tbody>\n",
       "</table>\n",
       "</div>"
      ],
      "text/plain": [
       "        변수    연도  (소득자만)      인구    소득자 비율            평균         평균 실질  \\\n",
       "0     근로소득  2006  114798  497009  0.230978  2.510085e+07  3.129703e+07   \n",
       "1     근로소득  2010  138577  510415  0.271499  2.831086e+07  3.109341e+07   \n",
       "2     근로소득  2014  162366  521960  0.311070  3.218922e+07  3.241679e+07   \n",
       "3     근로소득  2018  185600  529639  0.350427  3.609552e+07  3.455770e+07   \n",
       "4     사업소득  2006   49398  497009  0.099391  1.165138e+07  1.452755e+07   \n",
       "5     사업소득  2010   66517  510415  0.130319  1.184855e+07  1.301309e+07   \n",
       "6     사업소득  2014   77352  521960  0.148195  1.339644e+07  1.349114e+07   \n",
       "7     사업소득  2018   98941  529639  0.186808  1.410862e+07  1.350754e+07   \n",
       "8   주택과세표준  2006  109180  497009  0.219674  5.700734e+07  7.107969e+07   \n",
       "9   주택과세표준  2010  123378  510415  0.241721  8.763481e+07  9.624804e+07   \n",
       "10  주택과세표준  2014  133202  521960  0.255196  9.450400e+07  9.517211e+07   \n",
       "11  주택과세표준  2018  148198  529639  0.279809  1.174771e+08  1.124721e+08   \n",
       "12  토지과세표준  2006   68387  497009  0.137597  7.627377e+07  9.510209e+07   \n",
       "13  토지과세표준  2010   75010  510415  0.146959  1.028998e+08  1.130134e+08   \n",
       "14  토지과세표준  2014   79701  521960  0.152696  1.104655e+08  1.112464e+08   \n",
       "15  토지과세표준  2018   86384  529639  0.163100  1.270409e+08  1.216284e+08   \n",
       "16  건물과세표준  2006   21885  497009  0.044033  5.377818e+07  6.705342e+07   \n",
       "17  건물과세표준  2010   24236  510415  0.047483  6.091757e+07  6.690489e+07   \n",
       "18  건물과세표준  2014   26395  521960  0.050569  7.018181e+07  7.067797e+07   \n",
       "19  건물과세표준  2018   30201  529639  0.057022  7.393619e+07  7.078620e+07   \n",
       "\n",
       "          중위         중위 실질      지니계수       5분위배율     상대빈곤율  \n",
       "0   18000000  2.244333e+07  0.471797   17.247358  0.256912  \n",
       "1   19571670  2.149528e+07  0.478636   17.007200  0.238885  \n",
       "2   22769634  2.293061e+07  0.468681   16.080858  0.230436  \n",
       "3   26353755  2.523098e+07  0.448921   13.870935  0.212672  \n",
       "4    4110000  5.124560e+06  0.711305   70.587051  0.320843  \n",
       "5    3410000  3.745154e+06  0.753374  218.035550  0.344423  \n",
       "6    3800000  3.826865e+06  0.756366  278.637061  0.359112  \n",
       "7    3940000  3.772140e+06  0.755823  329.550859  0.365976  \n",
       "8   33000000  4.114611e+07  0.547689   24.084035  0.253013  \n",
       "9   54600000  5.996639e+07  0.525222   21.850155  0.255443  \n",
       "10  68400000  6.888356e+07  0.469465   15.514740  0.236213  \n",
       "11  84000000  8.042125e+07  0.470113   14.841908  0.230084  \n",
       "12  22041459  2.748243e+07  0.742366  125.900583  0.330999  \n",
       "13  26465810  2.906702e+07  0.762923  181.745065  0.346620  \n",
       "14  29450512  2.965872e+07  0.755809  182.548201  0.347511  \n",
       "15  35021315  3.352926e+07  0.752784  183.328963  0.350609  \n",
       "16  17359511  2.164474e+07  0.731122  210.584896  0.356043  \n",
       "17  20787298  2.283039e+07  0.716713  169.934118  0.352946  \n",
       "18  24525557  2.469894e+07  0.714490  176.694918  0.357795  \n",
       "19  26459316  2.533204e+07  0.718473  212.777857  0.363067  "
      ]
     },
     "execution_count": 28,
     "metadata": {},
     "output_type": "execute_result"
    }
   ],
   "source": [
    "df.rename(columns={x: translate(x) for x in df.columns})"
   ]
  },
  {
   "cell_type": "code",
   "execution_count": 24,
   "metadata": {},
   "outputs": [
    {
     "data": {
      "text/plain": [
       "'전국 시도별 성인(20세 이상) 소득자'"
      ]
     },
     "execution_count": 24,
     "metadata": {},
     "output_type": "execute_result"
    }
   ],
   "source": [
    "translate('kr_sido_adult20_earner')"
   ]
  },
  {
   "cell_type": "code",
   "execution_count": 29,
   "metadata": {},
   "outputs": [],
   "source": [
    "k = 'kr_adult20_earner'"
   ]
  },
  {
   "cell_type": "code",
   "execution_count": 30,
   "metadata": {},
   "outputs": [],
   "source": [
    "df = mmi[k]"
   ]
  },
  {
   "cell_type": "code",
   "execution_count": 31,
   "metadata": {},
   "outputs": [
    {
     "data": {
      "text/html": [
       "<div>\n",
       "<style scoped>\n",
       "    .dataframe tbody tr th:only-of-type {\n",
       "        vertical-align: middle;\n",
       "    }\n",
       "\n",
       "    .dataframe tbody tr th {\n",
       "        vertical-align: top;\n",
       "    }\n",
       "\n",
       "    .dataframe thead th {\n",
       "        text-align: right;\n",
       "    }\n",
       "</style>\n",
       "<table border=\"1\" class=\"dataframe\">\n",
       "  <thead>\n",
       "    <tr style=\"text-align: right;\">\n",
       "      <th></th>\n",
       "      <th>var</th>\n",
       "      <th>std_yyyy</th>\n",
       "      <th>count</th>\n",
       "      <th>num_indi</th>\n",
       "      <th>frac_earners</th>\n",
       "      <th>mean</th>\n",
       "      <th>mean_real</th>\n",
       "      <th>median</th>\n",
       "      <th>median_real</th>\n",
       "      <th>gini</th>\n",
       "      <th>iqsr</th>\n",
       "      <th>rpr</th>\n",
       "    </tr>\n",
       "  </thead>\n",
       "  <tbody>\n",
       "    <tr>\n",
       "      <th>0</th>\n",
       "      <td>근로소득</td>\n",
       "      <td>2006</td>\n",
       "      <td>114798</td>\n",
       "      <td>497009</td>\n",
       "      <td>0.230978</td>\n",
       "      <td>2.510085e+07</td>\n",
       "      <td>3.129703e+07</td>\n",
       "      <td>18000000</td>\n",
       "      <td>2.244333e+07</td>\n",
       "      <td>0.471797</td>\n",
       "      <td>17.247358</td>\n",
       "      <td>0.256912</td>\n",
       "    </tr>\n",
       "    <tr>\n",
       "      <th>1</th>\n",
       "      <td>근로소득</td>\n",
       "      <td>2010</td>\n",
       "      <td>138577</td>\n",
       "      <td>510415</td>\n",
       "      <td>0.271499</td>\n",
       "      <td>2.831086e+07</td>\n",
       "      <td>3.109341e+07</td>\n",
       "      <td>19571670</td>\n",
       "      <td>2.149528e+07</td>\n",
       "      <td>0.478636</td>\n",
       "      <td>17.007200</td>\n",
       "      <td>0.238885</td>\n",
       "    </tr>\n",
       "    <tr>\n",
       "      <th>2</th>\n",
       "      <td>근로소득</td>\n",
       "      <td>2014</td>\n",
       "      <td>162366</td>\n",
       "      <td>521960</td>\n",
       "      <td>0.311070</td>\n",
       "      <td>3.218922e+07</td>\n",
       "      <td>3.241679e+07</td>\n",
       "      <td>22769634</td>\n",
       "      <td>2.293061e+07</td>\n",
       "      <td>0.468681</td>\n",
       "      <td>16.080858</td>\n",
       "      <td>0.230436</td>\n",
       "    </tr>\n",
       "    <tr>\n",
       "      <th>3</th>\n",
       "      <td>근로소득</td>\n",
       "      <td>2018</td>\n",
       "      <td>185600</td>\n",
       "      <td>529639</td>\n",
       "      <td>0.350427</td>\n",
       "      <td>3.609552e+07</td>\n",
       "      <td>3.455770e+07</td>\n",
       "      <td>26353755</td>\n",
       "      <td>2.523098e+07</td>\n",
       "      <td>0.448921</td>\n",
       "      <td>13.870935</td>\n",
       "      <td>0.212672</td>\n",
       "    </tr>\n",
       "    <tr>\n",
       "      <th>4</th>\n",
       "      <td>사업소득</td>\n",
       "      <td>2006</td>\n",
       "      <td>49398</td>\n",
       "      <td>497009</td>\n",
       "      <td>0.099391</td>\n",
       "      <td>1.165138e+07</td>\n",
       "      <td>1.452755e+07</td>\n",
       "      <td>4110000</td>\n",
       "      <td>5.124560e+06</td>\n",
       "      <td>0.711305</td>\n",
       "      <td>70.587051</td>\n",
       "      <td>0.320843</td>\n",
       "    </tr>\n",
       "  </tbody>\n",
       "</table>\n",
       "</div>"
      ],
      "text/plain": [
       "    var  std_yyyy   count  num_indi  frac_earners          mean     mean_real  \\\n",
       "0  근로소득      2006  114798    497009      0.230978  2.510085e+07  3.129703e+07   \n",
       "1  근로소득      2010  138577    510415      0.271499  2.831086e+07  3.109341e+07   \n",
       "2  근로소득      2014  162366    521960      0.311070  3.218922e+07  3.241679e+07   \n",
       "3  근로소득      2018  185600    529639      0.350427  3.609552e+07  3.455770e+07   \n",
       "4  사업소득      2006   49398    497009      0.099391  1.165138e+07  1.452755e+07   \n",
       "\n",
       "     median   median_real      gini       iqsr       rpr  \n",
       "0  18000000  2.244333e+07  0.471797  17.247358  0.256912  \n",
       "1  19571670  2.149528e+07  0.478636  17.007200  0.238885  \n",
       "2  22769634  2.293061e+07  0.468681  16.080858  0.230436  \n",
       "3  26353755  2.523098e+07  0.448921  13.870935  0.212672  \n",
       "4   4110000  5.124560e+06  0.711305  70.587051  0.320843  "
      ]
     },
     "execution_count": 31,
     "metadata": {},
     "output_type": "execute_result"
    }
   ],
   "source": [
    "df.head()"
   ]
  },
  {
   "cell_type": "code",
   "execution_count": 33,
   "metadata": {},
   "outputs": [],
   "source": [
    "non_earner_k = '_'.join(k.split('_')[:-1])"
   ]
  },
  {
   "cell_type": "code",
   "execution_count": 34,
   "metadata": {},
   "outputs": [
    {
     "data": {
      "text/plain": [
       "'kr_adult20'"
      ]
     },
     "execution_count": 34,
     "metadata": {},
     "output_type": "execute_result"
    }
   ],
   "source": [
    "non_earner_k"
   ]
  },
  {
   "cell_type": "code",
   "execution_count": 37,
   "metadata": {},
   "outputs": [],
   "source": [
    "adult20_df = mmi[non_earner_k]\n",
    "ref = adult20_df.loc[adult20_df['var'] == 'inc_tot', ['std_yyyy', 'count']].rename(columns={'count': 'num_indi'})"
   ]
  },
  {
   "cell_type": "code",
   "execution_count": 40,
   "metadata": {},
   "outputs": [
    {
     "data": {
      "text/html": [
       "<div>\n",
       "<style scoped>\n",
       "    .dataframe tbody tr th:only-of-type {\n",
       "        vertical-align: middle;\n",
       "    }\n",
       "\n",
       "    .dataframe tbody tr th {\n",
       "        vertical-align: top;\n",
       "    }\n",
       "\n",
       "    .dataframe thead th {\n",
       "        text-align: right;\n",
       "    }\n",
       "</style>\n",
       "<table border=\"1\" class=\"dataframe\">\n",
       "  <thead>\n",
       "    <tr style=\"text-align: right;\">\n",
       "      <th></th>\n",
       "      <th>var</th>\n",
       "      <th>std_yyyy</th>\n",
       "      <th>count</th>\n",
       "      <th>frac_earners</th>\n",
       "      <th>mean</th>\n",
       "      <th>mean_real</th>\n",
       "      <th>median</th>\n",
       "      <th>median_real</th>\n",
       "      <th>gini</th>\n",
       "      <th>iqsr</th>\n",
       "      <th>rpr</th>\n",
       "      <th>num_indi</th>\n",
       "    </tr>\n",
       "  </thead>\n",
       "  <tbody>\n",
       "    <tr>\n",
       "      <th>0</th>\n",
       "      <td>근로소득</td>\n",
       "      <td>2006</td>\n",
       "      <td>114798</td>\n",
       "      <td>0.230978</td>\n",
       "      <td>2.510085e+07</td>\n",
       "      <td>3.129703e+07</td>\n",
       "      <td>18000000</td>\n",
       "      <td>2.244333e+07</td>\n",
       "      <td>0.471797</td>\n",
       "      <td>17.247358</td>\n",
       "      <td>0.256912</td>\n",
       "      <td>374702</td>\n",
       "    </tr>\n",
       "    <tr>\n",
       "      <th>1</th>\n",
       "      <td>사업소득</td>\n",
       "      <td>2006</td>\n",
       "      <td>49398</td>\n",
       "      <td>0.099391</td>\n",
       "      <td>1.165138e+07</td>\n",
       "      <td>1.452755e+07</td>\n",
       "      <td>4110000</td>\n",
       "      <td>5.124560e+06</td>\n",
       "      <td>0.711305</td>\n",
       "      <td>70.587051</td>\n",
       "      <td>0.320843</td>\n",
       "      <td>374702</td>\n",
       "    </tr>\n",
       "    <tr>\n",
       "      <th>2</th>\n",
       "      <td>주택과세표준</td>\n",
       "      <td>2006</td>\n",
       "      <td>109180</td>\n",
       "      <td>0.219674</td>\n",
       "      <td>5.700734e+07</td>\n",
       "      <td>7.107969e+07</td>\n",
       "      <td>33000000</td>\n",
       "      <td>4.114611e+07</td>\n",
       "      <td>0.547689</td>\n",
       "      <td>24.084035</td>\n",
       "      <td>0.253013</td>\n",
       "      <td>374702</td>\n",
       "    </tr>\n",
       "    <tr>\n",
       "      <th>3</th>\n",
       "      <td>토지과세표준</td>\n",
       "      <td>2006</td>\n",
       "      <td>68387</td>\n",
       "      <td>0.137597</td>\n",
       "      <td>7.627377e+07</td>\n",
       "      <td>9.510209e+07</td>\n",
       "      <td>22041459</td>\n",
       "      <td>2.748243e+07</td>\n",
       "      <td>0.742366</td>\n",
       "      <td>125.900583</td>\n",
       "      <td>0.330999</td>\n",
       "      <td>374702</td>\n",
       "    </tr>\n",
       "    <tr>\n",
       "      <th>4</th>\n",
       "      <td>건물과세표준</td>\n",
       "      <td>2006</td>\n",
       "      <td>21885</td>\n",
       "      <td>0.044033</td>\n",
       "      <td>5.377818e+07</td>\n",
       "      <td>6.705342e+07</td>\n",
       "      <td>17359511</td>\n",
       "      <td>2.164474e+07</td>\n",
       "      <td>0.731122</td>\n",
       "      <td>210.584896</td>\n",
       "      <td>0.356043</td>\n",
       "      <td>374702</td>\n",
       "    </tr>\n",
       "    <tr>\n",
       "      <th>5</th>\n",
       "      <td>근로소득</td>\n",
       "      <td>2010</td>\n",
       "      <td>138577</td>\n",
       "      <td>0.271499</td>\n",
       "      <td>2.831086e+07</td>\n",
       "      <td>3.109341e+07</td>\n",
       "      <td>19571670</td>\n",
       "      <td>2.149528e+07</td>\n",
       "      <td>0.478636</td>\n",
       "      <td>17.007200</td>\n",
       "      <td>0.238885</td>\n",
       "      <td>393333</td>\n",
       "    </tr>\n",
       "    <tr>\n",
       "      <th>6</th>\n",
       "      <td>사업소득</td>\n",
       "      <td>2010</td>\n",
       "      <td>66517</td>\n",
       "      <td>0.130319</td>\n",
       "      <td>1.184855e+07</td>\n",
       "      <td>1.301309e+07</td>\n",
       "      <td>3410000</td>\n",
       "      <td>3.745154e+06</td>\n",
       "      <td>0.753374</td>\n",
       "      <td>218.035550</td>\n",
       "      <td>0.344423</td>\n",
       "      <td>393333</td>\n",
       "    </tr>\n",
       "    <tr>\n",
       "      <th>7</th>\n",
       "      <td>주택과세표준</td>\n",
       "      <td>2010</td>\n",
       "      <td>123378</td>\n",
       "      <td>0.241721</td>\n",
       "      <td>8.763481e+07</td>\n",
       "      <td>9.624804e+07</td>\n",
       "      <td>54600000</td>\n",
       "      <td>5.996639e+07</td>\n",
       "      <td>0.525222</td>\n",
       "      <td>21.850155</td>\n",
       "      <td>0.255443</td>\n",
       "      <td>393333</td>\n",
       "    </tr>\n",
       "    <tr>\n",
       "      <th>8</th>\n",
       "      <td>토지과세표준</td>\n",
       "      <td>2010</td>\n",
       "      <td>75010</td>\n",
       "      <td>0.146959</td>\n",
       "      <td>1.028998e+08</td>\n",
       "      <td>1.130134e+08</td>\n",
       "      <td>26465810</td>\n",
       "      <td>2.906702e+07</td>\n",
       "      <td>0.762923</td>\n",
       "      <td>181.745065</td>\n",
       "      <td>0.346620</td>\n",
       "      <td>393333</td>\n",
       "    </tr>\n",
       "    <tr>\n",
       "      <th>9</th>\n",
       "      <td>건물과세표준</td>\n",
       "      <td>2010</td>\n",
       "      <td>24236</td>\n",
       "      <td>0.047483</td>\n",
       "      <td>6.091757e+07</td>\n",
       "      <td>6.690489e+07</td>\n",
       "      <td>20787298</td>\n",
       "      <td>2.283039e+07</td>\n",
       "      <td>0.716713</td>\n",
       "      <td>169.934118</td>\n",
       "      <td>0.352946</td>\n",
       "      <td>393333</td>\n",
       "    </tr>\n",
       "    <tr>\n",
       "      <th>10</th>\n",
       "      <td>근로소득</td>\n",
       "      <td>2014</td>\n",
       "      <td>162366</td>\n",
       "      <td>0.311070</td>\n",
       "      <td>3.218922e+07</td>\n",
       "      <td>3.241679e+07</td>\n",
       "      <td>22769634</td>\n",
       "      <td>2.293061e+07</td>\n",
       "      <td>0.468681</td>\n",
       "      <td>16.080858</td>\n",
       "      <td>0.230436</td>\n",
       "      <td>415298</td>\n",
       "    </tr>\n",
       "    <tr>\n",
       "      <th>11</th>\n",
       "      <td>사업소득</td>\n",
       "      <td>2014</td>\n",
       "      <td>77352</td>\n",
       "      <td>0.148195</td>\n",
       "      <td>1.339644e+07</td>\n",
       "      <td>1.349114e+07</td>\n",
       "      <td>3800000</td>\n",
       "      <td>3.826865e+06</td>\n",
       "      <td>0.756366</td>\n",
       "      <td>278.637061</td>\n",
       "      <td>0.359112</td>\n",
       "      <td>415298</td>\n",
       "    </tr>\n",
       "    <tr>\n",
       "      <th>12</th>\n",
       "      <td>주택과세표준</td>\n",
       "      <td>2014</td>\n",
       "      <td>133202</td>\n",
       "      <td>0.255196</td>\n",
       "      <td>9.450400e+07</td>\n",
       "      <td>9.517211e+07</td>\n",
       "      <td>68400000</td>\n",
       "      <td>6.888356e+07</td>\n",
       "      <td>0.469465</td>\n",
       "      <td>15.514740</td>\n",
       "      <td>0.236213</td>\n",
       "      <td>415298</td>\n",
       "    </tr>\n",
       "    <tr>\n",
       "      <th>13</th>\n",
       "      <td>토지과세표준</td>\n",
       "      <td>2014</td>\n",
       "      <td>79701</td>\n",
       "      <td>0.152696</td>\n",
       "      <td>1.104655e+08</td>\n",
       "      <td>1.112464e+08</td>\n",
       "      <td>29450512</td>\n",
       "      <td>2.965872e+07</td>\n",
       "      <td>0.755809</td>\n",
       "      <td>182.548201</td>\n",
       "      <td>0.347511</td>\n",
       "      <td>415298</td>\n",
       "    </tr>\n",
       "    <tr>\n",
       "      <th>14</th>\n",
       "      <td>건물과세표준</td>\n",
       "      <td>2014</td>\n",
       "      <td>26395</td>\n",
       "      <td>0.050569</td>\n",
       "      <td>7.018181e+07</td>\n",
       "      <td>7.067797e+07</td>\n",
       "      <td>24525557</td>\n",
       "      <td>2.469894e+07</td>\n",
       "      <td>0.714490</td>\n",
       "      <td>176.694918</td>\n",
       "      <td>0.357795</td>\n",
       "      <td>415298</td>\n",
       "    </tr>\n",
       "    <tr>\n",
       "      <th>15</th>\n",
       "      <td>근로소득</td>\n",
       "      <td>2018</td>\n",
       "      <td>185600</td>\n",
       "      <td>0.350427</td>\n",
       "      <td>3.609552e+07</td>\n",
       "      <td>3.455770e+07</td>\n",
       "      <td>26353755</td>\n",
       "      <td>2.523098e+07</td>\n",
       "      <td>0.448921</td>\n",
       "      <td>13.870935</td>\n",
       "      <td>0.212672</td>\n",
       "      <td>434285</td>\n",
       "    </tr>\n",
       "    <tr>\n",
       "      <th>16</th>\n",
       "      <td>사업소득</td>\n",
       "      <td>2018</td>\n",
       "      <td>98941</td>\n",
       "      <td>0.186808</td>\n",
       "      <td>1.410862e+07</td>\n",
       "      <td>1.350754e+07</td>\n",
       "      <td>3940000</td>\n",
       "      <td>3.772140e+06</td>\n",
       "      <td>0.755823</td>\n",
       "      <td>329.550859</td>\n",
       "      <td>0.365976</td>\n",
       "      <td>434285</td>\n",
       "    </tr>\n",
       "    <tr>\n",
       "      <th>17</th>\n",
       "      <td>주택과세표준</td>\n",
       "      <td>2018</td>\n",
       "      <td>148198</td>\n",
       "      <td>0.279809</td>\n",
       "      <td>1.174771e+08</td>\n",
       "      <td>1.124721e+08</td>\n",
       "      <td>84000000</td>\n",
       "      <td>8.042125e+07</td>\n",
       "      <td>0.470113</td>\n",
       "      <td>14.841908</td>\n",
       "      <td>0.230084</td>\n",
       "      <td>434285</td>\n",
       "    </tr>\n",
       "    <tr>\n",
       "      <th>18</th>\n",
       "      <td>토지과세표준</td>\n",
       "      <td>2018</td>\n",
       "      <td>86384</td>\n",
       "      <td>0.163100</td>\n",
       "      <td>1.270409e+08</td>\n",
       "      <td>1.216284e+08</td>\n",
       "      <td>35021315</td>\n",
       "      <td>3.352926e+07</td>\n",
       "      <td>0.752784</td>\n",
       "      <td>183.328963</td>\n",
       "      <td>0.350609</td>\n",
       "      <td>434285</td>\n",
       "    </tr>\n",
       "    <tr>\n",
       "      <th>19</th>\n",
       "      <td>건물과세표준</td>\n",
       "      <td>2018</td>\n",
       "      <td>30201</td>\n",
       "      <td>0.057022</td>\n",
       "      <td>7.393619e+07</td>\n",
       "      <td>7.078620e+07</td>\n",
       "      <td>26459316</td>\n",
       "      <td>2.533204e+07</td>\n",
       "      <td>0.718473</td>\n",
       "      <td>212.777857</td>\n",
       "      <td>0.363067</td>\n",
       "      <td>434285</td>\n",
       "    </tr>\n",
       "  </tbody>\n",
       "</table>\n",
       "</div>"
      ],
      "text/plain": [
       "       var  std_yyyy   count  frac_earners          mean     mean_real  \\\n",
       "0     근로소득      2006  114798      0.230978  2.510085e+07  3.129703e+07   \n",
       "1     사업소득      2006   49398      0.099391  1.165138e+07  1.452755e+07   \n",
       "2   주택과세표준      2006  109180      0.219674  5.700734e+07  7.107969e+07   \n",
       "3   토지과세표준      2006   68387      0.137597  7.627377e+07  9.510209e+07   \n",
       "4   건물과세표준      2006   21885      0.044033  5.377818e+07  6.705342e+07   \n",
       "5     근로소득      2010  138577      0.271499  2.831086e+07  3.109341e+07   \n",
       "6     사업소득      2010   66517      0.130319  1.184855e+07  1.301309e+07   \n",
       "7   주택과세표준      2010  123378      0.241721  8.763481e+07  9.624804e+07   \n",
       "8   토지과세표준      2010   75010      0.146959  1.028998e+08  1.130134e+08   \n",
       "9   건물과세표준      2010   24236      0.047483  6.091757e+07  6.690489e+07   \n",
       "10    근로소득      2014  162366      0.311070  3.218922e+07  3.241679e+07   \n",
       "11    사업소득      2014   77352      0.148195  1.339644e+07  1.349114e+07   \n",
       "12  주택과세표준      2014  133202      0.255196  9.450400e+07  9.517211e+07   \n",
       "13  토지과세표준      2014   79701      0.152696  1.104655e+08  1.112464e+08   \n",
       "14  건물과세표준      2014   26395      0.050569  7.018181e+07  7.067797e+07   \n",
       "15    근로소득      2018  185600      0.350427  3.609552e+07  3.455770e+07   \n",
       "16    사업소득      2018   98941      0.186808  1.410862e+07  1.350754e+07   \n",
       "17  주택과세표준      2018  148198      0.279809  1.174771e+08  1.124721e+08   \n",
       "18  토지과세표준      2018   86384      0.163100  1.270409e+08  1.216284e+08   \n",
       "19  건물과세표준      2018   30201      0.057022  7.393619e+07  7.078620e+07   \n",
       "\n",
       "      median   median_real      gini        iqsr       rpr  num_indi  \n",
       "0   18000000  2.244333e+07  0.471797   17.247358  0.256912    374702  \n",
       "1    4110000  5.124560e+06  0.711305   70.587051  0.320843    374702  \n",
       "2   33000000  4.114611e+07  0.547689   24.084035  0.253013    374702  \n",
       "3   22041459  2.748243e+07  0.742366  125.900583  0.330999    374702  \n",
       "4   17359511  2.164474e+07  0.731122  210.584896  0.356043    374702  \n",
       "5   19571670  2.149528e+07  0.478636   17.007200  0.238885    393333  \n",
       "6    3410000  3.745154e+06  0.753374  218.035550  0.344423    393333  \n",
       "7   54600000  5.996639e+07  0.525222   21.850155  0.255443    393333  \n",
       "8   26465810  2.906702e+07  0.762923  181.745065  0.346620    393333  \n",
       "9   20787298  2.283039e+07  0.716713  169.934118  0.352946    393333  \n",
       "10  22769634  2.293061e+07  0.468681   16.080858  0.230436    415298  \n",
       "11   3800000  3.826865e+06  0.756366  278.637061  0.359112    415298  \n",
       "12  68400000  6.888356e+07  0.469465   15.514740  0.236213    415298  \n",
       "13  29450512  2.965872e+07  0.755809  182.548201  0.347511    415298  \n",
       "14  24525557  2.469894e+07  0.714490  176.694918  0.357795    415298  \n",
       "15  26353755  2.523098e+07  0.448921   13.870935  0.212672    434285  \n",
       "16   3940000  3.772140e+06  0.755823  329.550859  0.365976    434285  \n",
       "17  84000000  8.042125e+07  0.470113   14.841908  0.230084    434285  \n",
       "18  35021315  3.352926e+07  0.752784  183.328963  0.350609    434285  \n",
       "19  26459316  2.533204e+07  0.718473  212.777857  0.363067    434285  "
      ]
     },
     "execution_count": 40,
     "metadata": {},
     "output_type": "execute_result"
    }
   ],
   "source": [
    "df.drop(columns=['num_indi']).merge(ref, on=['std_yyyy'])"
   ]
  },
  {
   "cell_type": "code",
   "execution_count": 144,
   "metadata": {},
   "outputs": [
    {
     "data": {
      "text/html": [
       "<div>\n",
       "<style scoped>\n",
       "    .dataframe tbody tr th:only-of-type {\n",
       "        vertical-align: middle;\n",
       "    }\n",
       "\n",
       "    .dataframe tbody tr th {\n",
       "        vertical-align: top;\n",
       "    }\n",
       "\n",
       "    .dataframe thead th {\n",
       "        text-align: right;\n",
       "    }\n",
       "</style>\n",
       "<table border=\"1\" class=\"dataframe\">\n",
       "  <thead>\n",
       "    <tr style=\"text-align: right;\">\n",
       "      <th></th>\n",
       "      <th>var</th>\n",
       "      <th>std_yyyy</th>\n",
       "      <th>count</th>\n",
       "      <th>num_indi</th>\n",
       "      <th>frac_earners</th>\n",
       "      <th>mean</th>\n",
       "      <th>mean_real</th>\n",
       "      <th>median</th>\n",
       "      <th>median_real</th>\n",
       "      <th>gini</th>\n",
       "      <th>iqsr</th>\n",
       "      <th>rpr</th>\n",
       "      <th>region</th>\n",
       "    </tr>\n",
       "  </thead>\n",
       "  <tbody>\n",
       "    <tr>\n",
       "      <th>0</th>\n",
       "      <td>inc_bus</td>\n",
       "      <td>2006</td>\n",
       "      <td>1198337</td>\n",
       "      <td>8050771</td>\n",
       "      <td>0.148847</td>\n",
       "      <td>1.431802e+07</td>\n",
       "      <td>1.796828e+07</td>\n",
       "      <td>4810000.0</td>\n",
       "      <td>6.036268e+06</td>\n",
       "      <td>0.721152</td>\n",
       "      <td>74.445328</td>\n",
       "      <td>0.308979</td>\n",
       "      <td>서울</td>\n",
       "    </tr>\n",
       "    <tr>\n",
       "      <th>1</th>\n",
       "      <td>inc_bus</td>\n",
       "      <td>2007</td>\n",
       "      <td>1394018</td>\n",
       "      <td>8128298</td>\n",
       "      <td>0.171502</td>\n",
       "      <td>1.316519e+07</td>\n",
       "      <td>1.609968e+07</td>\n",
       "      <td>4110000.0</td>\n",
       "      <td>5.026109e+06</td>\n",
       "      <td>0.738071</td>\n",
       "      <td>126.680090</td>\n",
       "      <td>0.330653</td>\n",
       "      <td>서울</td>\n",
       "    </tr>\n",
       "    <tr>\n",
       "      <th>2</th>\n",
       "      <td>inc_bus</td>\n",
       "      <td>2008</td>\n",
       "      <td>1577045</td>\n",
       "      <td>8189378</td>\n",
       "      <td>0.192572</td>\n",
       "      <td>1.236125e+07</td>\n",
       "      <td>1.451260e+07</td>\n",
       "      <td>3510000.0</td>\n",
       "      <td>4.120879e+06</td>\n",
       "      <td>0.756614</td>\n",
       "      <td>228.154837</td>\n",
       "      <td>0.354950</td>\n",
       "      <td>서울</td>\n",
       "    </tr>\n",
       "    <tr>\n",
       "      <th>3</th>\n",
       "      <td>inc_bus</td>\n",
       "      <td>2009</td>\n",
       "      <td>1599641</td>\n",
       "      <td>8242373</td>\n",
       "      <td>0.194075</td>\n",
       "      <td>1.277522e+07</td>\n",
       "      <td>1.456929e+07</td>\n",
       "      <td>3510000.0</td>\n",
       "      <td>4.002920e+06</td>\n",
       "      <td>0.760943</td>\n",
       "      <td>242.879952</td>\n",
       "      <td>0.354809</td>\n",
       "      <td>서울</td>\n",
       "    </tr>\n",
       "    <tr>\n",
       "      <th>4</th>\n",
       "      <td>inc_bus</td>\n",
       "      <td>2010</td>\n",
       "      <td>1606606</td>\n",
       "      <td>8301405</td>\n",
       "      <td>0.193534</td>\n",
       "      <td>1.367786e+07</td>\n",
       "      <td>1.517301e+07</td>\n",
       "      <td>3510000.0</td>\n",
       "      <td>3.893684e+06</td>\n",
       "      <td>0.770142</td>\n",
       "      <td>266.233502</td>\n",
       "      <td>0.353298</td>\n",
       "      <td>서울</td>\n",
       "    </tr>\n",
       "    <tr>\n",
       "      <th>...</th>\n",
       "      <td>...</td>\n",
       "      <td>...</td>\n",
       "      <td>...</td>\n",
       "      <td>...</td>\n",
       "      <td>...</td>\n",
       "      <td>...</td>\n",
       "      <td>...</td>\n",
       "      <td>...</td>\n",
       "      <td>...</td>\n",
       "      <td>...</td>\n",
       "      <td>...</td>\n",
       "      <td>...</td>\n",
       "      <td>...</td>\n",
       "    </tr>\n",
       "    <tr>\n",
       "      <th>60</th>\n",
       "      <td>prop_txbs_lnd</td>\n",
       "      <td>2014</td>\n",
       "      <td>1300948</td>\n",
       "      <td>8420485</td>\n",
       "      <td>0.154498</td>\n",
       "      <td>1.851188e+08</td>\n",
       "      <td>1.874412e+08</td>\n",
       "      <td>34603695.0</td>\n",
       "      <td>3.503781e+07</td>\n",
       "      <td>0.803142</td>\n",
       "      <td>332.714651</td>\n",
       "      <td>0.361800</td>\n",
       "      <td>서울</td>\n",
       "    </tr>\n",
       "    <tr>\n",
       "      <th>61</th>\n",
       "      <td>prop_txbs_lnd</td>\n",
       "      <td>2015</td>\n",
       "      <td>1327125</td>\n",
       "      <td>8478004</td>\n",
       "      <td>0.156537</td>\n",
       "      <td>1.900631e+08</td>\n",
       "      <td>1.900631e+08</td>\n",
       "      <td>36172137.0</td>\n",
       "      <td>3.617214e+07</td>\n",
       "      <td>0.800711</td>\n",
       "      <td>326.776931</td>\n",
       "      <td>0.361398</td>\n",
       "      <td>서울</td>\n",
       "    </tr>\n",
       "    <tr>\n",
       "      <th>62</th>\n",
       "      <td>prop_txbs_lnd</td>\n",
       "      <td>2016</td>\n",
       "      <td>1354952</td>\n",
       "      <td>8470903</td>\n",
       "      <td>0.159954</td>\n",
       "      <td>1.957587e+08</td>\n",
       "      <td>1.934757e+08</td>\n",
       "      <td>38301830.0</td>\n",
       "      <td>3.785514e+07</td>\n",
       "      <td>0.797544</td>\n",
       "      <td>316.720284</td>\n",
       "      <td>0.360921</td>\n",
       "      <td>서울</td>\n",
       "    </tr>\n",
       "    <tr>\n",
       "      <th>63</th>\n",
       "      <td>prop_txbs_lnd</td>\n",
       "      <td>2017</td>\n",
       "      <td>1369333</td>\n",
       "      <td>8444846</td>\n",
       "      <td>0.162150</td>\n",
       "      <td>2.004344e+08</td>\n",
       "      <td>1.942194e+08</td>\n",
       "      <td>39948930.0</td>\n",
       "      <td>3.871020e+07</td>\n",
       "      <td>0.795326</td>\n",
       "      <td>307.143294</td>\n",
       "      <td>0.360152</td>\n",
       "      <td>서울</td>\n",
       "    </tr>\n",
       "    <tr>\n",
       "      <th>64</th>\n",
       "      <td>prop_txbs_lnd</td>\n",
       "      <td>2018</td>\n",
       "      <td>1384444</td>\n",
       "      <td>8445465</td>\n",
       "      <td>0.163928</td>\n",
       "      <td>2.061405e+08</td>\n",
       "      <td>1.971127e+08</td>\n",
       "      <td>41310500.0</td>\n",
       "      <td>3.950134e+07</td>\n",
       "      <td>0.794575</td>\n",
       "      <td>308.871179</td>\n",
       "      <td>0.359619</td>\n",
       "      <td>서울</td>\n",
       "    </tr>\n",
       "  </tbody>\n",
       "</table>\n",
       "<p>65 rows × 13 columns</p>\n",
       "</div>"
      ],
      "text/plain": [
       "              var  std_yyyy    count  num_indi  frac_earners          mean  \\\n",
       "0         inc_bus      2006  1198337   8050771      0.148847  1.431802e+07   \n",
       "1         inc_bus      2007  1394018   8128298      0.171502  1.316519e+07   \n",
       "2         inc_bus      2008  1577045   8189378      0.192572  1.236125e+07   \n",
       "3         inc_bus      2009  1599641   8242373      0.194075  1.277522e+07   \n",
       "4         inc_bus      2010  1606606   8301405      0.193534  1.367786e+07   \n",
       "..            ...       ...      ...       ...           ...           ...   \n",
       "60  prop_txbs_lnd      2014  1300948   8420485      0.154498  1.851188e+08   \n",
       "61  prop_txbs_lnd      2015  1327125   8478004      0.156537  1.900631e+08   \n",
       "62  prop_txbs_lnd      2016  1354952   8470903      0.159954  1.957587e+08   \n",
       "63  prop_txbs_lnd      2017  1369333   8444846      0.162150  2.004344e+08   \n",
       "64  prop_txbs_lnd      2018  1384444   8445465      0.163928  2.061405e+08   \n",
       "\n",
       "       mean_real      median   median_real      gini        iqsr       rpr  \\\n",
       "0   1.796828e+07   4810000.0  6.036268e+06  0.721152   74.445328  0.308979   \n",
       "1   1.609968e+07   4110000.0  5.026109e+06  0.738071  126.680090  0.330653   \n",
       "2   1.451260e+07   3510000.0  4.120879e+06  0.756614  228.154837  0.354950   \n",
       "3   1.456929e+07   3510000.0  4.002920e+06  0.760943  242.879952  0.354809   \n",
       "4   1.517301e+07   3510000.0  3.893684e+06  0.770142  266.233502  0.353298   \n",
       "..           ...         ...           ...       ...         ...       ...   \n",
       "60  1.874412e+08  34603695.0  3.503781e+07  0.803142  332.714651  0.361800   \n",
       "61  1.900631e+08  36172137.0  3.617214e+07  0.800711  326.776931  0.361398   \n",
       "62  1.934757e+08  38301830.0  3.785514e+07  0.797544  316.720284  0.360921   \n",
       "63  1.942194e+08  39948930.0  3.871020e+07  0.795326  307.143294  0.360152   \n",
       "64  1.971127e+08  41310500.0  3.950134e+07  0.794575  308.871179  0.359619   \n",
       "\n",
       "   region  \n",
       "0      서울  \n",
       "1      서울  \n",
       "2      서울  \n",
       "3      서울  \n",
       "4      서울  \n",
       "..    ...  \n",
       "60     서울  \n",
       "61     서울  \n",
       "62     서울  \n",
       "63     서울  \n",
       "64     서울  \n",
       "\n",
       "[65 rows x 13 columns]"
      ]
     },
     "execution_count": 144,
     "metadata": {},
     "output_type": "execute_result"
    }
   ],
   "source": [
    "mmi['seoul_adult20_earner']"
   ]
  },
  {
   "cell_type": "code",
   "execution_count": null,
   "metadata": {},
   "outputs": [],
   "source": []
  }
 ],
 "metadata": {
  "kernelspec": {
   "display_name": "Python [conda env:ineq] *",
   "language": "python",
   "name": "conda-env-ineq-py"
  },
  "language_info": {
   "codemirror_mode": {
    "name": "ipython",
    "version": 3
   },
   "file_extension": ".py",
   "mimetype": "text/x-python",
   "name": "python",
   "nbconvert_exporter": "python",
   "pygments_lexer": "ipython3",
   "version": "3.8.5"
  },
  "widgets": {
   "application/vnd.jupyter.widget-state+json": {
    "state": {},
    "version_major": 2,
    "version_minor": 0
   }
  }
 },
 "nbformat": 4,
 "nbformat_minor": 4
}
