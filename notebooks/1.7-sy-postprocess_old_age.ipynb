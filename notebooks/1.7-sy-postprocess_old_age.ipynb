{
 "cells": [
  {
   "cell_type": "code",
   "execution_count": 4,
   "metadata": {},
   "outputs": [],
   "source": [
    "import plotly.express as px\n",
    "import json\n",
    "import matplotlib.pyplot as plt\n",
    "import seaborn as sns\n",
    "import pandas as pd\n",
    "from pathlib import Path\n",
    "\n",
    "import pandas as pd\n",
    "from pathlib import Path\n",
    "\n",
    "data_dir=Path('/Users/suzinyou/Dropbox/가천대 서울연구원 프로젝트') / '10. 데이터산출물' / '09_older_adults'"
   ]
  },
  {
   "cell_type": "code",
   "execution_count": 51,
   "metadata": {},
   "outputs": [],
   "source": [
    "d = pd.read_excel(data_dir / 'older_adults.xlsx', sheet_name=None)"
   ]
  },
  {
   "cell_type": "code",
   "execution_count": 52,
   "metadata": {},
   "outputs": [
    {
     "data": {
      "text/plain": [
       "['1) older_adults_demogr(seoul)',\n",
       " '2) indi_income_by_src',\n",
       " '3) income_by_pnsn_status',\n",
       " '4) eq_inc_by_hh_type']"
      ]
     },
     "execution_count": 52,
     "metadata": {},
     "output_type": "execute_result"
    }
   ],
   "source": [
    "keys = list(d.keys())\n",
    "keys"
   ]
  },
  {
   "cell_type": "code",
   "execution_count": 16,
   "metadata": {},
   "outputs": [],
   "source": [
    "from src.data.utils import load_cpi, load_sido_names, load_sigungu_names\n",
    "from src.dictionary import translate\n",
    "cpi_seoul = load_cpi(translate('seoul'))\n",
    "cpi_kr = load_cpi(translate('kr'))"
   ]
  },
  {
   "cell_type": "code",
   "execution_count": 28,
   "metadata": {},
   "outputs": [],
   "source": [
    "cpi_seoul['region'] = 'seoul'\n",
    "cpi_kr['region'] = 'kr'"
   ]
  },
  {
   "cell_type": "code",
   "execution_count": 29,
   "metadata": {},
   "outputs": [],
   "source": [
    "cpi = pd.concat([cpi_seoul, cpi_kr])"
   ]
  },
  {
   "cell_type": "code",
   "execution_count": 53,
   "metadata": {},
   "outputs": [],
   "source": [
    "for k in keys:\n",
    "    d[k] = d[k].rename(columns={col:col.lower() for col in d[keys[0]].columns})"
   ]
  },
  {
   "cell_type": "code",
   "execution_count": 54,
   "metadata": {},
   "outputs": [],
   "source": [
    "for i in range(1, 4):\n",
    "    df = d[keys[i]]\n",
    "    df = df.merge(cpi, on=['std_yyyy', 'region'])\n",
    "    for col in df.columns:\n",
    "        if 'mean' in col or 'median' in col:\n",
    "            df[col + \"_real\"] = df[col] / df.cpi\n",
    "    d[keys[i]] = df"
   ]
  },
  {
   "cell_type": "code",
   "execution_count": 55,
   "metadata": {},
   "outputs": [],
   "source": [
    "with pd.ExcelWriter(data_dir / 'older_adults_processed.xlsx') as writer:\n",
    "    for k, df in d.items():\n",
    "        df.to_excel(writer, index=False, sheet_name=k)"
   ]
  },
  {
   "cell_type": "code",
   "execution_count": null,
   "metadata": {},
   "outputs": [],
   "source": []
  }
 ],
 "metadata": {
  "kernelspec": {
   "display_name": "Python [conda env:ineq] *",
   "language": "python",
   "name": "conda-env-ineq-py"
  },
  "language_info": {
   "codemirror_mode": {
    "name": "ipython",
    "version": 3
   },
   "file_extension": ".py",
   "mimetype": "text/x-python",
   "name": "python",
   "nbconvert_exporter": "python",
   "pygments_lexer": "ipython3",
   "version": "3.8.5"
  },
  "widgets": {
   "application/vnd.jupyter.widget-state+json": {
    "state": {},
    "version_major": 2,
    "version_minor": 0
   }
  }
 },
 "nbformat": 4,
 "nbformat_minor": 4
}
