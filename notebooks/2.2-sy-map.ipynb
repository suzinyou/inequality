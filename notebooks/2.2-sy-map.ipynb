{
 "cells": [
  {
   "cell_type": "code",
   "execution_count": null,
   "metadata": {},
   "outputs": [],
   "source": [
    "import geopandas as gpd\n",
    "import plotly.express as px\n",
    "import json\n",
    "import matplotlib.pyplot as plt\n",
    "import seaborn as sns\n",
    "import pandas as pd\n",
    "from pathlib import Path\n",
    "import plotly.io as pio\n",
    "png_renderer = pio.renderers[\"png\"]\n",
    "png_renderer.width = 600\n",
    "png_renderer.height = 400\n",
    "sns.set_theme(style=\"whitegrid\")\n",
    "data_dir = Path('/Users/suzinyou/Dropbox/가천대 서울연구원 프로젝트/10. 데이터산출물')"
   ]
  },
  {
   "cell_type": "code",
   "execution_count": null,
   "metadata": {},
   "outputs": [],
   "source": [
    "def show_seoul(year, var):\n",
    "    df_slice = ds[(ds.STD_YYYY == year) & (ds['var'] == var)]\n",
    "    fig = px.choropleth_mapbox(df_slice, \n",
    "                               geojson=geojson_data, \n",
    "                               locations='SIG_KOR_NM', \n",
    "                               color='mean',\n",
    "                               color_continuous_scale=\"Viridis\",\n",
    "                               mapbox_style=\"carto-positron\",\n",
    "                               zoom=10, center = {\"lat\": 37.56, \"lon\": 126.98},\n",
    "                               opacity=0.7,\n",
    "                               labels={'mean':f'평균 {var2ko[var]}', 'SIG_KOR_NM':'행정구'},\n",
    "                               featureidkey='properties.SIG_KOR_NM'\n",
    "                              )\n",
    "    fig.update_layout(margin={\"r\":0,\"t\":72,\"l\":0,\"b\":0},\n",
    "                     title=f\"{year}년 서울시 구별 {var2ko[var]}\", height=640,)\n",
    "    # TODO: dropdown menu\n",
    "    fig.show()"
   ]
  },
  {
   "cell_type": "code",
   "execution_count": null,
   "metadata": {},
   "outputs": [],
   "source": [
    "show_seoul(2018, 'inc_tot')"
   ]
  }
 ],
 "metadata": {
  "kernelspec": {
   "display_name": "Python [conda env:ineq] *",
   "language": "python",
   "name": "conda-env-ineq-py"
  },
  "language_info": {
   "codemirror_mode": {
    "name": "ipython",
    "version": 3
   },
   "file_extension": ".py",
   "mimetype": "text/x-python",
   "name": "python",
   "nbconvert_exporter": "python",
   "pygments_lexer": "ipython3",
   "version": "3.8.5"
  },
  "widgets": {
   "application/vnd.jupyter.widget-state+json": {
    "state": {},
    "version_major": 2,
    "version_minor": 0
   }
  }
 },
 "nbformat": 4,
 "nbformat_minor": 4
}
