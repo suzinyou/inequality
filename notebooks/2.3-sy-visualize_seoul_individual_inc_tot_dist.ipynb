{
 "cells": [
  {
   "cell_type": "markdown",
   "metadata": {},
   "source": [
    "# 연도별 개인 총소득 분포"
   ]
  },
  {
   "cell_type": "code",
   "execution_count": 25,
   "metadata": {},
   "outputs": [],
   "source": [
    "import datetime\n",
    "import numpy as np\n",
    "import pandas as pd\n",
    "\n",
    "import plotly.graph_objects as go\n",
    "from ipywidgets import widgets\n",
    "from pathlib import Path\n",
    "\n",
    "sns.set_theme(style=\"whitegrid\")\n",
    "\n",
    "data_dir = Path('/Users/suzinyou/Dropbox/가천대 서울연구원 프로젝트/10. 데이터산출물')"
   ]
  },
  {
   "cell_type": "code",
   "execution_count": 11,
   "metadata": {},
   "outputs": [],
   "source": [
    "gdrive = Path('/Users/suzinyou/Google Drive/가천대 불평등과 사회정책 연구소/Data')"
   ]
  },
  {
   "cell_type": "code",
   "execution_count": 13,
   "metadata": {},
   "outputs": [],
   "source": [
    "inc_tot_centiles = pd.read_csv(gdrive / '03_quantiles'/ 'bfc_seoul_indi_centile_inc_tot.csv')"
   ]
  },
  {
   "cell_type": "code",
   "execution_count": 78,
   "metadata": {},
   "outputs": [],
   "source": [
    "centiles = pd.read_csv(data_dir / '03_quantiles' / 'seoul_indi_centile.csv')"
   ]
  },
  {
   "cell_type": "code",
   "execution_count": 20,
   "metadata": {},
   "outputs": [
    {
     "data": {
      "text/html": [
       "<div>\n",
       "<style scoped>\n",
       "    .dataframe tbody tr th:only-of-type {\n",
       "        vertical-align: middle;\n",
       "    }\n",
       "\n",
       "    .dataframe tbody tr th {\n",
       "        vertical-align: top;\n",
       "    }\n",
       "\n",
       "    .dataframe thead th {\n",
       "        text-align: right;\n",
       "    }\n",
       "</style>\n",
       "<table border=\"1\" class=\"dataframe\">\n",
       "  <thead>\n",
       "    <tr style=\"text-align: right;\">\n",
       "      <th></th>\n",
       "      <th>std_yyyy</th>\n",
       "      <th>var</th>\n",
       "      <th>rank</th>\n",
       "      <th>freq</th>\n",
       "      <th>rank_min</th>\n",
       "      <th>rank_max</th>\n",
       "      <th>rank_mean</th>\n",
       "      <th>rank_sum</th>\n",
       "    </tr>\n",
       "  </thead>\n",
       "  <tbody>\n",
       "    <tr>\n",
       "      <th>0</th>\n",
       "      <td>2002</td>\n",
       "      <td>inc_wage</td>\n",
       "      <td>NaN</td>\n",
       "      <td>15807091</td>\n",
       "      <td>NaN</td>\n",
       "      <td>NaN</td>\n",
       "      <td>NaN</td>\n",
       "      <td>NaN</td>\n",
       "    </tr>\n",
       "    <tr>\n",
       "      <th>1</th>\n",
       "      <td>2002</td>\n",
       "      <td>prop_txb</td>\n",
       "      <td>NaN</td>\n",
       "      <td>15807091</td>\n",
       "      <td>NaN</td>\n",
       "      <td>NaN</td>\n",
       "      <td>NaN</td>\n",
       "      <td>NaN</td>\n",
       "    </tr>\n",
       "    <tr>\n",
       "      <th>2</th>\n",
       "      <td>2003</td>\n",
       "      <td>inc_wage</td>\n",
       "      <td>NaN</td>\n",
       "      <td>12151505</td>\n",
       "      <td>NaN</td>\n",
       "      <td>NaN</td>\n",
       "      <td>NaN</td>\n",
       "      <td>NaN</td>\n",
       "    </tr>\n",
       "    <tr>\n",
       "      <th>3</th>\n",
       "      <td>2003</td>\n",
       "      <td>inc_wage</td>\n",
       "      <td>0.0</td>\n",
       "      <td>37808</td>\n",
       "      <td>1.0</td>\n",
       "      <td>590000.0</td>\n",
       "      <td>350751.65404</td>\n",
       "      <td>1.326122e+10</td>\n",
       "    </tr>\n",
       "    <tr>\n",
       "      <th>4</th>\n",
       "      <td>2003</td>\n",
       "      <td>inc_wage</td>\n",
       "      <td>1.0</td>\n",
       "      <td>37646</td>\n",
       "      <td>590060.0</td>\n",
       "      <td>874390.0</td>\n",
       "      <td>740548.90156</td>\n",
       "      <td>2.787870e+10</td>\n",
       "    </tr>\n",
       "  </tbody>\n",
       "</table>\n",
       "</div>"
      ],
      "text/plain": [
       "   std_yyyy       var  rank      freq  rank_min  rank_max     rank_mean  \\\n",
       "0      2002  inc_wage   NaN  15807091       NaN       NaN           NaN   \n",
       "1      2002  prop_txb   NaN  15807091       NaN       NaN           NaN   \n",
       "2      2003  inc_wage   NaN  12151505       NaN       NaN           NaN   \n",
       "3      2003  inc_wage   0.0     37808       1.0  590000.0  350751.65404   \n",
       "4      2003  inc_wage   1.0     37646  590060.0  874390.0  740548.90156   \n",
       "\n",
       "       rank_sum  \n",
       "0           NaN  \n",
       "1           NaN  \n",
       "2           NaN  \n",
       "3  1.326122e+10  \n",
       "4  2.787870e+10  "
      ]
     },
     "execution_count": 20,
     "metadata": {},
     "output_type": "execute_result"
    }
   ],
   "source": [
    "centiles.head()"
   ]
  },
  {
   "cell_type": "code",
   "execution_count": 21,
   "metadata": {},
   "outputs": [],
   "source": [
    "centiles.loc[:, 'var'] = centiles['var'].apply(lambda x: 'prop_txbs_hs' if x == 'prop_txb' else x)"
   ]
  },
  {
   "cell_type": "code",
   "execution_count": 15,
   "metadata": {},
   "outputs": [],
   "source": [
    "inc_tot_centiles['var'] = 'inc_tot'"
   ]
  },
  {
   "cell_type": "code",
   "execution_count": 23,
   "metadata": {},
   "outputs": [],
   "source": [
    "inc_tot_centiles.loc[:, 'rank_mean'] = inc_tot_centiles['rank_sum'] / inc_tot_centiles['freq']"
   ]
  },
  {
   "cell_type": "code",
   "execution_count": 24,
   "metadata": {},
   "outputs": [],
   "source": [
    "centiles = centiles.append(inc_tot_centiles)"
   ]
  },
  {
   "cell_type": "code",
   "execution_count": 59,
   "metadata": {
    "jupyter": {
     "source_hidden": true
    }
   },
   "outputs": [],
   "source": [
    "year = widgets.IntSlider(\n",
    "    value=2018,\n",
    "    min=2003,\n",
    "    max=2018,\n",
    "    step=1.0,\n",
    "    description='연도',\n",
    "    continuous_update=False\n",
    ")\n",
    "\n",
    "variable = widgets.Dropdown(\n",
    "    options=list(centiles['var'].unique()),\n",
    "    value='inc_tot',\n",
    "    description='변수',\n",
    ")\n",
    "\n",
    "fix_y_range = widgets.Checkbox(\n",
    "    description='y축 범위 고정?',\n",
    "    value=True,\n",
    ")\n",
    "# Assign an empty figure widget with two traces\n",
    "trace1 = go.Scatter(x=centiles['rank'], y=centiles['rank_mean'], fill='tozeroy')\n",
    "g = go.FigureWidget(data=[trace1],\n",
    "                    layout=go.Layout(\n",
    "                        title=dict(\n",
    "                            text='100분위 분위별 평균'\n",
    "                        ),\n",
    "                    ))"
   ]
  },
  {
   "cell_type": "code",
   "execution_count": 63,
   "metadata": {
    "jupyter": {
     "source_hidden": true
    }
   },
   "outputs": [],
   "source": [
    "def response(change):\n",
    "    filter_list = (centiles['std_yyyy'] == year.value) & (centiles['var'] == variable.value)\n",
    "    temp_df = centiles[filter_list]\n",
    "\n",
    "    x1 = temp_df['rank']\n",
    "    with g.batch_update():\n",
    "        g.data[0].x = x1\n",
    "        g.data[0].y = temp_df['rank_mean']\n",
    "        g.layout.xaxis.title = '분위'\n",
    "        g.layout.yaxis.title = f'평균 {variable.value}'\n",
    "        if fix_y_range.value:\n",
    "            if variable.value == 'inc_tot':\n",
    "                g.layout.yaxis.range = [0., 500*1e6]\n",
    "            elif variable.value == 'inc_wage':\n",
    "                g.layout.yaxis.range = [0., 400*1e6]\n",
    "            else:\n",
    "                g.layout.yaxis.range = [0., 1.4*1e9]\n",
    "        else:\n",
    "            g.layout.yaxis.autorange = True\n",
    "\n",
    "year.observe(response, names=\"value\")\n",
    "fix_y_range.observe(response, names=\"value\")\n",
    "variable.observe(response, names=\"value\")"
   ]
  },
  {
   "cell_type": "code",
   "execution_count": 64,
   "metadata": {},
   "outputs": [
    {
     "data": {
      "application/vnd.jupyter.widget-view+json": {
       "model_id": "3e2661121e9a45dea1aeb87ee4f26317",
       "version_major": 2,
       "version_minor": 0
      },
      "text/plain": [
       "VBox(children=(HBox(children=(Dropdown(description='변수', options=('inc_wage', 'prop_txbs_hs', 'inc_tot'), valu…"
      ]
     },
     "metadata": {},
     "output_type": "display_data"
    }
   ],
   "source": [
    "container = widgets.HBox(children=[variable, fix_y_range, year])\n",
    "\n",
    "widgets.VBox([container, g])"
   ]
  },
  {
   "cell_type": "markdown",
   "metadata": {},
   "source": [
    "## 상위 1% 1000분위 분위별 평균"
   ]
  },
  {
   "cell_type": "code",
   "execution_count": 95,
   "metadata": {},
   "outputs": [],
   "source": [
    "year1p = widgets.IntSlider(\n",
    "    value=2018,\n",
    "    min=2003,\n",
    "    max=2018,\n",
    "    step=1.0,\n",
    "    description='연도',\n",
    "    continuous_update=False\n",
    ")\n",
    "\n",
    "variable1p = widgets.Dropdown(\n",
    "    options=list(toppct['var'].unique()),\n",
    "    value='inc_wage',\n",
    "    description='변수',\n",
    ")\n",
    "\n",
    "fix_y_range1p = widgets.Checkbox(\n",
    "    description='y축 범위 고정?',\n",
    "    value=True,\n",
    ")\n",
    "# Assign an empty figure widget with two traces\n",
    "trace2 = go.Scatter(x=toppct['rank'], y=toppct['rank_mean'], fill='tozeroy')\n",
    "g = go.FigureWidget(data=[trace2],\n",
    "                    layout=go.Layout(\n",
    "                        title=dict(\n",
    "                            text='100분위 분위별 평균'\n",
    "                        ),\n",
    "                    ))"
   ]
  },
  {
   "cell_type": "code",
   "execution_count": 100,
   "metadata": {},
   "outputs": [],
   "source": [
    "def response(change):\n",
    "    filter_list = (toppct['std_yyyy'] == year1p.value) & (toppct['var'] == variable1p.value)\n",
    "    temp_df = toppct[filter_list]\n",
    "\n",
    "    x1 = temp_df['rank']\n",
    "    with g.batch_update():\n",
    "        g.data[0].x = x1\n",
    "        g.data[0].y = temp_df['rank_mean']\n",
    "        g.layout.xaxis.title = '분위'\n",
    "        g.layout.yaxis.title = f'평균 {variable1p.value}'\n",
    "        if fix_y_range1p.value:\n",
    "            if variable1p.value == 'inc_tot':\n",
    "                g.layout.yaxis.range = [0., 5000*1e6]\n",
    "            elif variable1p.value == 'inc_wage':\n",
    "                g.layout.yaxis.range = [0.,12*1e9]\n",
    "            else:\n",
    "                g.layout.yaxis.range = [0., 20*1e9]\n",
    "        else:\n",
    "            g.layout.yaxis.autorange = True\n",
    "\n",
    "year1p.observe(response, names=\"value\")\n",
    "fix_y_range1p.observe(response, names=\"value\")\n",
    "variable1p.observe(response, names=\"value\")"
   ]
  },
  {
   "cell_type": "code",
   "execution_count": 101,
   "metadata": {},
   "outputs": [
    {
     "data": {
      "application/vnd.jupyter.widget-view+json": {
       "model_id": "436aaa03421a4af1845f2dcddb38c09b",
       "version_major": 2,
       "version_minor": 0
      },
      "text/plain": [
       "VBox(children=(HBox(children=(Dropdown(description='변수', index=1, options=('inc_wage', 'prop_txb'), value='pro…"
      ]
     },
     "metadata": {},
     "output_type": "display_data"
    }
   ],
   "source": [
    "container = widgets.HBox(children=[variable1p, fix_y_range1p, year1p])\n",
    "\n",
    "widgets.VBox([container, g])"
   ]
  },
  {
   "cell_type": "code",
   "execution_count": 69,
   "metadata": {},
   "outputs": [],
   "source": [
    "toppct = pd.read_csv(data_dir / '03_quantiles' / 'seoul_indi_top1p_1000tile.csv')"
   ]
  },
  {
   "cell_type": "code",
   "execution_count": 89,
   "metadata": {},
   "outputs": [],
   "source": [
    "inc_tot_toppct = pd.read_csv(gdrive / '03_quantiles'/ 'bfc_seoul_indi_toppct_inc_tot-상위1프로1000분위.csv')\n",
    "inc_tot_toppct.loc[:, 'rank_mean'] = inc_tot_toppct['rank_sum'] / inc_tot_toppct['freq']\n",
    "inc_tot_toppct.loc[:, 'var'] = 'inc_tot'"
   ]
  },
  {
   "cell_type": "code",
   "execution_count": 103,
   "metadata": {},
   "outputs": [
    {
     "data": {
      "text/html": [
       "<div>\n",
       "<style scoped>\n",
       "    .dataframe tbody tr th:only-of-type {\n",
       "        vertical-align: middle;\n",
       "    }\n",
       "\n",
       "    .dataframe tbody tr th {\n",
       "        vertical-align: top;\n",
       "    }\n",
       "\n",
       "    .dataframe thead th {\n",
       "        text-align: right;\n",
       "    }\n",
       "</style>\n",
       "<table border=\"1\" class=\"dataframe\">\n",
       "  <thead>\n",
       "    <tr style=\"text-align: right;\">\n",
       "      <th></th>\n",
       "      <th></th>\n",
       "      <th>rank</th>\n",
       "      <th>freq</th>\n",
       "      <th>rank_min</th>\n",
       "      <th>rank_max</th>\n",
       "      <th>rank_sum</th>\n",
       "      <th>rank_mean</th>\n",
       "    </tr>\n",
       "    <tr>\n",
       "      <th>std_yyyy</th>\n",
       "      <th>var</th>\n",
       "      <th></th>\n",
       "      <th></th>\n",
       "      <th></th>\n",
       "      <th></th>\n",
       "      <th></th>\n",
       "      <th></th>\n",
       "    </tr>\n",
       "  </thead>\n",
       "  <tbody>\n",
       "    <tr>\n",
       "      <th>2013</th>\n",
       "      <th>inc_tot</th>\n",
       "      <td>499500</td>\n",
       "      <td>81150</td>\n",
       "      <td>406210802983</td>\n",
       "      <td>506109252753</td>\n",
       "      <td>3.367990e+13</td>\n",
       "      <td>4.150788e+11</td>\n",
       "    </tr>\n",
       "    <tr>\n",
       "      <th>2014</th>\n",
       "      <th>inc_tot</th>\n",
       "      <td>498553</td>\n",
       "      <td>84515</td>\n",
       "      <td>414616919216</td>\n",
       "      <td>445800276628</td>\n",
       "      <td>3.567321e+13</td>\n",
       "      <td>4.210696e+11</td>\n",
       "    </tr>\n",
       "    <tr>\n",
       "      <th>2015</th>\n",
       "      <th>inc_tot</th>\n",
       "      <td>499500</td>\n",
       "      <td>88552</td>\n",
       "      <td>417631084355</td>\n",
       "      <td>577333849050</td>\n",
       "      <td>3.774811e+13</td>\n",
       "      <td>4.263496e+11</td>\n",
       "    </tr>\n",
       "    <tr>\n",
       "      <th>2016</th>\n",
       "      <th>inc_tot</th>\n",
       "      <td>498544</td>\n",
       "      <td>91530</td>\n",
       "      <td>424946356278</td>\n",
       "      <td>494707635069</td>\n",
       "      <td>3.969486e+13</td>\n",
       "      <td>4.325374e+11</td>\n",
       "    </tr>\n",
       "    <tr>\n",
       "      <th>2017</th>\n",
       "      <th>inc_tot</th>\n",
       "      <td>499500</td>\n",
       "      <td>95199</td>\n",
       "      <td>450016999061</td>\n",
       "      <td>493734944389</td>\n",
       "      <td>4.358139e+13</td>\n",
       "      <td>4.578329e+11</td>\n",
       "    </tr>\n",
       "    <tr>\n",
       "      <th>2018</th>\n",
       "      <th>inc_tot</th>\n",
       "      <td>499500</td>\n",
       "      <td>98050</td>\n",
       "      <td>461223648904</td>\n",
       "      <td>510015009122</td>\n",
       "      <td>4.594367e+13</td>\n",
       "      <td>4.685961e+11</td>\n",
       "    </tr>\n",
       "  </tbody>\n",
       "</table>\n",
       "</div>"
      ],
      "text/plain": [
       "                    rank   freq      rank_min      rank_max      rank_sum  \\\n",
       "std_yyyy var                                                                \n",
       "2013     inc_tot  499500  81150  406210802983  506109252753  3.367990e+13   \n",
       "2014     inc_tot  498553  84515  414616919216  445800276628  3.567321e+13   \n",
       "2015     inc_tot  499500  88552  417631084355  577333849050  3.774811e+13   \n",
       "2016     inc_tot  498544  91530  424946356278  494707635069  3.969486e+13   \n",
       "2017     inc_tot  499500  95199  450016999061  493734944389  4.358139e+13   \n",
       "2018     inc_tot  499500  98050  461223648904  510015009122  4.594367e+13   \n",
       "\n",
       "                     rank_mean  \n",
       "std_yyyy var                    \n",
       "2013     inc_tot  4.150788e+11  \n",
       "2014     inc_tot  4.210696e+11  \n",
       "2015     inc_tot  4.263496e+11  \n",
       "2016     inc_tot  4.325374e+11  \n",
       "2017     inc_tot  4.578329e+11  \n",
       "2018     inc_tot  4.685961e+11  "
      ]
     },
     "execution_count": 103,
     "metadata": {},
     "output_type": "execute_result"
    }
   ],
   "source": [
    "inc_tot_toppct.groupby(['std_yyyy', 'var']).sum().tail(6)"
   ]
  },
  {
   "cell_type": "code",
   "execution_count": 102,
   "metadata": {},
   "outputs": [
    {
     "data": {
      "text/html": [
       "<div>\n",
       "<style scoped>\n",
       "    .dataframe tbody tr th:only-of-type {\n",
       "        vertical-align: middle;\n",
       "    }\n",
       "\n",
       "    .dataframe tbody tr th {\n",
       "        vertical-align: top;\n",
       "    }\n",
       "\n",
       "    .dataframe thead th {\n",
       "        text-align: right;\n",
       "    }\n",
       "</style>\n",
       "<table border=\"1\" class=\"dataframe\">\n",
       "  <thead>\n",
       "    <tr style=\"text-align: right;\">\n",
       "      <th></th>\n",
       "      <th></th>\n",
       "      <th>rank</th>\n",
       "      <th>freq</th>\n",
       "      <th>rank_min</th>\n",
       "      <th>rank_max</th>\n",
       "      <th>rank_mean</th>\n",
       "      <th>rank_sum</th>\n",
       "    </tr>\n",
       "    <tr>\n",
       "      <th>std_yyyy</th>\n",
       "      <th>var</th>\n",
       "      <th></th>\n",
       "      <th></th>\n",
       "      <th></th>\n",
       "      <th></th>\n",
       "      <th></th>\n",
       "      <th></th>\n",
       "    </tr>\n",
       "  </thead>\n",
       "  <tbody>\n",
       "    <tr>\n",
       "      <th rowspan=\"2\" valign=\"top\">2016</th>\n",
       "      <th>inc_wage</th>\n",
       "      <td>496547</td>\n",
       "      <td>36567</td>\n",
       "      <td>377141079372</td>\n",
       "      <td>392523851359</td>\n",
       "      <td>3.826914e+11</td>\n",
       "      <td>1.406555e+13</td>\n",
       "    </tr>\n",
       "    <tr>\n",
       "      <th>prop_txb</th>\n",
       "      <td>455684</td>\n",
       "      <td>25850</td>\n",
       "      <td>1088284543292</td>\n",
       "      <td>1127458612895</td>\n",
       "      <td>1.098685e+12</td>\n",
       "      <td>3.223484e+13</td>\n",
       "    </tr>\n",
       "    <tr>\n",
       "      <th rowspan=\"2\" valign=\"top\">2017</th>\n",
       "      <th>inc_wage</th>\n",
       "      <td>496211</td>\n",
       "      <td>37158</td>\n",
       "      <td>396687268022</td>\n",
       "      <td>429330757989</td>\n",
       "      <td>4.043447e+11</td>\n",
       "      <td>1.512456e+13</td>\n",
       "    </tr>\n",
       "    <tr>\n",
       "      <th>prop_txb</th>\n",
       "      <td>454047</td>\n",
       "      <td>26211</td>\n",
       "      <td>1183974572651</td>\n",
       "      <td>1228420303007</td>\n",
       "      <td>1.196545e+12</td>\n",
       "      <td>3.571266e+13</td>\n",
       "    </tr>\n",
       "    <tr>\n",
       "      <th rowspan=\"2\" valign=\"top\">2018</th>\n",
       "      <th>inc_wage</th>\n",
       "      <td>495558</td>\n",
       "      <td>37875</td>\n",
       "      <td>406935983959</td>\n",
       "      <td>426750289563</td>\n",
       "      <td>4.124247e+11</td>\n",
       "      <td>1.574977e+13</td>\n",
       "    </tr>\n",
       "    <tr>\n",
       "      <th>prop_txb</th>\n",
       "      <td>439194</td>\n",
       "      <td>26291</td>\n",
       "      <td>1255370374170</td>\n",
       "      <td>1305626560367</td>\n",
       "      <td>1.268547e+12</td>\n",
       "      <td>3.911712e+13</td>\n",
       "    </tr>\n",
       "  </tbody>\n",
       "</table>\n",
       "</div>"
      ],
      "text/plain": [
       "                     rank   freq       rank_min       rank_max     rank_mean  \\\n",
       "std_yyyy var                                                                   \n",
       "2016     inc_wage  496547  36567   377141079372   392523851359  3.826914e+11   \n",
       "         prop_txb  455684  25850  1088284543292  1127458612895  1.098685e+12   \n",
       "2017     inc_wage  496211  37158   396687268022   429330757989  4.043447e+11   \n",
       "         prop_txb  454047  26211  1183974572651  1228420303007  1.196545e+12   \n",
       "2018     inc_wage  495558  37875   406935983959   426750289563  4.124247e+11   \n",
       "         prop_txb  439194  26291  1255370374170  1305626560367  1.268547e+12   \n",
       "\n",
       "                       rank_sum  \n",
       "std_yyyy var                     \n",
       "2016     inc_wage  1.406555e+13  \n",
       "         prop_txb  3.223484e+13  \n",
       "2017     inc_wage  1.512456e+13  \n",
       "         prop_txb  3.571266e+13  \n",
       "2018     inc_wage  1.574977e+13  \n",
       "         prop_txb  3.911712e+13  "
      ]
     },
     "execution_count": 102,
     "metadata": {},
     "output_type": "execute_result"
    }
   ],
   "source": [
    "toppct.groupby(['std_yyyy', 'var']).sum().tail(6)"
   ]
  },
  {
   "cell_type": "code",
   "execution_count": null,
   "metadata": {},
   "outputs": [],
   "source": []
  }
 ],
 "metadata": {
  "kernelspec": {
   "display_name": "Python [conda env:ubi] *",
   "language": "python",
   "name": "conda-env-ubi-py"
  },
  "language_info": {
   "codemirror_mode": {
    "name": "ipython",
    "version": 3
   },
   "file_extension": ".py",
   "mimetype": "text/x-python",
   "name": "python",
   "nbconvert_exporter": "python",
   "pygments_lexer": "ipython3",
   "version": "3.8.5"
  }
 },
 "nbformat": 4,
 "nbformat_minor": 4
}
